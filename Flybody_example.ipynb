{
 "cells": [
  {
   "cell_type": "markdown",
   "id": "d74fd7a9-ea14-422a-919b-ba34ce8b0186",
   "metadata": {},
   "source": [
    "# Getting started with `flybody`\n",
    "<a target=\"_blank\" href=\"https://colab.research.google.com//github/elliottabe/mujoco_workshop2024/blob/main/Flybody_example.ipynb\">\n",
    "  <img src=\"https://colab.research.google.com/assets/colab-badge.svg\" alt=\"Open In Colab\"/></a>\n",
    "</a>\n",
    "<br>\n",
    "<br>\n",
    "\n",
    "**A Colab runtime with GPU acceleration is required.** If you're using a CPU-only runtime, you can switch using the menu \"Runtime > Change runtime type\".\n",
    "\n",
    "\n",
    "This notebook was copied and modified from [Turaga lab github](https://github.com/TuragaLab/flybody/blob/main/docs/getting-started.ipynb)\n",
    "\n",
    "`flybody` is an anatomically-detailed body model of the fruit fly _Drosophila melanogaster_ for MuJoCo physics simulator and reinforcement learning (RL) applications. The fly model was developed in a collaborative effort by Google DeepMind and HHMI Janelia Research Campus. We envision our model as a platform for fruit fly biophysics simulations and for modeling neural control of sensorimotor behavior in an embodied context.\n",
    "\n",
    "This notebook presents several python examples of our MuJoCo fly model manipulations using `dm_control`.\n",
    "\n",
    "For more background information, please explore:\n",
    "\n",
    "* [MuJoCo documentation](https://mujoco.readthedocs.io/en/stable/overview.html)\n",
    "* [MuJoCo](https://github.com/google-deepmind/mujoco) and tutorials therein\n",
    "* [dm_control](https://github.com/google-deepmind/dm_control) and tutorials therein\n",
    "* dm_control [paper](https://arxiv.org/abs/2006.12983)\n",
    "* [PyMJCF](https://github.com/google-deepmind/dm_control/blob/main/dm_control/mjcf/README.md)"
   ]
  },
  {
   "cell_type": "markdown",
   "id": "25a5d12f-0f81-40a4-8947-1708fa2695da",
   "metadata": {},
   "source": [
    "## Installing `flybody` on Colab\n",
    "### _If running notebook locally, skip this cell!_"
   ]
  },
  {
   "cell_type": "code",
   "execution_count": null,
   "id": "3f872837-7350-4d98-bffd-d37fcba65529",
   "metadata": {},
   "outputs": [],
   "source": [
    "# If in Colab, run this cell to install flybody. Don't forget to select GPU!!\n",
    "# Otherwise, if running notebook locally, skip this cell.\n",
    "import platform\n",
    "import os\n",
    "import subprocess\n",
    "if platform.system() != 'Darwin':\n",
    "  if subprocess.run('nvidia-smi').returncode:\n",
    "    raise RuntimeError(\n",
    "        'Cannot communicate with GPU. '\n",
    "        'Make sure you are using a GPU Colab runtime. '\n",
    "        'Go to the Runtime menu and select Choose runtime type.')\n",
    "\n",
    "  # Add an ICD config so that glvnd can pick up the Nvidia EGL driver.\n",
    "  # This is usually installed as part of an Nvidia driver package, but the Colab\n",
    "  # kernel doesn't install its driver via APT, and as a result the ICD is missing.\n",
    "  # (https://github.com/NVIDIA/libglvnd/blob/master/src/EGL/icd_enumeration.md)\n",
    "  NVIDIA_ICD_CONFIG_PATH = '/usr/share/glvnd/egl_vendor.d/10_nvidia.json'\n",
    "  if not os.path.exists(NVIDIA_ICD_CONFIG_PATH):\n",
    "    with open(NVIDIA_ICD_CONFIG_PATH, 'w') as f:\n",
    "      f.write(\"\"\"{\n",
    "      \"file_format_version\" : \"1.0.0\",\n",
    "      \"ICD\" : {\n",
    "          \"library_path\" : \"libEGL_nvidia.so.0\"\n",
    "      }\n",
    "  }\n",
    "  \"\"\")\n",
    "\n",
    "!pip install --upgrade pip\n",
    "!python -m pip install git+https://github.com/TuragaLab/flybody.git\n",
    "import sys\n",
    "if 'mujoco_workshop2025' not in os.getcwd():\n",
    "  !git clone https://github.com/elliottabe/mujoco_workshop2024.git\n",
    "  sys.path.insert(0, os.getcwd() + '/mujoco_workshop2025')\n",
    "else: \n",
    "  sys.path.insert(0, os.getcwd())\n",
    "# Configure MuJoCo to use the EGL rendering backend (requires GPU).\n",
    "%env MUJOCO_GL=egl"
   ]
  },
  {
   "cell_type": "markdown",
   "id": "a02b0f6e-363a-411b-87ba-7ee9377bf243",
   "metadata": {},
   "source": [
    "# Imports"
   ]
  },
  {
   "cell_type": "code",
   "execution_count": null,
   "id": "8a69a8d6-9492-445a-b395-1729d192977d",
   "metadata": {},
   "outputs": [],
   "source": [
    "import os\n",
    "\n",
    "import numpy as np\n",
    "import matplotlib.pyplot as plt\n",
    "import PIL.ImageDraw\n",
    "\n",
    "import mujoco\n",
    "from tqdm import tqdm\n",
    "from pathlib import Path\n",
    "from typing import Sequence\n",
    "import mediapy as media\n",
    "# from dm_control import mujoco\n",
    "# from dm_control import mjcf\n",
    "# from dm_control.mujoco.wrapper.mjbindings import enums\n",
    "# from dm_control.mujoco.wrapper.mjbindings import mjlib\n",
    "# import flybody\n",
    "# from flybody.fly_envs import walk_on_ball\n",
    "# from flybody.utils import display_video, any_substr_in_str"
   ]
  },
  {
   "cell_type": "code",
   "execution_count": null,
   "id": "036a6081-711e-40b9-a1c5-20a6b15c755e",
   "metadata": {},
   "outputs": [],
   "source": [
    "# Frame size and camera name-to-idx mapping for rendering.\n",
    "frame_size = {'width': 640, 'height': 480}\n",
    "cameras = {'track1': 0, 'track2': 1, 'track3': 2,\n",
    "           'back': 3, 'side': 4, 'bottom': 5, 'hero': 6,\n",
    "           'eye_right': 7, 'eye_left': 8}"
   ]
  },
  {
   "cell_type": "code",
   "execution_count": null,
   "id": "b1126e38",
   "metadata": {},
   "outputs": [],
   "source": [
    "def any_substr_in_str(substrings: Sequence[str], string: str) -> bool:\n",
    "    \"\"\"Checks if any of substrings is in string.\"\"\"\n",
    "    return any(s in string for s in substrings)\n",
    "\n",
    "def render_frame(model, data, camera='hero', height=512, width=512, scene_option=None):\n",
    "    mujoco.mj_forward(model, data)\n",
    "    with mujoco.Renderer(model, height=height, width=width) as renderer:\n",
    "        renderer.update_scene(data, camera=f\"{camera}\", scene_option=scene_option)\n",
    "        pixels = renderer.render()\n",
    "    return pixels"
   ]
  },
  {
   "cell_type": "markdown",
   "id": "468c793f-cc92-4c8f-a16a-1be5ac61af0c",
   "metadata": {},
   "source": [
    "# Stand-alone fly model (outside of RL environment)"
   ]
  },
  {
   "cell_type": "markdown",
   "id": "e518f69c",
   "metadata": {},
   "source": [
    "***Note:*** the flybody model was build with dm_control in mind so the way in you interact with it can be slightly different. the `phyiscs` object contains both `mjData` and `mjModel` structures like the previous notebook. In addition, the `physics` object has some helper functions that make accessing parts of the model easier.  "
   ]
  },
  {
   "cell_type": "markdown",
   "id": "adc74787-27bf-47a5-8285-1afbcfb1eb46",
   "metadata": {},
   "source": [
    "## Load the MuJoCo fly model\n",
    "Let's load the fly model XML file `fruitfly.xml`, directly compile it to a `MjSpec` object, and print some of the model's parameters. Note that in addition to the fly itself, the # of bodies includes one additional worldbody, joints include one freejoint connecting the fly with the worldbody, and the freejoint contributes six additional degrees of freedom (3 translation, 3 rotation)."
   ]
  },
  {
   "cell_type": "code",
   "execution_count": null,
   "id": "8e1be01a-8a27-49a2-b164-5c33c70b3850",
   "metadata": {},
   "outputs": [],
   "source": [
    "flybody_path = Path.cwd() / 'Models/fruitfly'\n",
    "xml_path = flybody_path /'fruitfly.xml'\n",
    "\n",
    "spec = mujoco.MjSpec()\n",
    "spec = spec.from_file(xml_path.as_posix())\n",
    "model = spec.compile()\n",
    "\n",
    "print('# of bodies:', model.nbody)\n",
    "print('# of degrees of freedom:', model.nv)\n",
    "print('# of joints:', model.njnt)\n",
    "print('# of actuators:', model.nu)\n",
    "print(\"fly's mass (gr):\", model.body_subtreemass[1])"
   ]
  },
  {
   "cell_type": "markdown",
   "id": "63d0daf6-36c6-4559-9277-73e3e60dda3b",
   "metadata": {},
   "source": [
    "## Visualize the fly as loaded\n",
    "As initialized, the fly is in its default resting pose where all the joint angles stored in `data.qpos` are set to zero. `data.qpos` is a view onto the underlying MuJoCo's `mjData->qpos` data structure which holds the generalized coordinates of the model. Note that the entries `qpos[:3]` correspond to the Cartesian xyz position of the root freejoint in world coordinates, and `qpos[3:7]` is the quaternion representing the root joint orientation, initially set to unit quaternion `[1, 0, 0, 0]` by default. The rest of the elements `qpos[7:]` represent joint angles of all the hinge joints of our fly model."
   ]
  },
  {
   "cell_type": "code",
   "execution_count": null,
   "id": "c06d4d4b-71c8-4df2-a75f-ac298ac30686",
   "metadata": {},
   "outputs": [],
   "source": [
    "data = mujoco.MjData(model)\n",
    "data.qpos"
   ]
  },
  {
   "cell_type": "markdown",
   "id": "1c3e2038-736d-4ffb-aaa7-3debd1d66fe6",
   "metadata": {},
   "source": [
    "Visualizing several views from different cameras: \"hero\" and \"bottom\" cameras"
   ]
  },
  {
   "cell_type": "code",
   "execution_count": null,
   "id": "33d36287-695e-47ed-9f7c-1500a3e310c1",
   "metadata": {},
   "outputs": [],
   "source": [
    "height, width = 512,512\n",
    "camera = 'hero'\n",
    "pixels = render_frame(model, data, camera=camera, height=height, width=width)\n",
    "PIL.Image.fromarray(pixels)"
   ]
  },
  {
   "cell_type": "code",
   "execution_count": null,
   "id": "d992387c-78fa-4063-beb0-e00aafcd8615",
   "metadata": {},
   "outputs": [],
   "source": [
    "height, width = 512,512\n",
    "camera = 'bottom'\n",
    "pixels = render_frame(model, data, camera=camera, height=height, width=width)\n",
    "PIL.Image.fromarray(pixels)"
   ]
  },
  {
   "cell_type": "markdown",
   "id": "6361a0b8-591e-4570-8529-f74c0d64126a",
   "metadata": {},
   "source": [
    "We can hide the external cosmetic meshes and expose the collision geom primitives, shown in blue. Also notice the adhesive geoms shown in purple and ellipsoidal wing geoms used for fluid (air) interactions during flight simulation (orange)."
   ]
  },
  {
   "cell_type": "code",
   "execution_count": null,
   "id": "0da4dd75-ad8a-4da0-a52a-5ab4a87e1e30",
   "metadata": {},
   "outputs": [],
   "source": [
    "scene_option = mujoco.MjvOption()\n",
    "scene_option.geomgroup[1] = 0  # Hide external meshes.\n",
    "scene_option.geomgroup[3] = 1  # Make fluid-interactions wing ellipsoids visible (orange).\n",
    "scene_option.geomgroup[4] = 1  # Make collision geoms visible (blue).\n",
    "height, width = 512,512\n",
    "camera = 'hero'\n",
    "pixels = render_frame(model, data, camera=camera, height=height, width=width, scene_option=scene_option)\n",
    "PIL.Image.fromarray(pixels)"
   ]
  },
  {
   "cell_type": "markdown",
   "id": "c4ebe6e2-8d4b-40fe-94fe-ad8cea5456e0",
   "metadata": {},
   "source": [
    "## Load with floor and visualize\n",
    "We can also load the fly model combined with a simple flat floor (and a skybox) to make more physically meaningful simulations"
   ]
  },
  {
   "cell_type": "code",
   "execution_count": null,
   "id": "98f35ea2-eef9-4f38-ac28-d65eaa6bed77",
   "metadata": {},
   "outputs": [],
   "source": [
    "xml_path_floor = flybody_path/ 'floor.xml'\n",
    "\n",
    "model = mujoco.MjModel.from_xml_path(xml_path_floor.as_posix())\n",
    "data = mujoco.MjData(model)\n",
    "mujoco.mj_forward(model, data)\n",
    "height, width = 512,512\n",
    "camera = 'hero'\n",
    "pixels = render_frame(model, data, camera=camera, height=height, width=width)\n",
    "PIL.Image.fromarray(pixels)"
   ]
  },
  {
   "cell_type": "markdown",
   "id": "c7728190-c657-42aa-a008-641c0b55aa6e",
   "metadata": {},
   "source": [
    "## Kinematic manipulations\n",
    "Let's try out a few simple kinematic manipulations with the fly model, i.e., without computing any forces yet, we'll put the body in several poses.\n",
    "\n",
    "For example, we can start from the default rest position in the previous image and rotate the fly around the z-axis (vertical axis, points up) by a certain angle. This will require updating the root joint quaternion stored at `qpos[3:7]`.\n",
    "\n",
    "For the purpose of kinematic manipulations, in addition to writing into `qpos`, we will have to update other position-related entries in MuJoCo's `mjData` data structure. One way of doing this is using `physics.reset_context()` (see [dm_control paper](https://arxiv.org/abs/2006.12983) for more detail)."
   ]
  },
  {
   "cell_type": "code",
   "execution_count": null,
   "id": "724c69f1",
   "metadata": {},
   "outputs": [],
   "source": []
  },
  {
   "cell_type": "code",
   "execution_count": null,
   "id": "c2db99a6-7d23-4035-a6a6-733fc812416d",
   "metadata": {},
   "outputs": [],
   "source": [
    "# Construct new root joint quaternion: 90 degree rotation around z-axis.\n",
    "angle = np.pi / 2\n",
    "quat = np.array([np.cos(angle/2), 0, 0, np.sin(angle/2)])\n",
    "# Write into qpos and update other related quantities in mjData.\n",
    "data.qpos[3:7] = quat\n",
    "pixels = render_frame(model, data, camera=camera, height=height, width=width)\n",
    "PIL.Image.fromarray(pixels)"
   ]
  },
  {
   "cell_type": "markdown",
   "id": "70435239-84ec-4e9a-96c2-bd6bb1b18d34",
   "metadata": {},
   "source": [
    "Now we can try something a bit more involved.\n",
    "\n",
    "Let's start from the default rest position again and try to fold the wings. In the model, each wing is connected to the thorax by three hinge joints (yaw, roll, pitch), effectively representing a 3-degree-of-freedom ball joint. We will need to find the wing joint angles corresponding to the folded wing position. This can be done as follows. \n",
    "\n",
    "In addition to the actuators, most of the fly joints have weak springs attached to them. In the adsence of actuation or external forces, these springs will act to move the joints to specific pre-defined positions, such us folded wings, retracted legs for flight, holding the proboscis retracted, etc. In each case, these joint angle are stored in the joints' `springref` attribute in the XML file, and in the corresponding `qpos_spring` attribute in MuJoCo's `mjData` data structure, exposed as `physics.model.qpos_spring` through `dm_control` here.\n",
    "\n",
    "Let's locate the wing joints and read the folded-wing joint angles from the spring parameters:"
   ]
  },
  {
   "cell_type": "code",
   "execution_count": null,
   "id": "e28b4e85-1392-4f05-8fc8-3b8bbd1f4eb5",
   "metadata": {},
   "outputs": [],
   "source": [
    "wing_joints = []\n",
    "wing_joints_idx = []\n",
    "folded_wing_angles = []\n",
    "# Loop over all model joints.\n",
    "for i in range(model.njnt):\n",
    "    joint_name = mujoco.mj_id2name(model,mujoco.mju_str2Type(\"joint\"),i)\n",
    "    # If wing joint, store joint name and reference angle.\n",
    "    if 'wing' in joint_name:\n",
    "        wing_joints_idx.append(model.jnt_qposadr[i])\n",
    "        wing_joints.append(joint_name)\n",
    "        folded_wing_angles.append(model.joint(joint_name).qpos_spring)\n",
    "\n",
    "wing_joints_idx = np.array(wing_joints_idx)\n",
    "folded_wing_angles = np.array(folded_wing_angles).squeeze()\n",
    "wing_joints_idx,wing_joints, folded_wing_angles"
   ]
  },
  {
   "cell_type": "markdown",
   "id": "3af87baa-ed25-4b45-a52c-fa98c22b643b",
   "metadata": {},
   "source": [
    "Now we can write these wing angles into their corresponding fields in `qpos`. Note that we are now using named (and vectorized) indexing to write the wing angles to `qpos`."
   ]
  },
  {
   "cell_type": "code",
   "execution_count": null,
   "id": "94758ea9-10ed-4672-86b4-e4bb59bdaa24",
   "metadata": {},
   "outputs": [],
   "source": [
    "mujoco.mj_resetData(model, data)\n",
    "data.qpos[wing_joints_idx] = folded_wing_angles\n",
    "mujoco.mj_forward(model, data)\n",
    "pixels = render_frame(model, data, camera=camera, height=height, width=width)\n",
    "PIL.Image.fromarray(pixels)"
   ]
  },
  {
   "cell_type": "markdown",
   "id": "57704400-c863-4f7f-9458-773fde6d52a5",
   "metadata": {},
   "source": [
    "In the same way, we can (kinematically) put the legs into the retracted flight position, which is stored in `physics.model.qpos_spring`, as before:"
   ]
  },
  {
   "cell_type": "code",
   "execution_count": null,
   "id": "d3d5e63c-5602-4640-87ce-26aeb6733795",
   "metadata": {},
   "outputs": [],
   "source": [
    "mujoco.mj_resetData(model, data)\n",
    "# Loop over all joints.\n",
    "for i in range(model.njnt):\n",
    "    name = mujoco.mj_id2name(model,mujoco.mju_str2Type(\"joint\"),i)\n",
    "    idx = model.jnt_qposadr[i]\n",
    "    # If leg joint, set the joint angle to be equal to its corresponding\n",
    "    # reference spring angle.\n",
    "    if any_substr_in_str(['coxa', 'femur', 'tibia', 'tarsus'], name) & (model.joint(name).qpos_spring is not None):\n",
    "        data.qpos[idx] = model.joint(name).qpos_spring\n",
    "# Also, lift the fly by setting the z-coordinate of fly's root joint.\n",
    "data.qpos[2] = 1.  # Here, units: cm.\n",
    "\n",
    "pixels = render_frame(model, data, camera=camera, height=height, width=width)\n",
    "PIL.Image.fromarray(pixels)"
   ]
  },
  {
   "cell_type": "markdown",
   "id": "7ab7ef3c-0024-4da9-8cd4-ddf8d39f54ed",
   "metadata": {},
   "source": [
    "## Kinematic replay: fold wings\n",
    "Sequences of kinematically-set poses can be used for kinematic replay animations.\n",
    "\n",
    "In this example, we will gradually move the wings from their default position to the folded position we obtained before. At each step we will render a frame and in the end generate a video from the sequence of frames:"
   ]
  },
  {
   "cell_type": "code",
   "execution_count": null,
   "id": "683623e5-bbe8-4905-a52e-b58ec86b2197",
   "metadata": {},
   "outputs": [],
   "source": [
    "n_steps = 150\n",
    "frames = []\n",
    "for i in tqdm(range(n_steps)):\n",
    "    wing_angles = np.array(folded_wing_angles) * np.sin(np.pi/2 * i/n_steps)\n",
    "    data.qpos[wing_joints_idx] = wing_angles\n",
    "    pixels = render_frame(model, data, camera=camera, height=height, width=width)\n",
    "    frames.append(pixels)\n",
    "\n",
    "media.show_video(frames)"
   ]
  },
  {
   "cell_type": "markdown",
   "id": "265bdf90-aebe-4dc9-b2a6-cdd722970ecd",
   "metadata": {},
   "source": [
    "## Simulating physics: procedurally actuated body movements\n",
    "\n",
    "Now we can try to run actual physical simulations.\n",
    "\n",
    "In this example, we will procedurally control the fly's actuators and step the simulation in time to generate a sequence of movements. First, let's prepare groups of actuator names to control at each phase of the simulation. By convention, all the joint actuators in our model (in contrast to tendon actuators) have the same name as the joint they actuate."
   ]
  },
  {
   "cell_type": "code",
   "execution_count": null,
   "id": "ed284aa7-4152-4d7a-bb90-4c12d5164ecf",
   "metadata": {},
   "outputs": [],
   "source": [
    "def get_leg_actuator(leg, return_idxs=False):\n",
    "    if return_idxs:\n",
    "        return [model.actuator(name).id for name in\n",
    "                [f'{joint}_{leg}' for joint in ['coxa', 'femur', 'tibia', 'tarsus', 'tarsus2']]]\n",
    "    else:\n",
    "        return [f'{joint}_{leg}' for joint in ['coxa', 'femur', 'tibia', 'tarsus', 'tarsus2']]\n",
    "\n",
    "# Names of leg actuators.\n",
    "leg_actuators_L1 = get_leg_actuator('T1_left', return_idxs=True)\n",
    "leg_actuators_R1 = get_leg_actuator('T1_right', return_idxs=True)\n",
    "leg_actuators_L2 = get_leg_actuator('T2_left', return_idxs=True)\n",
    "\n",
    "# Amplitudes of joint motion for front and middle legs.\n",
    "amplitude_front = 0.5 * np.array([1, -1, 2, 1, 1])\n",
    "amplitude_mid = 0.5 * np.array([0.5, -0.5, -2, 1, 2])"
   ]
  },
  {
   "cell_type": "markdown",
   "id": "1e672d35-6fb9-4791-adfb-35c3bec35511",
   "metadata": {},
   "source": [
    "Now we can simulate the motion sequence. At each control step, we will be writing the control into MuJoCo's `mjData->ctrl`, exposed here as `data.ctrl`. We will also engage the leg adhesion actuators at a certain point during the motion sequence. \n",
    "\n",
    "The control semantics is the target joint angles for position actuators, and (scaled) force for force and adhesion actuators (see [MuJoCo docs](https://mujoco.readthedocs.io/en/stable/overview.html) for more details). With the exception of wings and adhesion, our model uses position actuators. The wings are powered by force (torque) actuators.\n",
    "\n",
    "We will change the control once every `physics_to_ctrl_ratio == 10` simulation steps, to ensure simulation stability (see `dm_control` [paper](https://arxiv.org/abs/2006.12983) for more details).\n",
    "\n",
    "Note that in the first part of the motion sequence, \"Let wings fold\", we don't alter `data.ctrl` yet and it is still zero after resetting the simulation with `mj_resetData()`. Nevertheless, the wings will fold -- this is achieved by the weak springs acting to move the wings to a reference position, as described above."
   ]
  },
  {
   "cell_type": "code",
   "execution_count": null,
   "id": "0467e778-12d0-40f5-90bf-fdb1437f1d12",
   "metadata": {},
   "outputs": [],
   "source": [
    "n_steps = 100\n",
    "physics_to_ctrl_ratio = 10\n",
    "frames = []\n",
    "\n",
    "# Reset physics to initial default state.\n",
    "mujoco.mj_resetData(model, data)\n",
    "\n",
    "# Let wings fold.\n",
    "for i in range(n_steps):\n",
    "    pixels = render_frame(model, data, camera='hero', height=height, width=width)\n",
    "    frames.append(pixels)\n",
    "    for _ in range(physics_to_ctrl_ratio):\n",
    "        mujoco.mj_step(model, data)\n",
    "\n",
    "# Twist head.\n",
    "for i in range(n_steps):\n",
    "    pixels = render_frame(model, data, camera=camera, height=height, width=width)\n",
    "    frames.append(pixels)\n",
    "    data.actuator('head_twist').ctrl = 1.5 * np.sin(2*np.pi * i/n_steps)\n",
    "    for _ in range(physics_to_ctrl_ratio):\n",
    "        mujoco.mj_step(model, data)\n",
    "\n",
    "# Move middle right leg.\n",
    "for i in range(n_steps+50):\n",
    "    if i <= n_steps:\n",
    "        data.ctrl[leg_actuators_L2] = amplitude_mid * np.sin(np.pi * i/n_steps)\n",
    "    for _ in range(physics_to_ctrl_ratio):\n",
    "        mujoco.mj_step(model, data)\n",
    "    pixels = render_frame(model, data, camera='hero', height=height, width=width)\n",
    "    frames.append(pixels)\n",
    "\n",
    "# Activate middle leg adhision to prevent slipping when front legs are lifted later.\n",
    "data.actuator('adhere_claw_T2_right').ctrl = 1.\n",
    "data.actuator('adhere_claw_T2_left').ctrl = 1.\n",
    "\n",
    "# Lift fronts legs with lag.\n",
    "for i in range(n_steps+100):\n",
    "    left_angle = np.pi * i/n_steps\n",
    "    right_angle = np.pi * i/n_steps - np.pi/5\n",
    "    if left_angle <= np.pi:\n",
    "        data.ctrl[leg_actuators_L1] = amplitude_front * np.sin(left_angle)\n",
    "    if 0 < right_angle <= np.pi:\n",
    "       data.ctrl[leg_actuators_R1] = amplitude_front * np.sin(right_angle)\n",
    "    for _ in range(physics_to_ctrl_ratio):\n",
    "        mujoco.mj_step(model, data)\n",
    "    pixels = render_frame(model, data, camera='hero', height=height, width=width)\n",
    "    frames.append(pixels)\n",
    "\n",
    "media.show_video(frames)"
   ]
  },
  {
   "cell_type": "markdown",
   "id": "fed81154-6c5c-4d8a-ac42-ef6a81622a5d",
   "metadata": {},
   "source": [
    "## Actuate entire body with random actions\n",
    "Now let's actuate all of the degrees of freedom at once with random control.\n",
    "\n",
    "As force actuators (wings) and position actuators (the rest of the body) have different control semantics (scaled force and target joint angles, respectively), we'll actuate them with control signals of different magnitude. Let's find the indices for each actuator group first:"
   ]
  },
  {
   "cell_type": "code",
   "execution_count": null,
   "id": "2ae26892-2fd9-4c1d-8736-11e6ce440163",
   "metadata": {},
   "outputs": [],
   "source": [
    "wing_act_indices = []  # Force actuators.\n",
    "body_act_indices = []  # Position actuators.\n",
    "# Loop over all actuators.\n",
    "for i in range(model.nu):\n",
    "    name = mujoco.mj_id2name(model, mujoco.mju_str2Type(\"actuator\"),i)\n",
    "    # Store wing actuator indices and rest of indices separately.\n",
    "    if 'wing' in name:\n",
    "        wing_act_indices.append(i)\n",
    "    else:\n",
    "        body_act_indices.append(i)\n",
    "\n",
    "print(wing_act_indices)\n",
    "print(body_act_indices)"
   ]
  },
  {
   "cell_type": "markdown",
   "id": "1fca1edc-98eb-4b99-898b-dea05cc834dd",
   "metadata": {},
   "source": [
    "Run simulation and actuate the fly body with random actions."
   ]
  },
  {
   "cell_type": "code",
   "execution_count": null,
   "id": "615b75f9-5457-41b0-9f76-caf1d4c1488d",
   "metadata": {},
   "outputs": [],
   "source": [
    "n_body_actions = len(body_act_indices)\n",
    "n_wing_actions = len(wing_act_indices)\n",
    "\n",
    "n_steps = 300\n",
    "physics_to_ctrl_ratio = 10\n",
    "frames = []\n",
    "\n",
    "# Reset simulatiomn to initial default state.\n",
    "mujoco.mj_resetData(model, data)\n",
    "\n",
    "for i in range(n_steps):\n",
    "    pixels = render_frame(model, data, camera='hero', height=height, width=width)\n",
    "    frames.append(pixels)\n",
    "    data.ctrl[body_act_indices] = np.random.uniform(-.3, .3, n_body_actions)\n",
    "    data.ctrl[wing_act_indices] = np.random.uniform(-.005, .005, n_wing_actions)\n",
    "    for _ in range(physics_to_ctrl_ratio):\n",
    "        mujoco.mj_step(model, data)\n",
    "\n",
    "media.show_video(frames)"
   ]
  }
 ],
 "metadata": {
  "kernelspec": {
   "display_name": "mujoco",
   "language": "python",
   "name": "python3"
  },
  "language_info": {
   "codemirror_mode": {
    "name": "ipython",
    "version": 3
   },
   "file_extension": ".py",
   "mimetype": "text/x-python",
   "name": "python",
   "nbconvert_exporter": "python",
   "pygments_lexer": "ipython3",
   "version": "3.10.13"
  }
 },
 "nbformat": 4,
 "nbformat_minor": 5
}
