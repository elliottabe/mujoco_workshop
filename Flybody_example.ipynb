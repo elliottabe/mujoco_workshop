{
 "cells": [
  {
   "cell_type": "markdown",
   "id": "d74fd7a9-ea14-422a-919b-ba34ce8b0186",
   "metadata": {},
   "source": [
    "# Getting started with `flybody`\n",
    "<a target=\"_blank\" href=\"https://colab.research.google.com/github/elliottabe/mujoco_workshop2024/blob/main/Flybody_example.ipynb\">\n",
    "  <img src=\"https://colab.research.google.com/assets/colab-badge.svg\" alt=\"Open In Colab\"/></a>\n",
    "</a>\n",
    "<br>\n",
    "<br>\n",
    "\n",
    "**A Colab runtime with GPU acceleration is required.** If you're using a CPU-only runtime, you can switch using the menu \"Runtime > Change runtime type\".\n",
    "\n",
    "\n",
    "This notebook was copied and modified from [Turaga lab github](https://github.com/TuragaLab/flybody/blob/main/docs/getting-started.ipynb)\n",
    "\n",
    "`flybody` is an anatomically-detailed body model of the fruit fly _Drosophila melanogaster_ for MuJoCo physics simulator and reinforcement learning (RL) applications. The fly model was developed in a collaborative effort by Google DeepMind and HHMI Janelia Research Campus. We envision our model as a platform for fruit fly biophysics simulations and for modeling neural control of sensorimotor behavior in an embodied context.\n",
    "\n",
    "This notebook presents several python examples of our MuJoCo fly model manipulations using `dm_control`.\n",
    "\n",
    "For more background information, please explore:\n",
    "\n",
    "* [MuJoCo documentation](https://mujoco.readthedocs.io/en/stable/overview.html)\n",
    "* [MuJoCo](https://github.com/google-deepmind/mujoco) and tutorials therein\n",
    "* [dm_control](https://github.com/google-deepmind/dm_control) and tutorials therein\n",
    "* dm_control [paper](https://arxiv.org/abs/2006.12983)\n",
    "* [PyMJCF](https://github.com/google-deepmind/dm_control/blob/main/dm_control/mjcf/README.md)"
   ]
  },
  {
   "cell_type": "markdown",
   "id": "25a5d12f-0f81-40a4-8947-1708fa2695da",
   "metadata": {},
   "source": [
    "## Installing `flybody` on Colab\n",
    "### _If running notebook locally, skip this cell!_"
   ]
  },
  {
   "cell_type": "code",
   "execution_count": null,
   "id": "3f872837-7350-4d98-bffd-d37fcba65529",
   "metadata": {},
   "outputs": [],
   "source": [
    "# If in Colab, run this cell to install flybody. Don't forget to select GPU!!\n",
    "# Otherwise, if running notebook locally, skip this cell.\n",
    "\n",
    "import os\n",
    "import subprocess\n",
    "if subprocess.run('nvidia-smi').returncode:\n",
    "  raise RuntimeError(\n",
    "      'Cannot communicate with GPU. '\n",
    "      'Make sure you are using a GPU Colab runtime. '\n",
    "      'Go to the Runtime menu and select Choose runtime type.')\n",
    "\n",
    "# Add an ICD config so that glvnd can pick up the Nvidia EGL driver.\n",
    "# This is usually installed as part of an Nvidia driver package, but the Colab\n",
    "# kernel doesn't install its driver via APT, and as a result the ICD is missing.\n",
    "# (https://github.com/NVIDIA/libglvnd/blob/master/src/EGL/icd_enumeration.md)\n",
    "NVIDIA_ICD_CONFIG_PATH = '/usr/share/glvnd/egl_vendor.d/10_nvidia.json'\n",
    "if not os.path.exists(NVIDIA_ICD_CONFIG_PATH):\n",
    "  with open(NVIDIA_ICD_CONFIG_PATH, 'w') as f:\n",
    "    f.write(\"\"\"{\n",
    "    \"file_format_version\" : \"1.0.0\",\n",
    "    \"ICD\" : {\n",
    "        \"library_path\" : \"libEGL_nvidia.so.0\"\n",
    "    }\n",
    "}\n",
    "\"\"\")\n",
    "\n",
    "!pip install --upgrade pip\n",
    "!python -m pip install git+https://github.com/TuragaLab/flybody.git\n",
    "import sys\n",
    "if 'mujoco_workshop2024' not in os.getcwd():\n",
    "  !git clone https://github.com/elliottabe/mujoco_workshop2024.git\n",
    "  sys.path.insert(0, os.getcwd() + '/mujoco_workshop2024')\n",
    "else: \n",
    "  sys.path.insert(0, os.getcwd())\n",
    "# Configure MuJoCo to use the EGL rendering backend (requires GPU).\n",
    "%env MUJOCO_GL=egl"
   ]
  },
  {
   "cell_type": "markdown",
   "id": "a02b0f6e-363a-411b-87ba-7ee9377bf243",
   "metadata": {},
   "source": [
    "# Imports"
   ]
  },
  {
   "cell_type": "code",
   "execution_count": null,
   "id": "8a69a8d6-9492-445a-b395-1729d192977d",
   "metadata": {},
   "outputs": [],
   "source": [
    "import os\n",
    "\n",
    "import numpy as np\n",
    "import matplotlib.pyplot as plt\n",
    "import PIL.ImageDraw\n",
    "\n",
    "from dm_control import mujoco\n",
    "from dm_control import mjcf\n",
    "from dm_control.mujoco.wrapper.mjbindings import enums\n",
    "from dm_control.mujoco.wrapper.mjbindings import mjlib\n",
    "from tqdm import tqdm\n",
    "import flybody\n",
    "from flybody.fly_envs import walk_on_ball\n",
    "from flybody.utils import display_video, any_substr_in_str"
   ]
  },
  {
   "cell_type": "code",
   "execution_count": null,
   "id": "036a6081-711e-40b9-a1c5-20a6b15c755e",
   "metadata": {},
   "outputs": [],
   "source": [
    "# Frame size and camera name-to-idx mapping for rendering.\n",
    "frame_size = {'width': 640, 'height': 480}\n",
    "cameras = {'track1': 0, 'track2': 1, 'track3': 2,\n",
    "           'back': 3, 'side': 4, 'bottom': 5, 'hero': 6,\n",
    "           'eye_right': 7, 'eye_left': 8}"
   ]
  },
  {
   "cell_type": "markdown",
   "id": "468c793f-cc92-4c8f-a16a-1be5ac61af0c",
   "metadata": {},
   "source": [
    "# Stand-alone fly model (outside of RL environment)"
   ]
  },
  {
   "cell_type": "markdown",
   "id": "adc74787-27bf-47a5-8285-1afbcfb1eb46",
   "metadata": {},
   "source": [
    "## Load the MuJoCo fly model\n",
    "Let's load the fly model XML file `fruitfly.xml`, directly compile it to a `physics` object, and print some of the model's parameters. Note that in addition to the fly itself, the # of bodies includes one additional worldbody, joints include one freejoint connecting the fly with the worldbody, and the freejoint contributes six additional degrees of freedom (3 translation, 3 rotation)."
   ]
  },
  {
   "cell_type": "code",
   "execution_count": null,
   "id": "8e1be01a-8a27-49a2-b164-5c33c70b3850",
   "metadata": {},
   "outputs": [],
   "source": [
    "flybody_path = os.path.dirname(flybody.__file__)\n",
    "xml_path = os.path.join(flybody_path, 'fruitfly/assets/fruitfly.xml')\n",
    "\n",
    "physics = mjcf.Physics.from_xml_path(xml_path)  # Load and compile.\n",
    "\n",
    "print('# of bodies:', physics.model.nbody)\n",
    "print('# of degrees of freedom:', physics.model.nv)\n",
    "print('# of joints:', physics.model.njnt)\n",
    "print('# of actuators:', physics.model.nu)\n",
    "print(\"fly's mass (gr):\", physics.model.body_subtreemass[1])"
   ]
  },
  {
   "cell_type": "markdown",
   "id": "63d0daf6-36c6-4559-9277-73e3e60dda3b",
   "metadata": {},
   "source": [
    "## Visualize the fly as loaded\n",
    "As initialized, the fly is in its default resting pose where all the joint angles stored in `physics.data.qpos` are set to zero. `physics.data.qpos` is a view onto the underlying MuJoCo's `mjData->qpos` data structure which holds the generalized coordinates of the model. Note that the entries `qpos[:3]` correspond to the Cartesian xyz position of the root freejoint in world coordinates, and `qpos[3:7]` is the quaternion representing the root joint orientation, initially set to unit quaternion `[1, 0, 0, 0]` by default. The rest of the elements `qpos[7:]` represent joint angles of all the hinge joints of our fly model."
   ]
  },
  {
   "cell_type": "code",
   "execution_count": null,
   "id": "c06d4d4b-71c8-4df2-a75f-ac298ac30686",
   "metadata": {},
   "outputs": [],
   "source": [
    "physics.data.qpos"
   ]
  },
  {
   "cell_type": "markdown",
   "id": "1c3e2038-736d-4ffb-aaa7-3debd1d66fe6",
   "metadata": {},
   "source": [
    "Visualizing several views from different cameras: \"hero\" and \"bottom\" cameras"
   ]
  },
  {
   "cell_type": "code",
   "execution_count": null,
   "id": "33d36287-695e-47ed-9f7c-1500a3e310c1",
   "metadata": {},
   "outputs": [],
   "source": [
    "pixels = physics.render(camera_id=cameras['hero'], **frame_size)\n",
    "PIL.Image.fromarray(pixels)"
   ]
  },
  {
   "cell_type": "code",
   "execution_count": null,
   "id": "d992387c-78fa-4063-beb0-e00aafcd8615",
   "metadata": {},
   "outputs": [],
   "source": [
    "pixels = physics.render(camera_id=cameras['bottom'], **frame_size)\n",
    "PIL.Image.fromarray(pixels)"
   ]
  },
  {
   "cell_type": "markdown",
   "id": "6361a0b8-591e-4570-8529-f74c0d64126a",
   "metadata": {},
   "source": [
    "We can hide the external cosmetic meshes and expose the collision geom primitives, shown in blue. Also notice the adhesive geoms shown in purple and ellipsoidal wing geoms used for fluid (air) interactions during flight simulation (orange)."
   ]
  },
  {
   "cell_type": "code",
   "execution_count": null,
   "id": "0da4dd75-ad8a-4da0-a52a-5ab4a87e1e30",
   "metadata": {},
   "outputs": [],
   "source": [
    "scene_option = mujoco.wrapper.core.MjvOption()\n",
    "scene_option.geomgroup[1] = 0  # Hide external meshes.\n",
    "scene_option.geomgroup[3] = 1  # Make fluid-interactions wing ellipsoids visible (orange).\n",
    "scene_option.geomgroup[4] = 1  # Make collision geoms visible (blue).\n",
    "pixels = physics.render(camera_id=cameras['side'], **frame_size, scene_option=scene_option)\n",
    "PIL.Image.fromarray(pixels)"
   ]
  },
  {
   "cell_type": "markdown",
   "id": "c4ebe6e2-8d4b-40fe-94fe-ad8cea5456e0",
   "metadata": {},
   "source": [
    "## Load with floor and visualize\n",
    "We can also load the fly model combined with a simple flat floor (and a skybox) to make more physically meaningful simulations"
   ]
  },
  {
   "cell_type": "code",
   "execution_count": null,
   "id": "98f35ea2-eef9-4f38-ac28-d65eaa6bed77",
   "metadata": {},
   "outputs": [],
   "source": [
    "xml_path_floor = os.path.join(flybody_path, 'fruitfly/assets/floor.xml')\n",
    "physics = mjcf.Physics.from_xml_path(xml_path_floor)\n",
    "\n",
    "pixels = physics.render(camera_id=cameras['side'], **frame_size)\n",
    "PIL.Image.fromarray(pixels)"
   ]
  },
  {
   "cell_type": "markdown",
   "id": "c7728190-c657-42aa-a008-641c0b55aa6e",
   "metadata": {},
   "source": [
    "## Kinematic manipulations\n",
    "Let's try out a few simple kinematic manipulations with the fly model, i.e., without computing any forces yet, we'll put the body in several poses.\n",
    "\n",
    "For example, we can start from the default rest position in the previous image and rotate the fly around the z-axis (vertical axis, points up) by a certain angle. This will require updating the root joint quaternion stored at `qpos[3:7]`.\n",
    "\n",
    "For the purpose of kinematic manipulations, in addition to writing into `qpos`, we will have to update other position-related entries in MuJoCo's `mjData` data structure. One way of doing this is using `physics.reset_context()` (see [dm_control paper](https://arxiv.org/abs/2006.12983) for more detail)."
   ]
  },
  {
   "cell_type": "code",
   "execution_count": null,
   "id": "c2db99a6-7d23-4035-a6a6-733fc812416d",
   "metadata": {},
   "outputs": [],
   "source": [
    "# Construct new root joint quaternion: 90 degree rotation around z-axis.\n",
    "angle = np.pi / 2\n",
    "quat = np.array([np.cos(angle/2), 0, 0, np.sin(angle/2)])\n",
    "# Write into qpos and update other related quantities in mjData.\n",
    "with physics.reset_context():\n",
    "    physics.named.data.qpos[3:7] = quat\n",
    "pixels = physics.render(camera_id=cameras['side'], **frame_size)\n",
    "PIL.Image.fromarray(pixels)"
   ]
  },
  {
   "cell_type": "markdown",
   "id": "70435239-84ec-4e9a-96c2-bd6bb1b18d34",
   "metadata": {},
   "source": [
    "Now we can try something a bit more involved.\n",
    "\n",
    "Let's start from the default rest position again and try to fold the wings. In the model, each wing is connected to the thorax by three hinge joints (yaw, roll, pitch), effectively representing a 3-degree-of-freedom ball joint. We will need to find the wing joint angles corresponding to the folded wing position. This can be done as follows. \n",
    "\n",
    "In addition to the actuators, most of the fly joints have weak springs attached to them. In the adsence of actuation or external forces, these springs will act to move the joints to specific pre-defined positions, such us folded wings, retracted legs for flight, holding the proboscis retracted, etc. In each case, these joint angle are stored in the joints' `springref` attribute in the XML file, and in the corresponding `qpos_spring` attribute in MuJoCo's `mjData` data structure, exposed as `physics.model.qpos_spring` through `dm_control` here.\n",
    "\n",
    "Let's locate the wing joints and read the folded-wing joint angles from the spring parameters:"
   ]
  },
  {
   "cell_type": "code",
   "execution_count": null,
   "id": "e28b4e85-1392-4f05-8fc8-3b8bbd1f4eb5",
   "metadata": {},
   "outputs": [],
   "source": [
    "wing_joints = []\n",
    "folded_wing_angles = []\n",
    "# Loop over all model joints.\n",
    "for i in range(physics.model.njnt):\n",
    "    joint_name = physics.model.id2name(i, 'joint')\n",
    "    # If wing joint, store joint name and reference angle.\n",
    "    if 'wing' in joint_name:\n",
    "        wing_joints.append(joint_name)\n",
    "        folded_wing_angles.append(\n",
    "            physics.named.model.qpos_spring[joint_name].item())\n",
    "\n",
    "wing_joints, folded_wing_angles"
   ]
  },
  {
   "cell_type": "markdown",
   "id": "3af87baa-ed25-4b45-a52c-fa98c22b643b",
   "metadata": {},
   "source": [
    "Now we can write these wing angles into their corresponding fields in `qpos`. Note that we are now using named (and vectorized) indexing to write the wing angles to `qpos`."
   ]
  },
  {
   "cell_type": "code",
   "execution_count": null,
   "id": "94758ea9-10ed-4672-86b4-e4bb59bdaa24",
   "metadata": {},
   "outputs": [],
   "source": [
    "with physics.reset_context():\n",
    "    physics.named.data.qpos[wing_joints] = folded_wing_angles\n",
    "\n",
    "pixels = physics.render(camera_id=cameras['side'], **frame_size)\n",
    "PIL.Image.fromarray(pixels)"
   ]
  },
  {
   "cell_type": "markdown",
   "id": "57704400-c863-4f7f-9458-773fde6d52a5",
   "metadata": {},
   "source": [
    "In the same way, we can (kinematically) put the legs into the retracted flight position, which is stored in `physics.model.qpos_spring`, as before:"
   ]
  },
  {
   "cell_type": "code",
   "execution_count": null,
   "id": "d3d5e63c-5602-4640-87ce-26aeb6733795",
   "metadata": {},
   "outputs": [],
   "source": [
    "with physics.reset_context():\n",
    "    # Loop over all joints.\n",
    "    for i in range(physics.model.njnt):\n",
    "        name = physics.model.id2name(i, 'joint')\n",
    "        # If leg joint, set the joint angle to be equal to its corresponding\n",
    "        # reference spring angle.\n",
    "        if any_substr_in_str(['coxa', 'femur', 'tibia', 'tarsus'], name):\n",
    "            physics.named.data.qpos[name] = physics.named.model.qpos_spring[name]\n",
    "    # Also, lift the fly by setting the z-coordinate of fly's root joint.\n",
    "    physics.data.qpos[2] = 1.  # Here, units: cm.\n",
    "\n",
    "pixels = physics.render(camera_id=cameras['side'], **frame_size)\n",
    "PIL.Image.fromarray(pixels)"
   ]
  },
  {
   "cell_type": "markdown",
   "id": "7ab7ef3c-0024-4da9-8cd4-ddf8d39f54ed",
   "metadata": {},
   "source": [
    "## Kinematic replay: fold wings\n",
    "Sequences of kinematically-set poses can be used for kinematic replay animations.\n",
    "\n",
    "In this example, we will gradually move the wings from their default position to the folded position we obtained before. At each step we will render a frame and in the end generate a video from the sequence of frames:"
   ]
  },
  {
   "cell_type": "code",
   "execution_count": null,
   "id": "683623e5-bbe8-4905-a52e-b58ec86b2197",
   "metadata": {},
   "outputs": [],
   "source": [
    "n_steps = 150\n",
    "frames = []\n",
    "for i in range(n_steps):\n",
    "    with physics.reset_context():\n",
    "        wing_angles = np.array(folded_wing_angles) * np.sin(np.pi/2 * i/n_steps)\n",
    "        physics.named.data.qpos[wing_joints] = wing_angles\n",
    "    pixels = physics.render(camera_id=cameras['back'], **frame_size)\n",
    "    frames.append(pixels)\n",
    "\n",
    "display_video(frames)"
   ]
  },
  {
   "cell_type": "markdown",
   "id": "265bdf90-aebe-4dc9-b2a6-cdd722970ecd",
   "metadata": {},
   "source": [
    "## Simulating physics: procedurally actuated body movements\n",
    "\n",
    "Now we can try to run actual physical simulations.\n",
    "\n",
    "In this example, we will procedurally control the fly's actuators and step the simulation in time to generate a sequence of movements. First, let's prepare groups of actuator names to control at each phase of the simulation. By convention, all the joint actuators in our model (in contrast to tendon actuators) have the same name as the joint they actuate."
   ]
  },
  {
   "cell_type": "code",
   "execution_count": null,
   "id": "ed284aa7-4152-4d7a-bb90-4c12d5164ecf",
   "metadata": {},
   "outputs": [],
   "source": [
    "def get_leg_actuator_names(leg):\n",
    "    return [f'{joint}_{leg}' \n",
    "            for joint in ['coxa', 'femur', 'tibia', 'tarsus', 'tarsus2']]\n",
    "\n",
    "# Names of leg actuators.\n",
    "leg_actuators_L1 = get_leg_actuator_names('T1_left')\n",
    "leg_actuators_R1 = get_leg_actuator_names('T1_right')\n",
    "leg_actuators_L2 = get_leg_actuator_names('T2_left')\n",
    "\n",
    "# Amplitudes of joint motion for front and middle legs.\n",
    "amplitude_front = 0.5 * np.array([1, -1, 2, 1, 1])\n",
    "amplitude_mid = 0.5 * np.array([0.5, -0.5, -2, 1, 2])"
   ]
  },
  {
   "cell_type": "markdown",
   "id": "1e672d35-6fb9-4791-adfb-35c3bec35511",
   "metadata": {},
   "source": [
    "Now we can simulate the motion sequence. At each control step, we will be writing the control into MuJoCo's `mjData->ctrl`, exposed here as `physics.data.ctrl`. We will also engage the leg adhesion actuators at a certain point during the motion sequence. \n",
    "\n",
    "The control semantics is the target joint angles for position actuators, and (scaled) force for force and adhesion actuators (see [MuJoCo docs](https://mujoco.readthedocs.io/en/stable/overview.html) for more details). With the exception of wings and adhesion, our model uses position actuators. The wings are powered by force (torque) actuators.\n",
    "\n",
    "We will change the control once every `physics_to_ctrl_ratio == 10` simulation steps, to ensure simulation stability (see `dm_control` [paper](https://arxiv.org/abs/2006.12983) for more details).\n",
    "\n",
    "Note that in the first part of the motion sequence, \"Let wings fold\", we don't alter `physics.data.ctrl` yet and it is still zero after resetting the simulation with `physics.reset()`. Nevertheless, the wings will fold -- this is achieved by the weak springs acting to move the wings to a reference position, as described above."
   ]
  },
  {
   "cell_type": "code",
   "execution_count": null,
   "id": "0467e778-12d0-40f5-90bf-fdb1437f1d12",
   "metadata": {},
   "outputs": [],
   "source": [
    "n_steps = 100\n",
    "physics_to_ctrl_ratio = 10\n",
    "frames = []\n",
    "\n",
    "# Reset physics to initial default state.\n",
    "physics.reset()\n",
    "\n",
    "# Let wings fold.\n",
    "for i in range(n_steps):\n",
    "    pixels = physics.render(camera_id=cameras['hero'], **frame_size)\n",
    "    frames.append(pixels)\n",
    "    for _ in range(physics_to_ctrl_ratio):\n",
    "        physics.step()\n",
    "\n",
    "# Twist head.\n",
    "for i in range(n_steps):\n",
    "    pixels = physics.render(camera_id=cameras['hero'], **frame_size)\n",
    "    frames.append(pixels)\n",
    "    physics.named.data.ctrl['head_twist'] = 1.5 * np.sin(2*np.pi * i/n_steps)\n",
    "    for _ in range(physics_to_ctrl_ratio):\n",
    "        physics.step()\n",
    "\n",
    "# Move middle right leg.\n",
    "for i in range(n_steps+50):\n",
    "    if i <= n_steps:\n",
    "        physics.named.data.ctrl[leg_actuators_L2] = amplitude_mid * np.sin(np.pi * i/n_steps)\n",
    "    for _ in range(physics_to_ctrl_ratio):\n",
    "        physics.step()\n",
    "    pixels = physics.render(camera_id=cameras['hero'], **frame_size)\n",
    "    frames.append(pixels)\n",
    "\n",
    "# Activate middle leg adhision to prevent slipping when front legs are lifted later.\n",
    "physics.named.data.ctrl[['adhere_claw_T2_right', 'adhere_claw_T2_left']] = 1.\n",
    "\n",
    "# Lift fronts legs with lag.\n",
    "for i in range(n_steps+100):\n",
    "    left_angle = np.pi * i/n_steps\n",
    "    right_angle = np.pi * i/n_steps - np.pi/5\n",
    "    if left_angle <= np.pi:\n",
    "        physics.named.data.ctrl[leg_actuators_L1] = amplitude_front * np.sin(left_angle)\n",
    "    if 0 < right_angle <= np.pi:\n",
    "        physics.named.data.ctrl[leg_actuators_R1] = amplitude_front * np.sin(right_angle)\n",
    "    for _ in range(physics_to_ctrl_ratio):\n",
    "        physics.step()\n",
    "    pixels = physics.render(camera_id=cameras['hero'], **frame_size)\n",
    "    frames.append(pixels)\n",
    "\n",
    "display_video(frames)"
   ]
  },
  {
   "cell_type": "markdown",
   "id": "fed81154-6c5c-4d8a-ac42-ef6a81622a5d",
   "metadata": {},
   "source": [
    "## Actuate entire body with random actions\n",
    "Now let's actuate all of the degrees of freedom at once with random control.\n",
    "\n",
    "As force actuators (wings) and position actuators (the rest of the body) have different control semantics (scaled force and target joint angles, respectively), we'll actuate them with control signals of different magnitude. Let's find the indices for each actuator group first:"
   ]
  },
  {
   "cell_type": "code",
   "execution_count": null,
   "id": "2ae26892-2fd9-4c1d-8736-11e6ce440163",
   "metadata": {},
   "outputs": [],
   "source": [
    "wing_act_indices = []  # Force actuators.\n",
    "body_act_indices = []  # Position actuators.\n",
    "# Loop over all actuators.\n",
    "for i in range(physics.model.nu):\n",
    "    name = physics.model.id2name(i, 'actuator')\n",
    "    # Store wing actuator indices and rest of indices separately.\n",
    "    if 'wing' in name:\n",
    "        wing_act_indices.append(i)\n",
    "    else:\n",
    "        body_act_indices.append(i)\n",
    "\n",
    "print(wing_act_indices)\n",
    "print(body_act_indices)"
   ]
  },
  {
   "cell_type": "markdown",
   "id": "1fca1edc-98eb-4b99-898b-dea05cc834dd",
   "metadata": {},
   "source": [
    "Run simulation and actuate the fly body with random actions."
   ]
  },
  {
   "cell_type": "code",
   "execution_count": null,
   "id": "615b75f9-5457-41b0-9f76-caf1d4c1488d",
   "metadata": {},
   "outputs": [],
   "source": [
    "n_body_actions = len(body_act_indices)\n",
    "n_wing_actions = len(wing_act_indices)\n",
    "\n",
    "n_steps = 300\n",
    "physics_to_ctrl_ratio = 10\n",
    "frames = []\n",
    "\n",
    "# Reset simulatiomn to initial default state.\n",
    "physics.reset()\n",
    "\n",
    "for i in range(n_steps):\n",
    "    pixels = physics.render(camera_id=cameras['side'], **frame_size)\n",
    "    frames.append(pixels)\n",
    "    physics.named.data.ctrl[body_act_indices] = np.random.uniform(-.3, .3, n_body_actions)\n",
    "    physics.named.data.ctrl[wing_act_indices] = np.random.uniform(-.005, .005, n_wing_actions)\n",
    "    for _ in range(physics_to_ctrl_ratio):\n",
    "        physics.step()\n",
    "\n",
    "display_video(frames)"
   ]
  },
  {
   "cell_type": "markdown",
   "id": "998461ed",
   "metadata": {},
   "source": [
    "# Kinematic Replay from key points"
   ]
  },
  {
   "cell_type": "code",
   "execution_count": null,
   "id": "90c3d028",
   "metadata": {},
   "outputs": [],
   "source": [
    "# Import custom functions from flybody and utils.\n",
    "from flybody.inverse_kinematics import qpos_from_site_xpos\n",
    "import Utils.io_dict_to_hdf5 as ioh5\n",
    "from flybody.tasks.task_utils import retract_wings"
   ]
  },
  {
   "cell_type": "markdown",
   "id": "d9140b68-2a06-4085-8c27-e31d5c1eb7d9",
   "metadata": {},
   "source": [
    "## Model modifications: adding leg MoCap sites using [PyMJCF](https://github.com/google-deepmind/dm_control/blob/main/dm_control/mjcf/README.md)\n",
    "\n",
    "In addition to manipulating joint angles and controls, as we did above, the fly model itself can be modified. All aspects of the model (e.g., sizes of body parts, actuator strengths and types, degrees of freedom, masses, appearance, etc.) can be easily changed programmatically.\n",
    "\n",
    "Let's consider a simple example of fly body modifications. Assume we've got a motion capture dataset tracking the positions of the fly leg joints and we would like to fit the fly model's leg poses to this data. One way of doing so will require referencing the corresponding keypoint positions in the fly legs, which in turn can be achieved by adding sites to the leg joints.\n",
    "\n",
    "In contrast to loading and compiling the model to a `physics` object in one step as we did before, we will split this process into two steps. First, we will load the fly model as `mjcf_model`, a python object model for the underlying MuJoCo fly XML file, which we can interact with and modify programmatically (see `dm_control`'s [PyMJCF](https://github.com/google-deepmind/dm_control/blob/main/dm_control/mjcf/README.md)). Second, we will compile the _modified_ `mjcf_model` to a `physics` object."
   ]
  },
  {
   "cell_type": "code",
   "execution_count": null,
   "id": "0b29170d-f073-4f6b-b41a-a7de7422c740",
   "metadata": {},
   "outputs": [],
   "source": [
    "# Site visualization parameters.\n",
    "site_size = 3 * (0.005,)\n",
    "site_rgba = (0, 1, 0, 1)\n",
    "\n",
    "# Load MJCF model from the fly XML file.\n",
    "mjcf_model = mjcf.from_path(xml_path)\n",
    "\n",
    "# Make model modifications: add MoCap sites to legs. Don't compile model yet.\n",
    "\n",
    "# Loop over bodies and add sites to position (0, 0, 0) in each body, which will\n",
    "# correspond to leg joint locations.\n",
    "for body in mjcf_model.find_all('body'):\n",
    "    # If the body is a leg segment, add site to it.\n",
    "    if any_substr_in_str(['coxa', 'femur', 'tibia', 'tarsus_', 'claw'], body.name):\n",
    "        body.add('site', name=f'mocap_{body.name}', pos=(0, 0, 0),\n",
    "                 size=site_size, group=0, rgba=site_rgba)\n",
    "\n",
    "# The mjcf_model manipulations are complete, can compile now.\n",
    "physics = mjcf.Physics.from_mjcf_model(mjcf_model)\n",
    "physics.named.data.qpos[wing_joints] = folded_wing_angles\n",
    "physics.step()\n",
    "pixels = physics.render(camera_id=cameras['side'], **frame_size)\n",
    "PIL.Image.fromarray(pixels)"
   ]
  },
  {
   "cell_type": "code",
   "execution_count": null,
   "id": "4d685530",
   "metadata": {},
   "outputs": [],
   "source": [
    "# Create names to easier access\n",
    "legs = ['T1_left', 'T1_right', 'T2_left', 'T2_right', 'T3_left', 'T3_right']\n",
    "joints = ['coxa', 'femur', 'tibia', 'tarsus']\n",
    "xpos_geoms = ['coxa', 'femur', 'tibia', 'tarsus', 'claw']\n",
    "joint_names = [f'{joint}_{leg}' for leg in legs for joint in joints]\n",
    "xpos_names = [f'{joint}_{leg}' for leg in legs for joint in xpos_geoms]\n",
    "site_names = [f'mocap_{joint_name}' for joint_name in xpos_names]\n",
    "\n",
    "joints_to_manipulate = ['coxa_abduct_T1_left',  'coxa_twist_T1_left',   'coxa_T1_left',   'femur_T1_left',  'femur_twist_T1_left',  'tibia_T1_left',    'tarsus_T1_left',\n",
    "                        'coxa_abduct_T1_right', 'coxa_twist_T1_right',  'coxa_T1_right',  'femur_T1_right', 'femur_twist_T1_right', 'tibia_T1_right',   'tarsus_T1_right',\n",
    "                        'coxa_abduct_T2_left',  'coxa_twist_T2_left',   'coxa_T2_left',   'femur_T2_left',  'femur_twist_T2_left',  'tibia_T2_left',    'tarsus_T2_left',\n",
    "                        'coxa_abduct_T2_right', 'coxa_twist_T2_right',  'coxa_T2_right',  'femur_T2_right', 'femur_twist_T2_right', 'tibia_T2_right',   'tarsus_T2_right',\n",
    "                        'coxa_abduct_T3_left',  'coxa_twist_T3_left',   'coxa_T3_left',   'femur_T3_left',  'femur_twist_T3_left',  'tibia_T3_left',    'tarsus_T3_left',\n",
    "                        'coxa_abduct_T3_right', 'coxa_twist_T3_right',  'coxa_T3_right',  'femur_T3_right', 'femur_twist_T3_right', 'tibia_T3_right',   'tarsus_T3_right',]\n",
    "\n",
    "def transform_frame(frame):\n",
    "    \"\"\"Transform a single frame from data to model reference frame.\"\"\"\n",
    "    # Rotate around z-axis.\n",
    "    frame = frame[:, [1, 0, 2]]\n",
    "    frame[:, 1] *= -1\n",
    "    # Change units mm to cm.\n",
    "    frame *= 0.1\n",
    "    return frame"
   ]
  },
  {
   "cell_type": "markdown",
   "metadata": {},
   "source": [
    "## Load joint keypoint data"
   ]
  },
  {
   "cell_type": "code",
   "execution_count": null,
   "metadata": {},
   "outputs": [],
   "source": [
    "if 'mujoco_workshop2024' in os.getcwd():\n",
    "    datapath = './Data/kp_tracking.h5'\n",
    "else: \n",
    "    datapath = './mujoco_workshop2024/Data/kp_tracking.h5'\n",
    "kp_tracking = ioh5.load(datapath)\n",
    "# Need to align walking bout 1 \n",
    "kp_tracking['walking_1_kp'] = kp_tracking['walking_1_kp'] + (np.mean(kp_tracking['walking_0_kp'],axis=0) - np.mean(kp_tracking['walking_1_kp'],axis=0))\n",
    "print(kp_tracking.keys())"
   ]
  },
  {
   "cell_type": "markdown",
   "id": "41be2e67",
   "metadata": {},
   "source": [
    "There are two walking bouts in the dictionary: \n",
    "- walking_0_kp: Shorter bout (181 timepoints)\n",
    "- walking_1_kp: Longer bout (601 timepoints)"
   ]
  },
  {
   "cell_type": "markdown",
   "metadata": {},
   "source": [
    "# Visualize a single frame"
   ]
  },
  {
   "cell_type": "code",
   "execution_count": null,
   "id": "db34cdd5",
   "metadata": {},
   "outputs": [],
   "source": [
    "%matplotlib inline"
   ]
  },
  {
   "cell_type": "code",
   "execution_count": null,
   "id": "5834a6de",
   "metadata": {},
   "outputs": [],
   "source": [
    "# Set up colormap for plotting\n",
    "import matplotlib as mpl\n",
    "cmap = mpl.colormaps['Set1']\n",
    "def map_discrete_cbar(cmap,N):\n",
    "    cmap = plt.get_cmap(cmap,N+1)\n",
    "    bounds = np.arange(-.5,N+1)\n",
    "    norm = mpl.colors.BoundaryNorm(bounds, cmap.N)\n",
    "    return cmap, norm"
   ]
  },
  {
   "cell_type": "code",
   "execution_count": null,
   "metadata": {},
   "outputs": [],
   "source": [
    "frame_idx = 0\n",
    "wbout = 0\n",
    "# Grab data from walking bout\n",
    "test_frame = kp_tracking['walking_{}_kp'.format(wbout)][frame_idx] # (keypoint, xyz)\n",
    "# Set up fly skeleton for visualization\n",
    "fly_skel = np.array([(n,n+1) for n in range(29)])\n",
    "fly_skel = np.stack((fly_skel[:4],fly_skel[5:9],fly_skel[10:14],fly_skel[15:19],fly_skel[20:24],fly_skel[25:30],))\n",
    "\n",
    "cmap,norm = map_discrete_cbar('turbo',6)\n",
    "fig, axs = plt.subplots(1,2,figsize=(12, 4))\n",
    "\n",
    "ax=axs[0]\n",
    "ax.scatter(test_frame[:, 0], test_frame[:, 1], c=np.arange(test_frame.shape[0]),cmap=cmap)\n",
    "for n in range(fly_skel.shape[0]):\n",
    "    ax.plot(test_frame[fly_skel[n], 0], test_frame[fly_skel[n], 1],c=cmap(n))\n",
    "ax.axis('equal')\n",
    "ax.set_xlabel('x (mm)')\n",
    "ax.set_ylabel('y (mm)')\n",
    "ax.set_title('top-down view')\n",
    "\n",
    "ax = axs[1]\n",
    "ax.scatter(test_frame[:, 0], test_frame[:, 2], c=np.arange(test_frame.shape[0]),cmap=cmap)\n",
    "for n in range(fly_skel.shape[0]):\n",
    "    ax.plot(test_frame[fly_skel[n], 0], test_frame[fly_skel[n], 2],c=cmap(n))\n",
    "ax.axis('equal')\n",
    "ax.set_xlabel('x (mm)')\n",
    "ax.set_ylabel('z (mm)')\n",
    "ax.set_title('side view')\n",
    "plt.show()"
   ]
  },
  {
   "cell_type": "markdown",
   "metadata": {},
   "source": [
    "## Compare model's initial position with first data frame"
   ]
  },
  {
   "cell_type": "code",
   "execution_count": null,
   "metadata": {},
   "outputs": [],
   "source": [
    "# Get the first frame.\n",
    "frame0 = transform_frame(test_frame)\n",
    "site_pos = physics.named.data.site_xpos[site_names]\n",
    "# Shift to match origin of data and model.\n",
    "frame0 += site_pos[0, :]  # Body-coxa T1 left joint is the data origin."
   ]
  },
  {
   "cell_type": "code",
   "execution_count": null,
   "metadata": {},
   "outputs": [],
   "source": [
    "fig, axs = plt.subplots(1,1)\n",
    "ax = axs\n",
    "# Plot kp positions\n",
    "ax.scatter(frame0[:, 0], frame0[:, 1], c=np.arange(frame0.shape[0]), label='data',cmap=cmap)\n",
    "# Plot site positions\n",
    "ax.scatter(site_pos[:, 0], site_pos[:, 1], marker='x', s=100, c=np.arange(site_pos.shape[0]), label='model',cmap=cmap)\n",
    "for n in range(fly_skel.shape[0]):\n",
    "    ax.plot(site_pos[fly_skel[n], 0], site_pos[fly_skel[n], 1], c=cmap(n))\n",
    "    ax.plot(frame0[fly_skel[n], 0], frame0[fly_skel[n], 1], c=cmap(n))\n",
    "ax.axis('equal')\n",
    "ax.set_title('initial site positions before fitting')\n",
    "ax.set_xlabel('x (cm)')\n",
    "ax.set_ylabel('y (cm)')\n",
    "ax.legend()\n",
    "ax.grid()"
   ]
  },
  {
   "cell_type": "markdown",
   "id": "9d3f5300",
   "metadata": {},
   "source": [
    "## Inverse kinematics to match keypoints and joint positions"
   ]
  },
  {
   "cell_type": "code",
   "execution_count": null,
   "metadata": {},
   "outputs": [],
   "source": [
    "_ = physics.reset()\n",
    "retract_wings(physics, prefix='')\n",
    "\n",
    "# Run IK fit on one frame.\n",
    "res = qpos_from_site_xpos(physics, site_names, frame0, joints_to_manipulate, inplace=True)"
   ]
  },
  {
   "cell_type": "code",
   "execution_count": null,
   "metadata": {},
   "outputs": [],
   "source": [
    "# Compare site positions after fitting.\n",
    "site_pos = physics.named.data.site_xpos[site_names]\n",
    "\n",
    "fig, axs = plt.subplots(1,1)\n",
    "ax = axs\n",
    "ax.scatter(frame0[:, 0], frame0[:, 1], c=np.arange(frame0.shape[0]), label='data', cmap=cmap)\n",
    "ax.scatter(site_pos[:, 0], site_pos[:, 1], marker='x', s=100, c=np.arange(site_pos.shape[0]), label='fitted model', cmap=cmap)\n",
    "for n in range(fly_skel.shape[0]):\n",
    "    ax.plot(site_pos[fly_skel[n], 0], site_pos[fly_skel[n], 1], c=cmap(n))\n",
    "    ax.plot(frame0[fly_skel[n], 0], frame0[fly_skel[n], 1], c=cmap(n))\n",
    "ax.axis('equal')\n",
    "ax.set_title('site positions after test-fitting one frame')\n",
    "ax.set_xlabel('x (cm)')\n",
    "ax.set_ylabel('y (cm)')\n",
    "ax.legend()\n",
    "ax.grid()"
   ]
  },
  {
   "cell_type": "markdown",
   "metadata": {},
   "source": [
    "# Try fitting all frames"
   ]
  },
  {
   "cell_type": "markdown",
   "id": "04ab536f",
   "metadata": {},
   "source": [
    "The next cell performs inverse kinematics on all frames of a walking bout. For walking_0 it take ~4 min"
   ]
  },
  {
   "cell_type": "code",
   "execution_count": null,
   "metadata": {},
   "outputs": [],
   "source": [
    "# Fitting all frames with inverse kinematics\n",
    "\n",
    "# Reset physics\n",
    "_ = physics.reset()\n",
    "retract_wings(physics, prefix='') # retract wings\n",
    "physics.step()\n",
    "site_pos = physics.named.data.site_xpos[site_names] # grab initial site pose for aligning\n",
    "\n",
    "qpos = []\n",
    "all_frames = []\n",
    "n_frames = len(kp_tracking['walking_{}_kp'.format(wbout)])\n",
    "for i in tqdm(range(n_frames)):\n",
    "    # Prepare frame for fitting.\n",
    "    frame = kp_tracking['walking_{}_kp'.format(wbout)][i]  # (keypoint, xyz)\n",
    "    frame = transform_frame(frame)\n",
    "    frame += site_pos[0, :]  # Shift to body-coxa T1 left joint.\n",
    "    all_frames.append(frame)\n",
    "    # _ = physics.reset()\n",
    "    # Run IK fit on current frame.\n",
    "    res = qpos_from_site_xpos(physics, site_names, frame, joints_to_manipulate, inplace=True)\n",
    "    # Store qpos results.\n",
    "    qpos.append(res.qpos.copy())\n",
    "all_frames = np.stack(all_frames)\n",
    "qpos = np.stack(qpos)\n"
   ]
  },
  {
   "cell_type": "code",
   "execution_count": null,
   "id": "a930d926",
   "metadata": {},
   "outputs": [],
   "source": [
    "joint_ids = [physics.model.joint(joints_to_manipulate[n]).id+6 for n in range(len(joints_to_manipulate))] # Get joint ids from model\n",
    "leg_qpos = qpos[:,joint_ids].reshape(qpos.shape[0],6,-1) # (Time,leg_num,joint_num)\n",
    "fig, axs = plt.subplots(6,1,figsize=(10,15), sharex=True)\n",
    "for n in range(6):\n",
    "    ax = axs[n]\n",
    "    ax.plot(leg_qpos[:,n,:],label=np.array(joints_to_manipulate).reshape(6,-1)[n])\n",
    "    ax.legend(frameon=False,loc='upper right',bbox_to_anchor=(1.25,1),labelcolor='linecolor',handlelength=0,handleheight=0,ncols=1,columnspacing=.1)\n",
    "    ax.set_ylabel('angle (rad)')\n",
    "    ax.set_ylim([-np.pi,np.pi])\n",
    "    \n",
    "ax.set_xlabel('timesteps')"
   ]
  },
  {
   "cell_type": "code",
   "execution_count": null,
   "metadata": {},
   "outputs": [],
   "source": [
    "# Generate video of fitted poses.\n",
    "\n",
    "camera_id = 2 # Side view.\n",
    "\n",
    "# Hide all sites.\n",
    "scene_option = mujoco.wrapper.core.MjvOption()\n",
    "scene_option.sitegroup[:] = [1, 1, 1, 0, 0, 0]\n",
    "scene_option.flags[enums.mjtVisFlag.mjVIS_CONTACTPOINT] = True\n",
    "# scene_option.flags[mujoco.mjtVisFlag.mjVIS_CONTACTFORCE] = True\n",
    "\n",
    "\n",
    "#retract_wings(physics)\n",
    "\n",
    "video_frames = []\n",
    "for q in tqdm(qpos):\n",
    "    with physics.reset_context():\n",
    "        physics.data.qpos = q.copy()\n",
    "    pixels = physics.render(camera_id=cameras['hero'], width=640, height=480, scene_option=scene_option)\n",
    "    video_frames.append(pixels)"
   ]
  },
  {
   "cell_type": "code",
   "execution_count": null,
   "metadata": {},
   "outputs": [],
   "source": [
    "display_video(video_frames, framerate=30)"
   ]
  },
  {
   "cell_type": "markdown",
   "id": "4ab2c25a-da99-4940-bc35-8b6f0258c5be",
   "metadata": {},
   "source": [
    "# Fly model in reinforcement learning environment\n",
    "\n",
    "So far we've considered the fly model in a \"bare\" stand-alone configuration. One of the main applications of the model, however, is in the context of reinforcement learning (RL) environments -- training the fly to perform different tasks, such as locomotion and other behaviors. \n",
    "\n",
    "`flybody` contains several ready-to-train RL environments, all of which can be created with a single line of code. Below we provide one simple example as a starting point.\n",
    "\n",
    "The `composer` RL environment classes encapsulate the same fly model `physics` object we've seen before, and all our previous \"bare fly model\" examples and manipulations apply to RL environments just the same. As before, see [dm_control](https://github.com/google-deepmind/dm_control/) for more details on `composer` RL environments."
   ]
  },
  {
   "cell_type": "markdown",
   "id": "56d1a652-4cc2-4b4b-9028-1a799ba95d33",
   "metadata": {},
   "source": [
    "## Example: fly-on-ball RL environment\n",
    "\n",
    "This RL task models a biological experimental setup where a tethered fruit fly is required to walk on a floating ball. The image below show an actual setup for such an experiment (_image credit: Igor Siwanowicz, HHMI Janelia Research Campus_).\n",
    "\n",
    "To emulate this experimental setup, several task-specific modifications of the fly model would be required: (i) remove the root freejoint to fuse fly's thorax with the world to imitate tethering, (ii) replace the flat floor with a ball, and (iii) add an artificial observable to allow the policy to observe the rotational state of the ball. The ball position is fixed underneath the tethered fly, but it is free to rotate if a sufficient force is applied by fly's leg. The goal of the RL task is to train a policy to control the legs such that the ball rotates in a particular direction and at a particular speed.\n",
    "\n",
    "See [task implementation](https://github.com/TuragaLab/flybody/blob/main/flybody/tasks/walk_on_ball.py) for details on the task-specific fly model modifications, reward caclulation, and RL environment step logic."
   ]
  },
  {
   "attachments": {
    "fba018f9-7e55-4b53-a3a9-490a8b65384d.jpg": {
     "image/jpeg": "[encoded data removed]"
    }
   },
   "cell_type": "markdown",
   "id": "46025484-4efe-4af4-9c8b-30444a9c30c5",
   "metadata": {},
   "source": [
    "![fly-on-ball.jpg](attachment:fba018f9-7e55-4b53-a3a9-490a8b65384d.jpg)"
   ]
  },
  {
   "cell_type": "markdown",
   "id": "6c53aca8",
   "metadata": {},
   "source": [
    "Reinforcement learning and Deep Reinforcement learning involves how an intelligent agent ought to take actions in a dynamic environment in order to maximize the cumulative reward. "
   ]
  },
  {
   "cell_type": "markdown",
   "id": "63d00e90",
   "metadata": {},
   "source": [
    "<img src=\"./Images/RL_env.png\" alt=\"drawing\" style=\"width:1000px;\"/>"
   ]
  },
  {
   "cell_type": "markdown",
   "id": "0cb43cfc-1ce5-49ae-a9e3-834809b879bc",
   "metadata": {},
   "source": [
    "The task environment can be created with the following convenient one-liner:"
   ]
  },
  {
   "cell_type": "code",
   "execution_count": null,
   "id": "3ce85e41-1134-4c36-bf16-ca80a9d14ed6",
   "metadata": {},
   "outputs": [],
   "source": [
    "env = walk_on_ball()"
   ]
  },
  {
   "cell_type": "markdown",
   "id": "0bd7f378-6973-432c-a5e1-3dd746657bc5",
   "metadata": {},
   "source": [
    "We can inspect the RL environment and see the observations (policy inputs) and the actions (policy outputs). Note the extra observable `ball_qvel` we added specifically for this task. It measures the angular velocity of the ball rotation."
   ]
  },
  {
   "cell_type": "code",
   "execution_count": null,
   "id": "e87f115a-37f1-4e51-96fd-8e391d7da363",
   "metadata": {},
   "outputs": [],
   "source": [
    "env.observation_spec()"
   ]
  },
  {
   "cell_type": "markdown",
   "id": "7f205732-8ea8-4487-ae32-c5e2857bd468",
   "metadata": {},
   "source": [
    "Action specifications: shape, data type, action names, and minima and maxima of the control ranges"
   ]
  },
  {
   "cell_type": "code",
   "execution_count": null,
   "id": "d52a7778-7940-4b22-9a9d-e39f6b7297d6",
   "metadata": {},
   "outputs": [],
   "source": [
    "env.action_spec()"
   ]
  },
  {
   "cell_type": "markdown",
   "id": "d7b56d3d-9fe3-4dac-b4fe-387f74162149",
   "metadata": {},
   "source": [
    "Let's reset the RL environment and visualize the initial state: the fly is stationary in its default pose, the wings are folded, and the ball is not rotating. This would be the initial state of a training episode or inference on a trained policy."
   ]
  },
  {
   "cell_type": "code",
   "execution_count": null,
   "id": "06c8ecc2-bb2f-41b5-95dc-b49fb9c9e79b",
   "metadata": {},
   "outputs": [],
   "source": [
    "timestep = env.reset()\n",
    "\n",
    "pixels = env.physics.render(camera_id=cameras['track1'], **frame_size)\n",
    "PIL.Image.fromarray(pixels)"
   ]
  },
  {
   "cell_type": "markdown",
   "id": "dea79fae-4eb3-4859-88dd-fd287b1db61f",
   "metadata": {},
   "source": [
    "## Run episode with random actions\n",
    "\n",
    "Let's run a short episode with a dummy policy outputting random actions. As we run the environment loop we'll render frames and, for the sake of example, collect the reward at each time step."
   ]
  },
  {
   "cell_type": "code",
   "execution_count": null,
   "id": "d6db6503-e0b3-4625-be35-d7bb4a30bb6b",
   "metadata": {},
   "outputs": [],
   "source": [
    "n_actions = env.action_spec().shape[0]\n",
    "\n",
    "def random_action_policy(observation):\n",
    "    del observation  # Not used by dummy policy.\n",
    "    random_action = np.random.uniform(-.5, .5, n_actions)\n",
    "    return random_action\n",
    "\n",
    "frames = []\n",
    "rewards = []\n",
    "\n",
    "# Environment loop.\n",
    "timestep = env.reset()\n",
    "for _ in range(200):\n",
    "    \n",
    "    action = random_action_policy(timestep.observation)\n",
    "    timestep = env.step(action)\n",
    "    rewards.append(timestep.reward)\n",
    "\n",
    "    pixels = env.physics.render(camera_id=cameras['track1'], **frame_size)\n",
    "    frames.append(pixels)\n",
    "\n",
    "display_video(frames)"
   ]
  },
  {
   "cell_type": "code",
   "execution_count": null,
   "id": "2e346b67-8847-46f2-9fab-f88acce14490",
   "metadata": {},
   "outputs": [],
   "source": [
    "plt.plot(rewards)\n",
    "plt.xlabel('timestep')\n",
    "plt.ylabel('reward')"
   ]
  },
  {
   "cell_type": "code",
   "execution_count": null,
   "id": "06fe25a9-29f7-4767-b4bd-5dd37a66cc63",
   "metadata": {},
   "outputs": [],
   "source": []
  }
 ],
 "metadata": {
  "kernelspec": {
   "display_name": "Python 3 (ipykernel)",
   "language": "python",
   "name": "python3"
  },
  "language_info": {
   "codemirror_mode": {
    "name": "ipython",
    "version": 3
   },
   "file_extension": ".py",
   "mimetype": "text/x-python",
   "name": "python",
   "nbconvert_exporter": "python",
   "pygments_lexer": "ipython3",
   "version": "3.10.12"
  }
 },
 "nbformat": 4,
 "nbformat_minor": 5
}
