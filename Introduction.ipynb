{
 "cells": [
  {
   "cell_type": "markdown",
   "metadata": {},
   "source": [
    "<a target=\"_blank\" href=\"https://colab.research.google.com/github/elliottabe/mujoco_workshop2024/blob/main/Introduction.ipynb\">\n",
    "  <img src=\"https://colab.research.google.com/assets/colab-badge.svg\" alt=\"Open In Colab\"/></a>"
   ]
  },
  {
   "cell_type": "markdown",
   "metadata": {},
   "source": [
    "# Setup"
   ]
  },
  {
   "cell_type": "code",
   "execution_count": null,
   "metadata": {},
   "outputs": [],
   "source": [
    "!pip install mujoco"
   ]
  },
  {
   "cell_type": "code",
   "execution_count": null,
   "metadata": {
    "notebookRunGroups": {
     "groupValue": "1"
    }
   },
   "outputs": [],
   "source": [
    "\n",
    "# Set up GPU rendering.\n",
    "# from google.colab import files\n",
    "import platform\n",
    "import distutils.util\n",
    "import os\n",
    "import subprocess\n",
    "if platform.system() != 'Darwin':\n",
    "  # Configure MuJoCo to use the EGL rendering backend (requires GPU)\n",
    "  print('Setting environment variable to use GPU rendering:')\n",
    "  %env MUJOCO_GL=egl\n",
    "\n",
    "  # Check if installation was succesful.\n",
    "  try:\n",
    "    print('Checking that the installation succeeded:')\n",
    "    import mujoco\n",
    "    mujoco.MjModel.from_xml_string('<mujoco/>')\n",
    "  except Exception as e:\n",
    "    raise e from RuntimeError(\n",
    "        'Something went wrong during installation. Check the shell output above '\n",
    "        'for more information.\\n'\n",
    "        'If using a hosted Colab runtime, make sure you enable GPU acceleration '\n",
    "        'by going to the Runtime menu and selecting \"Choose runtime type\".')\n",
    "else: \n",
    "  import mujoco\n",
    "print('Installation successful.')\n",
    "\n",
    "# Other imports and helper functions\n",
    "import time\n",
    "import itertools\n",
    "import numpy as np\n",
    "\n",
    "# Graphics and plotting.\n",
    "print('Installing mediapy:')\n",
    "!command -v ffmpeg >/dev/null || (apt update && apt install -y ffmpeg)\n",
    "!pip install -q mediapy\n",
    "import mediapy as media\n",
    "import matplotlib.pyplot as plt\n",
    "\n",
    "# More legible printing from numpy.\n",
    "np.set_printoptions(precision=3, suppress=True, linewidth=100)\n",
    "\n",
    "from IPython.display import clear_output\n",
    "# clear_output()\n"
   ]
  },
  {
   "cell_type": "markdown",
   "metadata": {},
   "source": [
    "# Outline of Workshop"
   ]
  },
  {
   "cell_type": "markdown",
   "metadata": {},
   "source": [
    "- Introduction\n",
    "    - Basics of MuJoco models\n",
    "    - Simulations and Rendering\n",
    "    - Measuring values\n",
    "    - Contacts\n",
    "    - Actuators\n",
    "    - Sensors\n",
    "    - Tendons\n",
    "- Biomechanical Bodies\n",
    "    - Flybody Model\n",
    "        - Breakdown\n",
    "        - Kinematic Replay\n",
    "- Reinforcement Learning in MuJoCo\n",
    "    - MJX/Brax\n",
    "    - Quadruped Envronment"
   ]
  },
  {
   "cell_type": "markdown",
   "metadata": {},
   "source": [
    "# Introduction"
   ]
  },
  {
   "cell_type": "markdown",
   "metadata": {},
   "source": [
    "MuJoCo stands for **Mu**lti-**Jo**int dynamics with **Co**ntact. It is a general purpose physics engine that aims to facilitate research and development in robotics, biomechanics, graphics and animation, machine learning, and other areas that demand fast and accurate simulation of articulated structures interacting with their environment. "
   ]
  },
  {
   "cell_type": "markdown",
   "metadata": {
    "notebookRunGroups": {
     "groupValue": "1"
    },
    "slideshow": {
     "slide_type": "slide"
    }
   },
   "source": [
    "Key Features of MuJoCo: \n",
    " - Generalized coordinates combined with modern contact dynamics\n",
    " - Soft, convex and analytically-invertible contact dynamics\n",
    " - Tendon geometry\n",
    " - General actuation model\n",
    " - Reconfigurable computation pipeline\n",
    " - Model compilation\n",
    " - Separation of model and data\n",
    " - Interactive simulation and visualization\n",
    " - Powerful yet intuitive modeling language\n",
    " - Automated generation of composite flexible objects"
   ]
  },
  {
   "cell_type": "markdown",
   "metadata": {},
   "source": [
    "Workflow Overview\n",
    " - The workflow MuJoCo typically starts with a user defined XML file that specifies the model and environment at compilation time. \n",
    " - MuJoCo is written in C/C++ but has python and unity binding for additional devleopment\n",
    " - There are two main stuctures in MujoCo: \n",
    "   - mjModel: specifies the kinematic tree for calculating collisions and forces. Parts of the model independent of time. \n",
    "   - mjData: specifies simulated state of the model and enviornment. Parts of the model that are time dependent."
   ]
  },
  {
   "cell_type": "markdown",
   "metadata": {},
   "source": [
    "<img align=\"left\" src=\"Images/workflow.png\" alt=\"drawing\" width=\"300\"/>\n",
    "<!-- &nbsp;  -->\n",
    "<img src=\"Images/kinematic_tree.png\" alt=\"drawing\" height=\"300\"/>\n",
    "<img src=\"Images/simulated_state.png\" alt=\"drawing\" height=\"300\"/>"
   ]
  },
  {
   "cell_type": "markdown",
   "metadata": {},
   "source": [
    "# Basics"
   ]
  },
  {
   "cell_type": "markdown",
   "metadata": {},
   "source": [
    "There are three main ways to interact with designing MuJoCo models:\n",
    " - Building XML from stings/loading XML files with native MuJoCo.\n",
    "    - Pros: \n",
    "        - Works without any additional packages.\n",
    "        - Will be up to date with any MuJoCo changes.\n",
    "        - Well documented\n",
    "    - Cons:\n",
    "        - Only basic control of models and data, many utility functions not fully supported.\n",
    " - MJCF through dm_control\n",
    "    - Pros: \n",
    "        - Lots of utility functions to understand and manipulate models.\n",
    "        - Built for Reinforcement Learning (RL) so environments and rewards are easily constructed.\n",
    "    - Cons:\n",
    "        - Will be slower to get updated features in MuJoCo since development is independent of MuJoCo.\n",
    "        - Functions are not well documented\n",
    " - MuJoCo MjSpec (newly developed)\n",
    "    - Pros:\n",
    "        - Will be continually updated by the people who maintain MuJoCo.\n",
    "        - Well documented.\n",
    "    - Cons:\n",
    "        - Brand new and will take some time to flush out full development.\n",
    "\n",
    "For this workshop we will focus on ***XML in native MuJoCo*** and ***MJCF in dm_control***."
   ]
  },
  {
   "cell_type": "markdown",
   "metadata": {},
   "source": [
    "The beginning of this Workshop is taken from MuJoCo's Tutorial notebook with modifications to explain features more in depth where needed. "
   ]
  },
  {
   "cell_type": "markdown",
   "metadata": {},
   "source": [
    "## XML String/Files with native MuJoCo"
   ]
  },
  {
   "cell_type": "markdown",
   "metadata": {},
   "source": [
    "To start with we will begin by defining a simple xml string to generate a box and sphere geoms."
   ]
  },
  {
   "cell_type": "code",
   "execution_count": null,
   "metadata": {},
   "outputs": [],
   "source": [
    "xml = \"\"\"\n",
    "<mujoco>\n",
    "  <worldbody>\n",
    "    <geom name=\"red_box\" type=\"box\" size=\".2 .2 .2\" rgba=\"1 0 0 1\"/>\n",
    "    <geom name=\"green_sphere\" pos=\".2 .2 .2\" size=\".1\" rgba=\"0 1 0 1\"/>\n",
    "  </worldbody>\n",
    "</mujoco>\n",
    "\"\"\"\n",
    "model = mujoco.MjModel.from_xml_string(xml)"
   ]
  },
  {
   "cell_type": "markdown",
   "metadata": {},
   "source": [
    "The `xml` string is written in MuJoCo's [MJCF](http://www.mujoco.org/book/modeling.html), which is an [XML](https://en.wikipedia.org/wiki/XML#Key_terminology)-based modeling language.\n",
    "  - The only required element is `<mujoco>`. The smallest valid MJCF model is `<mujoco/>` which is a completely empty model.\n",
    "  - All physical elements live inside the `<worldbody>` which is always the top-level body and constitutes the global origin in Cartesian coordinates.\n",
    "  - We define two geoms in the world named `red_box` and `green_sphere`.\n",
    "  - **Question:** The `red_box` has no position, the `green_sphere` has no type, why is that?\n",
    "    - **Answer:** MJCF attributes have *default values*. The default position is `0 0 0`, the default geom type is `sphere`. The MJCF language is described in the documentation's [XML Reference chapter](https://mujoco.readthedocs.io/en/latest/XMLreference.html).\n",
    "\n",
    "The `from_xml_string()` method invokes the model compiler, which creates a binary `mjModel` instance."
   ]
  },
  {
   "cell_type": "markdown",
   "metadata": {},
   "source": [
    "## mjModel\n",
    "\n",
    "MuJoCo's `mjModel`, contains the *model description*, i.e., all quantities which *do not change over time*. The complete description of `mjModel` can be found at the end of the header file [`mjmodel.h`](https://github.com/google-deepmind/mujoco/blob/main/include/mujoco/mjmodel.h). Note that the header files contain short, useful inline comments, describing each field.\n",
    "\n",
    "Examples of quantities that can be found in `mjModel` are `ngeom`, the number of geoms in the scene and `geom_rgba`, their respective colors:"
   ]
  },
  {
   "cell_type": "code",
   "execution_count": null,
   "metadata": {},
   "outputs": [],
   "source": [
    "model.ngeom"
   ]
  },
  {
   "cell_type": "code",
   "execution_count": null,
   "metadata": {},
   "outputs": [],
   "source": [
    "model.geom_rgba"
   ]
  },
  {
   "cell_type": "markdown",
   "metadata": {},
   "source": [
    "## Named access\n",
    "\n",
    "The MuJoCo Python bindings provide convenient [accessors](https://mujoco.readthedocs.io/en/latest/python.html#named-access) using names. Calling the `model.geom()` accessor without a name string generates a convenient error that tells us what the valid names are."
   ]
  },
  {
   "cell_type": "code",
   "execution_count": null,
   "metadata": {},
   "outputs": [],
   "source": [
    "try:\n",
    "  model.geom()\n",
    "except KeyError as e:\n",
    "  print(e)"
   ]
  },
  {
   "cell_type": "markdown",
   "metadata": {},
   "source": [
    "Calling the named accessor without specifying a property will tell us what all the valid properties are:"
   ]
  },
  {
   "cell_type": "code",
   "execution_count": null,
   "metadata": {},
   "outputs": [],
   "source": [
    "model.geom('green_sphere')"
   ]
  },
  {
   "cell_type": "markdown",
   "metadata": {},
   "source": [
    "Let's read the `green_sphere`'s rgba values:"
   ]
  },
  {
   "cell_type": "code",
   "execution_count": null,
   "metadata": {},
   "outputs": [],
   "source": [
    "model.geom('green_sphere').rgba"
   ]
  },
  {
   "cell_type": "markdown",
   "metadata": {},
   "source": [
    "This functionality is a convenience shortcut for MuJoCo's [`mj_name2id`](https://mujoco.readthedocs.io/en/latest/APIreference.html?highlight=mj_name2id#mj-name2id) function:"
   ]
  },
  {
   "cell_type": "code",
   "execution_count": null,
   "metadata": {},
   "outputs": [],
   "source": [
    "id = mujoco.mj_name2id(model, mujoco.mjtObj.mjOBJ_GEOM, 'green_sphere')\n",
    "model.geom_rgba[id, :]"
   ]
  },
  {
   "cell_type": "markdown",
   "metadata": {},
   "source": [
    "Similarly, the read-only `id` and `name` properties can be used to convert from id to name and back:"
   ]
  },
  {
   "cell_type": "code",
   "execution_count": null,
   "metadata": {},
   "outputs": [],
   "source": [
    "print('id of \"green_sphere\": ', model.geom('green_sphere').id)\n",
    "print('name of geom 1: ', model.geom(1).name)\n",
    "print('name of body 0: ', model.body(0).name)"
   ]
  },
  {
   "cell_type": "markdown",
   "metadata": {},
   "source": [
    "Note that the 0th body is always the `world`. It cannot be renamed.\n",
    "\n",
    "The `id` and `name` attributes are useful in Python comprehensions:"
   ]
  },
  {
   "cell_type": "code",
   "execution_count": null,
   "metadata": {},
   "outputs": [],
   "source": [
    "[model.geom(i).name for i in range(model.ngeom)]"
   ]
  },
  {
   "cell_type": "markdown",
   "metadata": {},
   "source": [
    "## `mjData`\n",
    "`mjData` contains the *state* and quantities that depend on it. The state is made up of time, [generalized](https://en.wikipedia.org/wiki/Generalized_coordinates) positions and generalized velocities. These are respectively `data.time`, `data.qpos` and `data.qvel`. In order to make a new `mjData`, all we need is our `mjModel`"
   ]
  },
  {
   "cell_type": "code",
   "execution_count": null,
   "metadata": {},
   "outputs": [],
   "source": [
    "data = mujoco.MjData(model)"
   ]
  },
  {
   "cell_type": "markdown",
   "metadata": {},
   "source": [
    "`mjData` also contains *functions of the state*, for example the Cartesian positions of objects in the world frame. The (x, y, z) positions of our two geoms are in `data.geom_xpos`:"
   ]
  },
  {
   "cell_type": "code",
   "execution_count": null,
   "metadata": {},
   "outputs": [],
   "source": [
    "print(data.geom_xpos)"
   ]
  },
  {
   "cell_type": "markdown",
   "metadata": {},
   "source": [
    "Wait, why are both of our geoms at the origin? Didn't we offset the green sphere? The answer is that derived quantities in `mjData` need to be explicitly propagated (see [below](#scrollTo=QY1gpms1HXeN)). In our case, the minimal required function is [`mj_kinematics`](https://mujoco.readthedocs.io/en/latest/APIreference.html#mj-kinematics), which computes global Cartesian poses for all objects (excluding cameras and lights)."
   ]
  },
  {
   "cell_type": "code",
   "execution_count": null,
   "metadata": {},
   "outputs": [],
   "source": [
    "mujoco.mj_kinematics(model, data)\n",
    "print('raw access:\\n', data.geom_xpos)\n",
    "\n",
    "# MjData also supports named access:\n",
    "print('\\nnamed access:\\n', data.geom('green_sphere').xpos)"
   ]
  },
  {
   "cell_type": "markdown",
   "metadata": {},
   "source": [
    "# Basic rendering, simulation, and animation\n",
    "\n",
    "In order to render we'll need to instantiate a `Renderer` object and call its `render` method.\n",
    "\n",
    "We'll also reload our model to make the colab's sections independent."
   ]
  },
  {
   "cell_type": "code",
   "execution_count": null,
   "metadata": {},
   "outputs": [],
   "source": [
    "xml = \"\"\"\n",
    "<mujoco>\n",
    "  <worldbody>\n",
    "    <geom name=\"red_box\" type=\"box\" size=\".2 .2 .2\" rgba=\"1 0 0 1\"/>\n",
    "    <geom name=\"green_sphere\" pos=\".2 .2 .2\" size=\".1\" rgba=\"0 1 0 1\"/>\n",
    "  </worldbody>\n",
    "</mujoco>\n",
    "\"\"\"\n",
    "# Make model and data\n",
    "model = mujoco.MjModel.from_xml_string(xml)\n",
    "data = mujoco.MjData(model)\n",
    "\n",
    "# Make renderer, render and show the pixels\n",
    "with mujoco.Renderer(model) as renderer:\n",
    "  media.show_image(renderer.render())"
   ]
  },
  {
   "cell_type": "markdown",
   "metadata": {},
   "source": [
    "Why the black pixels?\n",
    "\n",
    "**Answer:** For the same reason as above, we first need to propagate the values in `mjData`. This time we'll call [`mj_forward`](https://mujoco.readthedocs.io/en/latest/APIreference/APIfunctions.html#mj-forward), which invokes the entire pipeline up to the computation of accelerations i.e., it computes $\\dot x = f(x)$, where $x$ is the state. This function does more than we actually need, but unless we care about saving computation time, it's good practice to call `mj_forward` since then we know we are not missing anything.\n",
    "\n",
    "We also need to update the `mjvScene` which is an object held by the renderer describing the visual scene. We'll later see that the scene can include visual objects which are not part of the physical model."
   ]
  },
  {
   "cell_type": "code",
   "execution_count": null,
   "metadata": {},
   "outputs": [],
   "source": [
    "with mujoco.Renderer(model) as renderer:\n",
    "  mujoco.mj_forward(model, data)\n",
    "  renderer.update_scene(data)\n",
    "\n",
    "  media.show_image(renderer.render())"
   ]
  },
  {
   "cell_type": "markdown",
   "metadata": {},
   "source": [
    "This worked, but this image is a bit dark. Let's add a light and re-render."
   ]
  },
  {
   "cell_type": "code",
   "execution_count": null,
   "metadata": {},
   "outputs": [],
   "source": [
    "xml = \"\"\"\n",
    "<mujoco>\n",
    "  <worldbody>\n",
    "    <light name=\"top\" pos=\"0 0 1\" diffuse=\"0.3 0.3 0.3\"/>\n",
    "    <geom name=\"red_box\" type=\"box\" size=\".2 .2 .2\" rgba=\"1 0 0 1\"/>\n",
    "    <geom name=\"green_sphere\" pos=\".2 .2 .2\" size=\".1\" rgba=\"0 1 0 1\"/>\n",
    "  </worldbody>\n",
    "</mujoco>\n",
    "\"\"\"\n",
    "model = mujoco.MjModel.from_xml_string(xml)\n",
    "data = mujoco.MjData(model)\n",
    "\n",
    "with mujoco.Renderer(model) as renderer:\n",
    "  mujoco.mj_forward(model, data)\n",
    "  renderer.update_scene(data)\n",
    "\n",
    "  media.show_image(renderer.render())"
   ]
  },
  {
   "cell_type": "markdown",
   "metadata": {},
   "source": [
    "## Simulation\n",
    "\n",
    "Now let's simulate and make a video. We'll use MuJoCo's main high level function `mj_step`, which steps the state $x_{t+h} = f(x_t)$.\n",
    "\n",
    "Note that in the code block below we are *not* rendering after each call to `mj_step`. This is because the default timestep is 2ms, and we want a 60fps video, not 500fps."
   ]
  },
  {
   "cell_type": "markdown",
   "metadata": {},
   "source": [
    "We first need to define [degrees of freedom](https://www.google.com/url?sa=D&q=https%3A%2F%2Fen.wikipedia.org%2Fwiki%2FDegrees_of_freedom_(mechanics)) (DoFs). The things that move (and which have inertia) are called *bodies*. We add DoFs by adding *joints* to bodies, specifying how they can move with respect to their parents. Let's make a new body that contains our geoms, add a hinge joint and re-render, while visualizing the joint axis using the visualization option object `MjvOption`."
   ]
  },
  {
   "cell_type": "markdown",
   "metadata": {},
   "source": [
    "There are four [joint](https://mujoco.readthedocs.io/en/stable/XMLreference.html#body-joint) types: \n",
    "- **Free**: 6 DoFs (3 translational and 3 rotational)\n",
    "- **Ball**: 3 DoFs (3 rotational)\n",
    "- **Slide**: 1 DoF (1 translational)\n",
    "- **Hinge**: 1 DoF (1 rotational)"
   ]
  },
  {
   "cell_type": "code",
   "execution_count": null,
   "metadata": {},
   "outputs": [],
   "source": [
    "xml = \"\"\"\n",
    "<mujoco>\n",
    "  <worldbody>\n",
    "    <light name=\"top\" pos=\"0 0 1\"/>\n",
    "    <body name=\"box_and_sphere\" euler=\"0 0 -30\">\n",
    "      <joint name=\"swing\" type=\"hinge\" axis=\"1 -1 0\" pos=\"-.2 -.2 -.2\"/>\n",
    "      <geom name=\"red_box\" type=\"box\" size=\".2 .2 .2\" rgba=\"1 0 0 1\"/>\n",
    "      <geom name=\"green_sphere\" pos=\".2 .2 .2\" size=\".1\" rgba=\"0 1 0 1\"/>\n",
    "    </body>\n",
    "  </worldbody>\n",
    "</mujoco>\n",
    "\"\"\"\n",
    "model = mujoco.MjModel.from_xml_string(xml)\n",
    "data = mujoco.MjData(model)\n",
    "\n",
    "# enable joint visualization option:\n",
    "scene_option = mujoco.MjvOption()\n",
    "scene_option.flags[mujoco.mjtVisFlag.mjVIS_JOINT] = True\n",
    "\n",
    "duration = 3.8  # (seconds)\n",
    "framerate = 60  # (Hz)\n",
    "\n",
    "# Simulate and display video.\n",
    "frames = []\n",
    "mujoco.mj_resetData(model, data)\n",
    "with mujoco.Renderer(model) as renderer:\n",
    "  while data.time < duration:\n",
    "    mujoco.mj_step(model, data)\n",
    "    if len(frames) < data.time * framerate:\n",
    "      renderer.update_scene(data, scene_option=scene_option)\n",
    "      pixels = renderer.render()\n",
    "      frames.append(pixels)\n",
    "\n",
    "media.show_video(frames, fps=framerate)"
   ]
  },
  {
   "cell_type": "markdown",
   "metadata": {},
   "source": [
    "Note that we rotated the `box_and_sphere` body by 30° around the Z (vertical) axis, with the directive `euler=\"0 0 -30\"`. This was made to emphasize that the poses of elements in the [kinematic tree](https://www.google.com/url?sa=D&q=https%3A%2F%2Fen.wikipedia.org%2Fwiki%2FKinematic_chain) are always with respect to their *parent body*, so our two geoms were also rotated by this transformation.\n",
    "\n",
    "Physics options live in `mjModel.opt`, for example the timestep:"
   ]
  },
  {
   "cell_type": "markdown",
   "metadata": {},
   "source": [
    "The positions and orientations of all elements defined in the kinematic tree are expressed in local coordinates, relative to the parent body for bodies, and relative to the body that contains the element for geoms, joints, sites, cameras and lights."
   ]
  },
  {
   "cell_type": "code",
   "execution_count": null,
   "metadata": {},
   "outputs": [],
   "source": [
    "model.opt.timestep"
   ]
  },
  {
   "cell_type": "markdown",
   "metadata": {},
   "source": [
    "Let's flip gravity and re-render:"
   ]
  },
  {
   "cell_type": "code",
   "execution_count": null,
   "metadata": {},
   "outputs": [],
   "source": [
    "print('default gravity', model.opt.gravity)\n",
    "model.opt.gravity = (0, 0, 10)\n",
    "print('flipped gravity', model.opt.gravity)\n",
    "\n",
    "# Simulate and display video.\n",
    "frames = []\n",
    "mujoco.mj_resetData(model, data)\n",
    "with mujoco.Renderer(model) as renderer:\n",
    "  while data.time < duration:\n",
    "    mujoco.mj_step(model, data)\n",
    "    if len(frames) < data.time * framerate:\n",
    "      renderer.update_scene(data, scene_option=scene_option)\n",
    "      pixels = renderer.render()\n",
    "      frames.append(pixels)\n",
    "\n",
    "media.show_video(frames, fps=60)"
   ]
  },
  {
   "cell_type": "markdown",
   "metadata": {},
   "source": [
    "We could also have done this in XML using the top-level `<option>` element:\n",
    "```xml\n",
    "<mujoco>\n",
    "  <option gravity=\"0 0 10\"/>\n",
    "  ...\n",
    "</mujoco>\n",
    "```"
   ]
  },
  {
   "cell_type": "markdown",
   "metadata": {},
   "source": [
    "### Understanding Degrees of Freedom\n",
    "\n",
    "In the real world, all rigid objects have 6 degrees-of-freedom: 3 translations and 3 rotations. Real-world joints act as constraints, removing relative degrees-of-freedom from bodies connected by joints. Some physics simulation software use this representation which is known as the \"Cartesian\" or \"subtractive\" representation, but it is inefficient. MuJoCo uses a representation known as the \"Lagrangian\", \"generalized\" or \"additive\" representation, whereby objects have no degrees of freedom unless explicitly added using joints.\n",
    "\n",
    "Our model, which has a single hinge joint, has one degree of freedom, and the entire state is defined by this joint's angle and angular velocity. These are the system's generalized position and velocity."
   ]
  },
  {
   "cell_type": "code",
   "execution_count": null,
   "metadata": {},
   "outputs": [],
   "source": [
    "print('Total number of DoFs in the model:', model.nv)\n",
    "print('Generalized positions:', data.qpos)\n",
    "print('Generalized velocities:', data.qvel)"
   ]
  },
  {
   "cell_type": "markdown",
   "metadata": {},
   "source": [
    "MuJoCo's use of generalized coordinates is the reason that calling a function (e.g. [`mj_forward`](https://mujoco.readthedocs.io/en/latest/APIreference.html#mj-forward)) is required before rendering or reading the global poses of objects – Cartesian positions are *derived* from the generalized positions and need to be explicitly computed."
   ]
  },
  {
   "cell_type": "markdown",
   "metadata": {},
   "source": [
    "# Example: Analysis of contact forces\n",
    "\n",
    "A free body is a body with a [free joint](https://www.google.com/url?sa=D&q=https%3A%2F%2Fmujoco.readthedocs.io%2Fen%2Flatest%2FXMLreference.html%3Fhighlight%3Dfreejoint%23body-freejoint) having 6 DoFs, i.e., 3 translations and 3 rotations. We will give our `box_and_sphere` body a free joint and watch it fall."
   ]
  },
  {
   "cell_type": "code",
   "execution_count": null,
   "metadata": {},
   "outputs": [],
   "source": [
    "free_body_MJCF = \"\"\"\n",
    "<mujoco>\n",
    "  <asset>\n",
    "    <texture name=\"grid\" type=\"2d\" builtin=\"checker\" rgb1=\".1 .2 .3\"\n",
    "    rgb2=\".2 .3 .4\" width=\"300\" height=\"300\" mark=\"edge\" markrgb=\".2 .3 .4\"/>\n",
    "    <material name=\"grid\" texture=\"grid\" texrepeat=\"2 2\" texuniform=\"true\"\n",
    "    reflectance=\".2\"/>\n",
    "  </asset>\n",
    "\n",
    "  <worldbody>\n",
    "    <light pos=\"0 0 1\" mode=\"trackcom\"/>\n",
    "    <geom name=\"ground\" type=\"plane\" pos=\"0 0 -.5\" size=\"2 2 .1\" material=\"grid\" solimp=\".99 .99 .01\" solref=\".001 1\"/>\n",
    "    <body name=\"box_and_sphere\" pos=\"0 0 0\">\n",
    "      <freejoint/>\n",
    "      <geom name=\"red_box\" type=\"box\" size=\".1 .1 .1\" rgba=\"1 0 0 1\" solimp=\".99 .99 .01\"  solref=\".001 1\"/>\n",
    "      <geom name=\"green_sphere\" size=\".06\" pos=\".1 .1 .1\" rgba=\"0 1 0 1\"/>\n",
    "      <camera name=\"fixed\" pos=\"0 -.6 .3\" xyaxes=\"1 0 0 0 1 2\"/>\n",
    "      <camera name=\"track\" pos=\"0 -.6 .3\" xyaxes=\"1 0 0 0 1 2\" mode=\"track\"/>\n",
    "    </body>\n",
    "  </worldbody>\n",
    "</mujoco>\n",
    "\"\"\"\n",
    "model = mujoco.MjModel.from_xml_string(free_body_MJCF)\n",
    "data = mujoco.MjData(model)\n",
    "height = 400\n",
    "width = 600\n",
    "\n",
    "with mujoco.Renderer(model, height, width) as renderer:\n",
    "  mujoco.mj_forward(model, data)\n",
    "  renderer.update_scene(data, \"fixed\")\n",
    "\n",
    "  media.show_image(renderer.render())"
   ]
  },
  {
   "cell_type": "markdown",
   "metadata": {},
   "source": [
    "Note several new features of this model definition:\n",
    "1. A 6-DoF free joint is added with the `<freejoint/>` clause.\n",
    "2. We define the floor's grid material inside the `<asset/>` clause and reference it in the `\"floor\"` geom.\n",
    "3. We define a `<camera>` in our model, and then render from it using the `camera` argument to `update_scene()`.\n",
    "Let us examine the state:\n"
   ]
  },
  {
   "cell_type": "markdown",
   "metadata": {},
   "source": [
    "Let render this body rolling on the floor, in slow-motion, while visualizing contact points and forces:"
   ]
  },
  {
   "cell_type": "code",
   "execution_count": null,
   "metadata": {},
   "outputs": [],
   "source": [
    "n_frames = 200\n",
    "height = 240\n",
    "width = 320\n",
    "frames = []\n",
    "\n",
    "# visualize contact frames and forces, make body transparent\n",
    "options = mujoco.MjvOption()\n",
    "mujoco.mjv_defaultOption(options)\n",
    "options.flags[mujoco.mjtVisFlag.mjVIS_CONTACTPOINT] = True\n",
    "options.flags[mujoco.mjtVisFlag.mjVIS_CONTACTFORCE] = True\n",
    "options.flags[mujoco.mjtVisFlag.mjVIS_TRANSPARENT] = True\n",
    "\n",
    "# tweak scales of contact visualization elements\n",
    "model.vis.scale.contactwidth = 0.1\n",
    "model.vis.scale.contactheight = 0.03\n",
    "model.vis.scale.forcewidth = 0.05\n",
    "model.vis.map.force = 0.3\n",
    "\n",
    "# random initial rotational velocity:\n",
    "mujoco.mj_resetData(model, data)\n",
    "data.qvel[3:6] = 5*np.random.randn(3)\n",
    "\n",
    "# Simulate and display video.\n",
    "with mujoco.Renderer(model, height, width) as renderer:\n",
    "  for i in range(n_frames):\n",
    "    while data.time < i/120.0: #1/4x real time\n",
    "      mujoco.mj_step(model, data)\n",
    "    renderer.update_scene(data, \"track\", options)\n",
    "    frame = renderer.render()\n",
    "    frames.append(frame)\n",
    "\n",
    "media.show_video(frames, fps=30)"
   ]
  },
  {
   "cell_type": "code",
   "execution_count": null,
   "metadata": {},
   "outputs": [],
   "source": [
    "print('positions', data.qpos)\n",
    "print('velocities', data.qvel)"
   ]
  },
  {
   "cell_type": "markdown",
   "metadata": {},
   "source": [
    "The velocities are easy to interpret, 6 zeros, one for each DoF. What about the length 7 positions? We can see the initial 2cm height of the body; the subsequent four numbers are the 3D orientation, defined by a *unit quaternion*. 3D orientations are represented with **4** numbers while angular velocities are **3** numbers. For more information see the Wikipedia article on [quaternions and spatial rotation](https://en.wikipedia.org/wiki/Quaternions_and_spatial_rotation).\n",
    "\n",
    "Additional explanations on quaternions: \n",
    " - [Great Visualiztions by 3Blue1Brown/Ben Eater](https://eater.net/quaternions)\n",
    " - [Quick Video](https://www.youtube.com/watch?v=zjMuIxRvygQ)\n",
    " - [Long Video](https://www.3blue1brown.com/lessons/quaternions)\n"
   ]
  },
  {
   "cell_type": "markdown",
   "metadata": {},
   "source": [
    "### Measuring values from `mjData`\n",
    "As mentioned above, the `mjData` structure contains the dynamic variables and intermediate results produced by the simulation which are *expected to change* on each timestep. "
   ]
  },
  {
   "cell_type": "markdown",
   "metadata": {},
   "source": [
    "Let's rerun the above simulation (with a different random initial condition) and\n",
    "plot some values related to the contacts"
   ]
  },
  {
   "cell_type": "code",
   "execution_count": null,
   "metadata": {},
   "outputs": [],
   "source": [
    "n_steps = 499\n",
    "\n",
    "# allocate\n",
    "sim_time = np.zeros(n_steps)\n",
    "ncon = np.zeros(n_steps)\n",
    "force = np.zeros((n_steps,3))\n",
    "velocity = np.zeros((n_steps, model.nv))\n",
    "penetration = np.zeros(n_steps)\n",
    "acceleration = np.zeros((n_steps, model.nv))\n",
    "forcetorque = np.zeros(6)\n",
    "\n",
    "# random initial rotational velocity:\n",
    "mujoco.mj_resetData(model, data)\n",
    "data.qvel[3:6] = 2*np.random.randn(3)\n",
    "\n",
    "# simulate and save data\n",
    "for i in range(n_steps):\n",
    "  mujoco.mj_step(model, data)\n",
    "  sim_time[i] = data.time\n",
    "  ncon[i] = data.ncon\n",
    "  velocity[i] = data.qvel[:]\n",
    "  acceleration[i] = data.qacc[:]\n",
    "  # iterate over active contacts, save force and distance\n",
    "  for j,c in enumerate(data.contact):\n",
    "    mujoco.mj_contactForce(model, data, j, forcetorque)\n",
    "    force[i] += forcetorque[0:3]\n",
    "    penetration[i] = min(penetration[i], c.dist)\n",
    "  # we could also do\n",
    "  # force[i] += data.qfrc_constraint[0:3]\n",
    "  # do you see why?\n",
    "\n",
    "# plot\n",
    "_, ax = plt.subplots(3, 2, sharex=True, figsize=(10, 10))\n",
    "\n",
    "lines = ax[0,0].plot(sim_time, force)\n",
    "ax[0,0].set_title('contact force')\n",
    "ax[0,0].set_ylabel('Newton')\n",
    "ax[0,0].legend(iter(lines), ('normal z', 'friction x', 'friction y'));\n",
    "\n",
    "ax[1,0].plot(sim_time, acceleration)\n",
    "ax[1,0].set_title('acceleration')\n",
    "ax[1,0].set_ylabel('(meter,radian)/s/s')\n",
    "\n",
    "ax[2,0].plot(sim_time, velocity)\n",
    "ax[2,0].set_title('velocity')\n",
    "ax[2,0].set_ylabel('(meter,radian)/s')\n",
    "ax[2,0].set_xlabel('second')\n",
    "\n",
    "ax[0,1].plot(sim_time, ncon)\n",
    "ax[0,1].set_title('number of contacts')\n",
    "ax[0,1].set_yticks(range(6))\n",
    "\n",
    "ax[1,1].plot(sim_time, force[:,0])\n",
    "ax[1,1].set_yscale('log')\n",
    "ax[1,1].set_title('normal (z) force - log scale')\n",
    "ax[1,1].set_ylabel('Newton')\n",
    "z_gravity = -model.opt.gravity[2]\n",
    "mg = model.body(\"box_and_sphere\").mass[0] * z_gravity\n",
    "mg_line = ax[1,1].plot(sim_time, np.ones(n_steps)*mg, label='m*g', linewidth=1)\n",
    "ax[1,1].legend()\n",
    "\n",
    "ax[2,1].plot(sim_time, 1000*penetration)\n",
    "ax[2,1].set_title('penetration depth')\n",
    "ax[2,1].set_ylabel('millimeter')\n",
    "ax[2,1].set_xlabel('second')\n",
    "\n",
    "plt.tight_layout()"
   ]
  },
  {
   "cell_type": "markdown",
   "metadata": {},
   "source": [
    "# Example: A chaotic pendulum"
   ]
  },
  {
   "cell_type": "markdown",
   "metadata": {},
   "source": [
    "Below is a model of a chaotic pendulum, similar to [this one](https://www.exploratorium.edu/exhibits/chaotic-pendulum) in the San Francisco Exploratorium."
   ]
  },
  {
   "cell_type": "code",
   "execution_count": null,
   "metadata": {},
   "outputs": [],
   "source": [
    "chaotic_pendulum = \"\"\"\n",
    "<mujoco>\n",
    "  <option timestep=\".001\">\n",
    "    <flag energy=\"enable\" contact=\"disable\"/>\n",
    "  </option>\n",
    "\n",
    "  <default>\n",
    "    <joint type=\"hinge\" axis=\"0 -1 0\"/>\n",
    "    <geom type=\"capsule\" size=\".02\"/>\n",
    "  </default>\n",
    "\n",
    "  <worldbody>\n",
    "    <light pos=\"0 -.4 1\"/>\n",
    "    <camera name=\"fixed\" pos=\"0 -1 0\" xyaxes=\"1 0 0 0 0 1\"/>\n",
    "    <body name=\"0\" pos=\"0 0 .2\">\n",
    "      <joint name=\"root\"/>\n",
    "      <geom fromto=\"-.2 0 0 .2 0 0\" rgba=\"1 1 0 1\"/>\n",
    "      <geom fromto=\"0 0 0 0 0 -.25\" rgba=\"1 1 0 1\"/>\n",
    "      <body name=\"1\" pos=\"-.2 0 0\">\n",
    "        <joint/>\n",
    "        <geom fromto=\"0 0 0 0 0 -.2\" rgba=\"1 0 0 1\"/>\n",
    "      </body>\n",
    "      <body name=\"2\" pos=\".2 0 0\">\n",
    "        <joint/>\n",
    "        <geom fromto=\"0 0 0 0 0 -.2\" rgba=\"0 1 0 1\"/>\n",
    "      </body>\n",
    "      <body name=\"3\" pos=\"0 0 -.25\">\n",
    "        <joint/>\n",
    "        <geom fromto=\"0 0 0 0 0 -.2\" rgba=\"0 0 1 1\"/>\n",
    "      </body>\n",
    "    </body>\n",
    "  </worldbody>\n",
    "</mujoco>\n",
    "\"\"\"\n",
    "model = mujoco.MjModel.from_xml_string(chaotic_pendulum)\n",
    "data = mujoco.MjData(model)\n",
    "height = 480\n",
    "width = 640\n",
    "\n",
    "with mujoco.Renderer(model, height, width) as renderer:\n",
    "  mujoco.mj_forward(model, data)\n",
    "  renderer.update_scene(data, camera=\"fixed\")\n",
    "\n",
    "  media.show_image(renderer.render())"
   ]
  },
  {
   "cell_type": "markdown",
   "metadata": {},
   "source": [
    "## Timing\n",
    "Let's see a video of it in action while we time the components:"
   ]
  },
  {
   "cell_type": "code",
   "execution_count": null,
   "metadata": {},
   "outputs": [],
   "source": [
    "# setup\n",
    "n_seconds = 6\n",
    "framerate = 30  # Hz\n",
    "n_frames = int(n_seconds * framerate)\n",
    "frames = []\n",
    "height = 240\n",
    "width = 320\n",
    "\n",
    "# set initial state\n",
    "mujoco.mj_resetData(model, data)\n",
    "data.joint('root').qvel = 10\n",
    "\n",
    "# simulate and record frames\n",
    "frame = 0\n",
    "sim_time = 0\n",
    "render_time = 0\n",
    "n_steps = 0\n",
    "with mujoco.Renderer(model, height, width) as renderer:\n",
    "  for i in range(n_frames):\n",
    "    while data.time * framerate < i:\n",
    "      tic = time.time()\n",
    "      mujoco.mj_step(model, data)\n",
    "      sim_time += time.time() - tic\n",
    "      n_steps += 1\n",
    "    tic = time.time()\n",
    "    renderer.update_scene(data, \"fixed\")\n",
    "    frame = renderer.render()\n",
    "    render_time += time.time() - tic\n",
    "    frames.append(frame)\n",
    "\n",
    "# print timing and play video\n",
    "step_time = 1e6*sim_time/n_steps\n",
    "step_fps = n_steps/sim_time\n",
    "print(f'simulation: {step_time:5.3g} μs/step  ({step_fps:5.0f}Hz)')\n",
    "frame_time = 1e6*render_time/n_frames\n",
    "frame_fps = n_frames/render_time\n",
    "print(f'rendering:  {frame_time:5.3g} μs/frame ({frame_fps:5.0f}Hz)')\n",
    "print('\\n')\n",
    "\n",
    "# show video\n",
    "media.show_video(frames, fps=framerate)"
   ]
  },
  {
   "cell_type": "markdown",
   "metadata": {},
   "source": [
    "Note that rendering is **much** slower than the simulated physics."
   ]
  },
  {
   "cell_type": "markdown",
   "metadata": {},
   "source": [
    "## Friction\n",
    "\n",
    "Let's see the effect of changing friction values"
   ]
  },
  {
   "cell_type": "code",
   "execution_count": null,
   "metadata": {},
   "outputs": [],
   "source": [
    "MJCF = \"\"\"\n",
    "<mujoco>\n",
    "  <asset>\n",
    "    <texture name=\"grid\" type=\"2d\" builtin=\"checker\" rgb1=\".1 .2 .3\"\n",
    "     rgb2=\".2 .3 .4\" width=\"300\" height=\"300\" mark=\"none\"/>\n",
    "    <material name=\"grid\" texture=\"grid\" texrepeat=\"6 6\"\n",
    "     texuniform=\"true\" reflectance=\".2\"/>\n",
    "     <material name=\"wall\" rgba='.5 .5 .5 1'/>\n",
    "  </asset>\n",
    "\n",
    "  <default>\n",
    "    <geom type=\"box\" size=\".05 .05 .05\" />\n",
    "    <joint type=\"free\"/>\n",
    "  </default>\n",
    "\n",
    "  <worldbody>\n",
    "    <light name=\"light\" pos=\"-.2 0 1\"/>\n",
    "    <geom name=\"ground\" type=\"plane\" size=\".5 .5 10\" material=\"grid\"\n",
    "     zaxis=\"-.3 0 1\" friction=\".1\"/>\n",
    "    <camera name=\"y\" pos=\"-.1 -.6 .3\" xyaxes=\"1 0 0 0 1 2\"/>\n",
    "    <body pos=\"0 0 .1\">\n",
    "      <joint/>\n",
    "      <geom/>\n",
    "    </body>\n",
    "    <body pos=\"0 .2 .1\">\n",
    "      <joint/>\n",
    "      <geom friction=\".33\"/>\n",
    "    </body>\n",
    "  </worldbody>\n",
    "\n",
    "</mujoco>\n",
    "\"\"\"\n",
    "n_frames = 60\n",
    "height = 300\n",
    "width = 300\n",
    "frames = []\n",
    "\n",
    "# load\n",
    "model = mujoco.MjModel.from_xml_string(MJCF)\n",
    "data = mujoco.MjData(model)\n",
    "\n",
    "# Simulate and display video.\n",
    "with mujoco.Renderer(model, height, width) as renderer:\n",
    "  mujoco.mj_resetData(model, data)\n",
    "  for i in range(n_frames):\n",
    "    while data.time < i/30.0:\n",
    "      mujoco.mj_step(model, data)\n",
    "    renderer.update_scene(data, \"y\")\n",
    "    frame = renderer.render()\n",
    "    frames.append(frame)\n",
    "\n",
    "media.show_video(frames, fps=30)"
   ]
  },
  {
   "cell_type": "markdown",
   "metadata": {},
   "source": [
    "# Actuators and sensors"
   ]
  },
  {
   "cell_type": "markdown",
   "metadata": {},
   "source": [
    "## Actuators"
   ]
  },
  {
   "cell_type": "markdown",
   "metadata": {},
   "source": [
    "MuJoCo provides a flexible actuator model. All actuators are single-input-single-output (SISO). \n",
    "- The input to actuator $i$ is a scalar control $u_i$​ specified by the user. \n",
    "- The output is a scalar force $p_i$​ which is mapped to joint coordinates by a vector of moment arms determined by the transmission. \n",
    "- An actuator can also have activation state $w_i$​ with its own dynamics. \n",
    "- The control inputs for all actuators are stored in `mjData.ctrl`, the force outputs are stored in `mjData.actuator_force`, and the activation states (if any) are stored in `mjData.act`. \n",
    "- More info on [computational model](https://mujoco.readthedocs.io/en/stable/computation/index.html#actuation-model)."
   ]
  },
  {
   "cell_type": "markdown",
   "metadata": {},
   "source": [
    "There are several different options for actuators model. There is one overall model called a `general` actuator and shortcuts: \n",
    "- [general](https://mujoco.readthedocs.io/en/stable/XMLreference.html#actuator-general): Providing full access to all actuator components and allowing the user to specify them independently.\n",
    "- [motor](https://mujoco.readthedocs.io/en/stable/XMLreference.html#actuator-motor): Shortcut for direct-drive actuator.\n",
    "- [position](https://mujoco.readthedocs.io/en/stable/XMLreference.html#actuator-position): Shortcut for a position servo with an optional first-order filter.\n",
    "- [velocity](https://mujoco.readthedocs.io/en/stable/XMLreference.html#actuator-velocity):Shortcut for a velocity servo. \n",
    "- [intvelocity](https://mujoco.readthedocs.io/en/stable/XMLreference.html#actuator-intvelocity): Shortcut for an integrated-velocity servo\n",
    "- [damper](https://mujoco.readthedocs.io/en/stable/XMLreference.html#actuator-damper): Creates a active damper which produces a force proportional to both velocity and control: `F = - kv * velocity * control`, where `kv` must be nonnegative.\n",
    "- [cylinder](https://mujoco.readthedocs.io/en/stable/XMLreference.html#actuator-cylinder): Shortcut for element that is suitable for modeling pneumatic or hydraulic cylinders. \n",
    "- [muscle](https://mujoco.readthedocs.io/en/stable/XMLreference.html#actuator-muscle): Creates an element used to model a muscle actuator. \n",
    "- [adhesion](https://mujoco.readthedocs.io/en/stable/XMLreference.html#actuator-adhesion): Defines an active adhesion actuator which injects forces at contacts in the normal direction. "
   ]
  },
  {
   "cell_type": "markdown",
   "metadata": {},
   "source": [
    "## Sensors"
   ]
  },
  {
   "cell_type": "markdown",
   "metadata": {},
   "source": [
    "MuJoCo contains many sensors that can be found [here](https://mujoco.readthedocs.io/en/stable/XMLreference.html#sensor). Some common ones are: \n",
    "- touch\n",
    "- accelerometer\n",
    "- velocimeter\n",
    "- gyro\n",
    "- force\n",
    "- torques\n",
    "- magnetometer\n",
    "- jointpos\n",
    "- jointvel\n",
    "- actuatorpos\n",
    "- actuatorvel\n",
    "- framepos\n",
    "- framequant\n",
    "- framelinvel\n",
    "\n",
    "These sensors are used to collect data during simulations. \n",
    "The outputs of all sensors are concatenated in the field mjData.sensordata which has size mjModel.nsensordata. This data is not used in any internal computations."
   ]
  },
  {
   "cell_type": "markdown",
   "metadata": {},
   "source": [
    "## Simple example of actuators and sensors"
   ]
  },
  {
   "cell_type": "code",
   "execution_count": null,
   "metadata": {},
   "outputs": [],
   "source": [
    "MJCF = \"\"\"\n",
    "<mujoco>\n",
    "  <asset>\n",
    "    <texture name=\"grid\" type=\"2d\" builtin=\"checker\" rgb1=\".1 .2 .3\"\n",
    "     rgb2=\".2 .3 .4\" width=\"300\" height=\"300\" mark=\"none\"/>\n",
    "    <material name=\"grid\" texture=\"grid\" texrepeat=\"1 1\"\n",
    "     texuniform=\"true\" reflectance=\".2\"/>\n",
    "  </asset>\n",
    "\n",
    "  <worldbody>\n",
    "    <light name=\"light\" pos=\"0 0 1\" diffuse=\"1 1 1\" />\n",
    "    <geom name=\"floor\" type=\"plane\" pos=\"0 0 -.5\" size=\"2 2 .1\" material=\"grid\"/>\n",
    "    <camera name=\"fixed\" pos=\"0 -1.3 .5\" xyaxes=\"1 0 0 0 1 2\"/>\n",
    "\n",
    "    <geom name=\"pole\" type=\"cylinder\" fromto=\".3 0 -.5 .3 0 -.1\" size=\".04\"/>\n",
    "    <body name=\"bat\" pos=\".3 0 -.1\">\n",
    "      <joint name=\"swing\" type=\"hinge\" damping=\"1\" axis=\"0 0 1\"/>\n",
    "      <geom name=\"bat\" type=\"capsule\" fromto=\"0 0 .04 0 -.3 .04\"\n",
    "       size=\".04\" rgba=\"0 0 1 1\"/>\n",
    "      <site name=\"IMU\"/>\n",
    "    </body>\n",
    "\n",
    "  </worldbody>\n",
    "  \n",
    "  <!-- Motor Actuator controlling the hinge joint -->\n",
    "  <actuator>\n",
    "    <motor name=\"my_motor\" joint=\"swing\" gear=\"1\"/>\n",
    "  </actuator>\n",
    "\n",
    "  <sensor>\n",
    "    <!-- Accelerometer Sensor -->\n",
    "    <accelerometer name=\"Accelerometer\" site=\"IMU\"/>\n",
    "    <!-- Motor Actuator controlling the hinge joint -->\n",
    "    <framepos name=\"pos\" objtype=\"geom\" objname=\"bat\"/>\n",
    "  </sensor>\n",
    "</mujoco>\n",
    "\"\"\"\n",
    "\n",
    "n_frames = 180\n",
    "height = 240\n",
    "width = 320\n",
    "frames = []\n",
    "fps = 60.0\n",
    "times = []\n",
    "sensordata = []\n",
    "model = mujoco.MjModel.from_xml_string(MJCF)\n",
    "data = mujoco.MjData(model)\n",
    "dt = model.opt.timestep\n",
    "\n",
    "# constant actuator signal\n",
    "mujoco.mj_resetData(model, data)\n",
    "data.ctrl = 20 # Adding constant force to bat\n",
    "\n",
    "# Simulate and display video.\n",
    "with mujoco.Renderer(model, height, width) as renderer:\n",
    "  for i in range(n_frames):\n",
    "    while data.time < i/fps:\n",
    "      mujoco.mj_step(model, data)\n",
    "      times.append(data.time)\n",
    "      sensordata.append(data.sensordata.copy())\n",
    "    renderer.update_scene(data, \"fixed\")\n",
    "    frame = renderer.render()\n",
    "    frames.append(frame)\n",
    "\n",
    "media.show_video(frames, fps=fps)"
   ]
  },
  {
   "cell_type": "code",
   "execution_count": null,
   "metadata": {},
   "outputs": [],
   "source": [
    "# Plotting sensors\n",
    "fig,axs = plt.subplots(1,2,figsize=(8,4))\n",
    "axs = axs.flatten()\n",
    "times = np.asarray(times)\n",
    "sensordata = np.asarray(sensordata)\n",
    "\n",
    "# plotting Accelerometer data\n",
    "ax = axs[0]\n",
    "ax.plot(times,sensordata[:,:3], )\n",
    "# finalize plot\n",
    "ax.set_title('Accelerometer bat values')\n",
    "ax.set_ylabel('meter/second^2')\n",
    "ax.set_xlabel('second')\n",
    "\n",
    "# Plotting global position of the bat\n",
    "ax = axs[1]\n",
    "ax.plot(times,sensordata[:,3:7])\n",
    "ax.set_title('Frame Position (x,y,z)')\n",
    "ax.set_ylabel('meters')\n",
    "ax.legend(['x','y','z'], frameon=True, loc='lower right');\n",
    "plt.tight_layout()"
   ]
  },
  {
   "cell_type": "markdown",
   "metadata": {},
   "source": [
    "# Tendons"
   ]
  },
  {
   "cell_type": "markdown",
   "metadata": {},
   "source": [
    "[Tendons](https://mujoco.readthedocs.io/en/stable/XMLreference.html#tendon) can be used to impose length limits, simulate spring, damping and dry friction forces, as well as attach actuators to them.\n",
    "- Spatial Tendons: a minimum-length path passing through specified via-points and wrapping around specified obstacle geoms. \n",
    "- Fixed Tendons: creates an abstract tendon whose length is defined as a linear combination of joint positions."
   ]
  },
  {
   "cell_type": "code",
   "execution_count": null,
   "metadata": {},
   "outputs": [],
   "source": [
    "Tendon_MJCF = \"\"\"\n",
    "<mujoco model=\"tendon\">\n",
    "  <default>\n",
    "    <joint axis=\"0 1 0\" range=\"0 60\" limited=\"true\"/>\n",
    "    <geom type=\"capsule\" size=\".01\" rgba=\".9 .7 .1 1\"/>\n",
    "    <site rgba=\".9 .9 .9 1\"/>\n",
    "    <default class=\"visual_cylinder\">\n",
    "      <geom type=\"cylinder\" fromto=\"0 .015 0  0 -.015 0\" size=\".02\" rgba=\".3 .9 .3 .4\"/>\n",
    "    </default>\n",
    "  </default>\n",
    "\n",
    "  <worldbody>\n",
    "    <light pos=\"0 0 1\"/>\n",
    "    <camera name=\"fixed\" pos=\".1 -.5 .5\" xyaxes=\"1 0 0 0 1 2\"/>\n",
    "    <body name=\"weight\" pos=\"-.03 0 .175\">\n",
    "      <joint axis=\"0 0 1\" pos=\"0 0 .025\" type=\"slide\"/>\n",
    "      <geom type=\"cylinder\" size=\".03 .025\" density=\"5000\" rgba=\".2 .2 .5 1\"/>\n",
    "      <site name=\"s1\" pos=\"0 0 .025\"/>\n",
    "    </body>\n",
    "\n",
    "    <site name=\"s2\" pos=\"-.03 0 .33\"/>\n",
    "\n",
    "    <body pos=\"0 0 .3\">\n",
    "      <joint/>\n",
    "      <geom name=\"g1\" class=\"visual_cylinder\"/>\n",
    "      <geom fromto=\"0 0 0  .1 0 0\"/>\n",
    "      <site name=\"s3\" pos=\".02 0 .03\"/>\n",
    "\n",
    "      <body pos=\".1 0 0\">\n",
    "        <joint/>\n",
    "        <geom name=\"g2\" class=\"visual_cylinder\"/>\n",
    "        <geom fromto=\"0 0 0  .1 0 0\"/>\n",
    "        <site name=\"s4\" pos=\".03 0 .01\"/>\n",
    "        <site name=\"s5\" pos=\".05 0 .02\"/>\n",
    "        <site name=\"side2\" pos=\"0 0 .03\"/>\n",
    "\n",
    "        <body pos=\".1 0 0\">\n",
    "          <joint/>\n",
    "          <geom name=\"g3\" class=\"visual_cylinder\"/>\n",
    "          <geom fromto=\"0 0 0  .1 0 0\"/>\n",
    "          <site name=\"s6\" pos=\".03 0 .01\"/>\n",
    "          <site name=\"side3\" pos=\"0 0 .03\"/>\n",
    "        </body>\n",
    "      </body>\n",
    "    </body>\n",
    "  </worldbody>\n",
    "\n",
    "  <tendon>\n",
    "    <spatial range=\"0 .33\" limited=\"true\" width=\".002\" rgba=\".95 .3 .3 1\">\n",
    "      <site site=\"s1\"/>\n",
    "      <site site=\"s2\"/>\n",
    "      <geom geom=\"g1\"/>\n",
    "      <site site=\"s3\"/>\n",
    "\n",
    "      <pulley divisor=\"2\"/>\n",
    "      <site site=\"s3\"/>\n",
    "      <geom geom=\"g2\" sidesite=\"side2\"/>\n",
    "      <site site=\"s4\"/>\n",
    "\n",
    "      <pulley divisor=\"2\"/>\n",
    "      <site site=\"s3\"/>\n",
    "      <geom geom=\"g2\" sidesite=\"side2\"/>\n",
    "      <site site=\"s5\"/>\n",
    "      <geom geom=\"g3\" sidesite=\"side3\"/>\n",
    "      <site site=\"s6\"/>\n",
    "    </spatial>\n",
    "  </tendon>\n",
    "</mujoco>\n",
    "\"\"\"\n",
    "model = mujoco.MjModel.from_xml_string(Tendon_MJCF)\n",
    "data = mujoco.MjData(model)\n",
    "height = 480\n",
    "width = 480\n",
    "\n",
    "n_frames = 120\n",
    "frames = []\n",
    "\n",
    "# load\n",
    "model = mujoco.MjModel.from_xml_string(Tendon_MJCF)\n",
    "data = mujoco.MjData(model)\n",
    "dt = model.opt.timestep\n",
    "\n",
    "# Simulate and display video.\n",
    "with mujoco.Renderer(model, height, width) as renderer:\n",
    "  mujoco.mj_resetData(model, data)\n",
    "  for i in range(n_frames):\n",
    "    while data.time < i/30.0:\n",
    "      mujoco.mj_step(model, data)\n",
    "    renderer.update_scene(data, \"fixed\")\n",
    "    frame = renderer.render()\n",
    "    frames.append(frame)\n",
    "\n",
    "media.show_video(frames, fps=30)\n"
   ]
  },
  {
   "cell_type": "markdown",
   "metadata": {},
   "source": [
    "## All Together "
   ]
  },
  {
   "cell_type": "code",
   "execution_count": null,
   "metadata": {},
   "outputs": [],
   "source": [
    "MJCF = \"\"\"\n",
    "<mujoco>\n",
    "  <asset>\n",
    "    <texture name=\"grid\" type=\"2d\" builtin=\"checker\" rgb1=\".1 .2 .3\"\n",
    "     rgb2=\".2 .3 .4\" width=\"300\" height=\"300\" mark=\"none\"/>\n",
    "    <material name=\"grid\" texture=\"grid\" texrepeat=\"1 1\"\n",
    "     texuniform=\"true\" reflectance=\".2\"/>\n",
    "  </asset>\n",
    "\n",
    "  <worldbody>\n",
    "    <light name=\"light\" pos=\"0 0 1\" diffuse=\"1 1 1\"/>\n",
    "    <geom name=\"floor\" type=\"plane\" pos=\"0 0 -.5\" size=\"2 2 .1\" material=\"grid\"/>\n",
    "    <site name=\"anchor\" pos=\"0 0 .3\" size=\".01\"/>\n",
    "    <camera name=\"fixed\" pos=\"0 -1.3 .5\" xyaxes=\"1 0 0 0 1 2\"/>\n",
    "\n",
    "    <geom name=\"pole\" type=\"cylinder\" fromto=\".3 0 -.5 .3 0 -.1\" size=\".04\"/>\n",
    "    <body name=\"bat\" pos=\".3 0 -.1\">\n",
    "      <joint name=\"swing\" type=\"hinge\" damping=\"1\" axis=\"0 0 1\"/>\n",
    "      <geom name=\"bat\" type=\"capsule\" fromto=\"0 0 .04 0 -.3 .04\"\n",
    "       size=\".04\" rgba=\"0 0 1 1\"/>\n",
    "    </body>\n",
    "\n",
    "    <body name=\"box_and_sphere\" pos=\"0 0 0\">\n",
    "      <joint name=\"free\" type=\"free\"/>\n",
    "      <geom name=\"red_box\" type=\"box\" size=\".1 .1 .1\" rgba=\"1 0 0 1\"/>\n",
    "      <geom name=\"green_sphere\"  size=\".06\" pos=\".1 .1 .1\" rgba=\"0 1 0 1\"/>\n",
    "      <site name=\"hook\" pos=\"-.1 -.1 -.1\" size=\".01\"/>\n",
    "      <site name=\"IMU\"/>\n",
    "    </body>\n",
    "  </worldbody>\n",
    "\n",
    "  <tendon>\n",
    "    <spatial name=\"wire\" limited=\"true\" range=\"0 0.35\" width=\"0.003\">\n",
    "      <site site=\"anchor\"/>\n",
    "      <site site=\"hook\"/>\n",
    "    </spatial>\n",
    "  </tendon>\n",
    "\n",
    "  <actuator>\n",
    "    <motor name=\"my_motor\" joint=\"swing\" gear=\"1\"/>\n",
    "  </actuator>\n",
    "\n",
    "  <sensor>\n",
    "    <accelerometer name=\"accelerometer\" site=\"IMU\"/>\n",
    "  </sensor>\n",
    "</mujoco>\n",
    "\"\"\"\n",
    "model = mujoco.MjModel.from_xml_string(MJCF)\n",
    "data = mujoco.MjData(model)\n",
    "height = 480\n",
    "width = 480\n",
    "\n",
    "with mujoco.Renderer(model, height, width) as renderer:\n",
    "  mujoco.mj_forward(model, data)\n",
    "  renderer.update_scene(data, \"fixed\")\n",
    "\n",
    "  media.show_image(renderer.render())"
   ]
  },
  {
   "cell_type": "markdown",
   "metadata": {},
   "source": [
    "actuated bat and passive \"piñata\":"
   ]
  },
  {
   "cell_type": "code",
   "execution_count": null,
   "metadata": {},
   "outputs": [],
   "source": [
    "n_frames = 180\n",
    "height = 240\n",
    "width = 320\n",
    "frames = []\n",
    "fps = 60.0\n",
    "times = []\n",
    "sensordata = []\n",
    "\n",
    "# constant actuator signal\n",
    "mujoco.mj_resetData(model, data)\n",
    "data.ctrl = 20\n",
    "\n",
    "# Simulate and display video.\n",
    "with mujoco.Renderer(model, height, width) as renderer:\n",
    "  for i in range(n_frames):\n",
    "    while data.time < i/fps:\n",
    "      mujoco.mj_step(model, data)\n",
    "      times.append(data.time)\n",
    "      sensordata.append(data.sensor('accelerometer').data.copy())\n",
    "    renderer.update_scene(data, \"fixed\")\n",
    "    frame = renderer.render()\n",
    "    frames.append(frame)\n",
    "\n",
    "media.show_video(frames, fps=fps)"
   ]
  },
  {
   "cell_type": "markdown",
   "metadata": {},
   "source": [
    "Let's plot the values measured by our accelerometer sensor:"
   ]
  },
  {
   "cell_type": "code",
   "execution_count": null,
   "metadata": {},
   "outputs": [],
   "source": [
    "ax = plt.gca()\n",
    "\n",
    "ax.plot(np.asarray(times), np.asarray(sensordata))\n",
    "\n",
    "# finalize plot\n",
    "ax.set_title('Accelerometer values')\n",
    "ax.set_ylabel('meter/second^2')\n",
    "ax.set_xlabel('second')\n",
    "plt.tight_layout()"
   ]
  },
  {
   "cell_type": "markdown",
   "metadata": {},
   "source": [
    "Note how the moments when the body is hit by the bat are clearly visible in the accelerometer measurements."
   ]
  },
  {
   "cell_type": "markdown",
   "metadata": {},
   "source": [
    "# Advanced Rendering"
   ]
  },
  {
   "cell_type": "code",
   "execution_count": null,
   "metadata": {},
   "outputs": [],
   "source": [
    "xml = \"\"\"\n",
    "<mujoco>\n",
    "  <worldbody>\n",
    "    <light name=\"top\" pos=\"0 0 1\"/>\n",
    "    <body name=\"box_and_sphere\" euler=\"0 0 -30\">\n",
    "      <joint name=\"swing\" type=\"hinge\" axis=\"1 -1 0\" pos=\"-.2 -.2 -.2\"/>\n",
    "      <geom name=\"red_box\" type=\"box\" size=\".2 .2 .2\" rgba=\"1 0 0 1\"/>\n",
    "      <geom name=\"green_sphere\" pos=\".2 .2 .2\" size=\".1\" rgba=\"0 1 0 1\"/>\n",
    "    </body>\n",
    "  </worldbody>\n",
    "</mujoco>\n",
    "\"\"\"\n",
    "model = mujoco.MjModel.from_xml_string(xml)\n",
    "data = mujoco.MjData(model)\n",
    "\n",
    "with mujoco.Renderer(model) as renderer:\n",
    "  mujoco.mj_forward(model, data)\n",
    "  renderer.update_scene(data)\n",
    "  media.show_image(renderer.render())"
   ]
  },
  {
   "cell_type": "code",
   "execution_count": null,
   "metadata": {},
   "outputs": [],
   "source": [
    "#@title Enable transparency and frame visualization {vertical-output: true}\n",
    "\n",
    "scene_option.frame = mujoco.mjtFrame.mjFRAME_GEOM\n",
    "scene_option.flags[mujoco.mjtVisFlag.mjVIS_TRANSPARENT] = True\n",
    "with mujoco.Renderer(model) as renderer:\n",
    "  renderer.update_scene(data, scene_option=scene_option)\n",
    "  frame = renderer.render()\n",
    "  media.show_image(frame)"
   ]
  },
  {
   "cell_type": "code",
   "execution_count": null,
   "metadata": {},
   "outputs": [],
   "source": [
    "#@title Depth rendering {vertical-output: true}\n",
    "\n",
    "with mujoco.Renderer(model) as renderer:\n",
    "  # update renderer to render depth\n",
    "  renderer.enable_depth_rendering()\n",
    "\n",
    "  # reset the scene\n",
    "  renderer.update_scene(data)\n",
    "\n",
    "  # depth is a float array, in meters.\n",
    "  depth = renderer.render()\n",
    "\n",
    "  # Shift nearest values to the origin.\n",
    "  depth -= depth.min()\n",
    "  # Scale by 2 mean distances of near rays.\n",
    "  depth /= 2*depth[depth <= 1].mean()\n",
    "  # Scale to [0, 255]\n",
    "  pixels = 255*np.clip(depth, 0, 1)\n",
    "\n",
    "  media.show_image(pixels.astype(np.uint8))"
   ]
  },
  {
   "cell_type": "code",
   "execution_count": null,
   "metadata": {},
   "outputs": [],
   "source": [
    "#@title Segmentation rendering {vertical-output: true}\n",
    "\n",
    "with mujoco.Renderer(model) as renderer:\n",
    "  renderer.disable_depth_rendering()\n",
    "\n",
    "  # update renderer to render segmentation\n",
    "  renderer.enable_segmentation_rendering()\n",
    "\n",
    "  # reset the scene\n",
    "  renderer.update_scene(data)\n",
    "\n",
    "  seg = renderer.render()\n",
    "\n",
    "  # Display the contents of the first channel, which contains object\n",
    "  # IDs. The second channel, seg[:, :, 1], contains object types.\n",
    "  geom_ids = seg[:, :, 0]\n",
    "  # Infinity is mapped to -1\n",
    "  geom_ids = geom_ids.astype(np.float64) + 1\n",
    "  # Scale to [0, 1]\n",
    "  geom_ids = geom_ids / geom_ids.max()\n",
    "  pixels = 255*geom_ids\n",
    "  media.show_image(pixels.astype(np.uint8))"
   ]
  },
  {
   "cell_type": "code",
   "execution_count": null,
   "metadata": {},
   "outputs": [],
   "source": [
    "def compute_camera_matrix(renderer, data):\n",
    "  \"\"\"Returns the 3x4 camera matrix.\"\"\"\n",
    "  # If the camera is a 'free' camera, we get its position and orientation\n",
    "  # from the scene data structure. It is a stereo camera, so we average over\n",
    "  # the left and right channels. Note: we call `self.update()` in order to\n",
    "  # ensure that the contents of `scene.camera` are correct.\n",
    "  renderer.update_scene(data)\n",
    "  pos = np.mean([camera.pos for camera in renderer.scene.camera], axis=0)\n",
    "  z = -np.mean([camera.forward for camera in renderer.scene.camera], axis=0)\n",
    "  y = np.mean([camera.up for camera in renderer.scene.camera], axis=0)\n",
    "  rot = np.vstack((np.cross(y, z), y, z))\n",
    "  fov = model.vis.global_.fovy\n",
    "\n",
    "  # Translation matrix (4x4).\n",
    "  translation = np.eye(4)\n",
    "  translation[0:3, 3] = -pos\n",
    "\n",
    "  # Rotation matrix (4x4).\n",
    "  rotation = np.eye(4)\n",
    "  rotation[0:3, 0:3] = rot\n",
    "\n",
    "  # Focal transformation matrix (3x4).\n",
    "  focal_scaling = (1./np.tan(np.deg2rad(fov)/2)) * renderer.height / 2.0\n",
    "  focal = np.diag([-focal_scaling, focal_scaling, 1.0, 0])[0:3, :]\n",
    "\n",
    "  # Image matrix (3x3).\n",
    "  image = np.eye(3)\n",
    "  image[0, 2] = (renderer.width - 1) / 2.0\n",
    "  image[1, 2] = (renderer.height - 1) / 2.0\n",
    "  return image @ focal @ rotation @ translation"
   ]
  },
  {
   "cell_type": "code",
   "execution_count": null,
   "metadata": {},
   "outputs": [],
   "source": [
    "#@title Project from world to camera coordinates {vertical-output: true}\n",
    "\n",
    "with mujoco.Renderer(model) as renderer:\n",
    "  renderer.disable_segmentation_rendering()\n",
    "  # reset the scene\n",
    "  renderer.update_scene(data)\n",
    "\n",
    "  # Get the world coordinates of the box corners\n",
    "  box_pos = data.geom_xpos[model.geom('red_box').id]\n",
    "  box_mat = data.geom_xmat[model.geom('red_box').id].reshape(3, 3)\n",
    "  box_size = model.geom_size[model.geom('red_box').id]\n",
    "  offsets = np.array([-1, 1]) * box_size[:, None]\n",
    "  xyz_local = np.stack(list(itertools.product(*offsets))).T\n",
    "  xyz_global = box_pos[:, None] + box_mat @ xyz_local\n",
    "\n",
    "  # Camera matrices multiply homogenous [x, y, z, 1] vectors.\n",
    "  corners_homogeneous = np.ones((4, xyz_global.shape[1]), dtype=float)\n",
    "  corners_homogeneous[:3, :] = xyz_global\n",
    "\n",
    "  # Get the camera matrix.\n",
    "  m = compute_camera_matrix(renderer, data)\n",
    "\n",
    "  # Project world coordinates into pixel space. See:\n",
    "  # https://en.wikipedia.org/wiki/3D_projection#Mathematical_formula\n",
    "  xs, ys, s = m @ corners_homogeneous\n",
    "  # x and y are in the pixel coordinate system.\n",
    "  x = xs / s\n",
    "  y = ys / s\n",
    "\n",
    "  # Render the camera view and overlay the projected corner coordinates.\n",
    "  pixels = renderer.render()\n",
    "  fig, ax = plt.subplots(1, 1)\n",
    "  ax.imshow(pixels)\n",
    "  ax.plot(x, y, '+', c='w')\n",
    "  ax.set_axis_off()"
   ]
  },
  {
   "cell_type": "code",
   "execution_count": null,
   "metadata": {},
   "outputs": [],
   "source": [
    "def get_geom_speed(model, data, geom_name):\n",
    "  \"\"\"Returns the speed of a geom.\"\"\"\n",
    "  geom_vel = np.zeros(6)\n",
    "  geom_type = mujoco.mjtObj.mjOBJ_GEOM\n",
    "  geom_id = data.geom(geom_name).id\n",
    "  mujoco.mj_objectVelocity(model, data, geom_type, geom_id, geom_vel, 0)\n",
    "  return np.linalg.norm(geom_vel)\n",
    "\n",
    "def add_visual_capsule(scene, point1, point2, radius, rgba):\n",
    "  \"\"\"Adds one capsule to an mjvScene.\"\"\"\n",
    "  if scene.ngeom >= scene.maxgeom:\n",
    "    return\n",
    "  scene.ngeom += 1  # increment ngeom\n",
    "  # initialise a new capsule, add it to the scene using mjv_makeConnector\n",
    "  mujoco.mjv_initGeom(scene.geoms[scene.ngeom-1],\n",
    "                      mujoco.mjtGeom.mjGEOM_CAPSULE, np.zeros(3),\n",
    "                      np.zeros(3), np.zeros(9), rgba.astype(np.float32))\n",
    "  mujoco.mjv_makeConnector(scene.geoms[scene.ngeom-1],\n",
    "                           mujoco.mjtGeom.mjGEOM_CAPSULE, radius,\n",
    "                           point1[0], point1[1], point1[2],\n",
    "                           point2[0], point2[1], point2[2])\n",
    "\n",
    " # traces of time, position and speed\n",
    "times = []\n",
    "positions = []\n",
    "speeds = []\n",
    "offset = model.jnt_axis[0]/16  # offset along the joint axis\n",
    "\n",
    "def modify_scene(scn):\n",
    "  \"\"\"Draw position trace, speed modifies width and colors.\"\"\"\n",
    "  if len(positions) > 1:\n",
    "    for i in range(len(positions)-1):\n",
    "      rgba=np.array((np.clip(speeds[i]/10, 0, 1),\n",
    "                     np.clip(1-speeds[i]/10, 0, 1),\n",
    "                     .5, 1.))\n",
    "      radius=.003*(1+speeds[i])\n",
    "      point1 = positions[i] + offset*times[i]\n",
    "      point2 = positions[i+1] + offset*times[i+1]\n",
    "      add_visual_capsule(scn, point1, point2, radius, rgba)\n",
    "\n",
    "duration = 6    # (seconds)\n",
    "framerate = 30  # (Hz)\n",
    "\n",
    "# Simulate and display video.\n",
    "frames = []\n",
    "\n",
    "# Reset state and time.\n",
    "mujoco.mj_resetData(model, data)\n",
    "mujoco.mj_forward(model, data)\n",
    "\n",
    "with mujoco.Renderer(model) as renderer:\n",
    "  while data.time < duration:\n",
    "    # append data to the traces\n",
    "    positions.append(data.geom_xpos[data.geom(\"green_sphere\").id].copy())\n",
    "    times.append(data.time)\n",
    "    speeds.append(get_geom_speed(model, data, \"green_sphere\"))\n",
    "    mujoco.mj_step(model, data)\n",
    "    if len(frames) < data.time * framerate:\n",
    "      renderer.update_scene(data)\n",
    "      modify_scene(renderer.scene)\n",
    "      pixels = renderer.render()\n",
    "      frames.append(pixels)\n",
    "\n",
    "media.show_video(frames, fps=framerate)"
   ]
  }
 ],
 "metadata": {
  "kernelspec": {
   "display_name": "mujoco",
   "language": "python",
   "name": "python3"
  },
  "language_info": {
   "codemirror_mode": {
    "name": "ipython",
    "version": 3
   },
   "file_extension": ".py",
   "mimetype": "text/x-python",
   "name": "python",
   "nbconvert_exporter": "python",
   "pygments_lexer": "ipython3",
   "version": "3.10.12"
  }
 },
 "nbformat": 4,
 "nbformat_minor": 2
}
