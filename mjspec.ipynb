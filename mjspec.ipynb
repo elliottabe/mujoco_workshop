{
 "cells": [
  {
   "cell_type": "markdown",
   "metadata": {
    "id": "klCa_-bdiWv5"
   },
   "source": [
    "![MuJoCo banner](https://raw.githubusercontent.com/google-deepmind/mujoco/main/banner.png)\n",
    "\n",
    "# <h1><center>Model Editing  <a href=\"https://colab.research.google.com/github/google-deepmind/mujoco/blob/main/python/mjspec.ipynb\"><img src=\"https://colab.research.google.com/assets/colab-badge.svg\" width=\"140\" align=\"center\"/></a></center></h1>\n",
    "\n",
    "This notebook provides an introductory tutorial for model editing in MuJoCo using the `mjSpec` API. This notebook assumes that the reader is already familiar with MuJoCo basic concepts, as\n",
    "demonstrated in the [introductory tutorial](https://github.com/google-deepmind/mujoco?tab=readme-ov-file#getting-started). Documentation for this API can be found in the [Model Editing](https://mujoco.readthedocs.io/en/latest/programming/modeledit.html) chapter in the documentation (C API) and in the [Python chapter](https://mujoco.readthedocs.io/en/latest/python.html#model-editing). Here we use the Python API.\n",
    "\n",
    "The goal of the API is to allow users to easily interact with and modify MuJoCo\n",
    "models in Python, similarly to what the JavaScript DOM does for HTML.\n",
    "\n",
    "<!-- Copyright 2024 DeepMind Technologies Limited\n",
    "\n",
    "     Licensed under the Apache License, Version 2.0 (the \"License\");\n",
    "     you may not use this file except in compliance with the License.\n",
    "     You may obtain a copy of the License at\n",
    "\n",
    "         http://www.apache.org/licenses/LICENSE-2.0\n",
    "\n",
    "     Unless required by applicable law or agreed to in writing, software\n",
    "     distributed under the License is distributed on an \"AS IS\" BASIS,\n",
    "     WITHOUT WARRANTIES OR CONDITIONS OF ANY KIND, either express or implied.\n",
    "     See the License for the specific language governing permissions and\n",
    "     limitations under the License.\n",
    "-->\n"
   ]
  },
  {
   "cell_type": "markdown",
   "metadata": {
    "id": "sJFuNetilv4m"
   },
   "source": [
    "## All imports"
   ]
  },
  {
   "cell_type": "code",
   "execution_count": null,
   "metadata": {},
   "outputs": [],
   "source": [
    "!pip install mujoco"
   ]
  },
  {
   "cell_type": "code",
   "execution_count": null,
   "metadata": {
    "id": "ArmOx3cBDvFR"
   },
   "outputs": [],
   "source": [
    "\n",
    "# Set up GPU rendering.\n",
    "import platform\n",
    "import distutils.util\n",
    "import os\n",
    "import subprocess\n",
    "if platform.system() != 'Darwin':\n",
    "  \n",
    "  if subprocess.run('nvidia-smi').returncode:\n",
    "    raise RuntimeError(\n",
    "        'Cannot communicate with GPU. '\n",
    "        'Make sure you are using a GPU Colab runtime. '\n",
    "        'Go to the Runtime menu and select Choose runtime type.')\n",
    "\n",
    "  # Add an ICD config so that glvnd can pick up the Nvidia EGL driver.\n",
    "  # This is usually installed as part of an Nvidia driver package, but the Colab\n",
    "  # kernel doesn't install its driver via APT, and as a result the ICD is missing.\n",
    "  # (https://github.com/NVIDIA/libglvnd/blob/master/src/EGL/icd_enumeration.md)\n",
    "  NVIDIA_ICD_CONFIG_PATH = '/usr/share/glvnd/egl_vendor.d/10_nvidia.json'\n",
    "  if not os.path.exists(NVIDIA_ICD_CONFIG_PATH):\n",
    "    with open(NVIDIA_ICD_CONFIG_PATH, 'w') as f:\n",
    "      f.write(\"\"\"{\n",
    "      \"file_format_version\" : \"1.0.0\",\n",
    "      \"ICD\" : {\n",
    "          \"library_path\" : \"libEGL_nvidia.so.0\"\n",
    "      }\n",
    "  }\n",
    "  \"\"\")\n",
    "      \n",
    "  # Configure MuJoCo to use the EGL rendering backend (requires GPU)\n",
    "  print('Setting environment variable to use GPU rendering:')\n",
    "  %env MUJOCO_GL=egl\n",
    "\n",
    "  # Check if installation was succesful.\n",
    "  try:\n",
    "    print('Checking that the installation succeeded:')\n",
    "    import mujoco as mj\n",
    "    mj.MjModel.from_xml_string('<mujoco/>')\n",
    "  except Exception as e:\n",
    "    raise e from RuntimeError(\n",
    "        'Something went wrong during installation. Check the shell output above '\n",
    "        'for more information.\\n'\n",
    "        'If using a hosted Colab runtime, make sure you enable GPU acceleration '\n",
    "        'by going to the Runtime menu and selecting \"Choose runtime type\".')\n",
    "else: \n",
    "  import mujoco as mj\n",
    "print('Installation successful.')\n",
    "\n",
    "\n",
    "# Other imports and helper functions\n",
    "import numpy as np\n",
    "import random\n",
    "from scipy.signal import convolve2d\n",
    "\n",
    "# Graphics and plotting.\n",
    "print('Installing mediapy:')\n",
    "!command -v ffmpeg >/dev/null || (apt update && apt install -y ffmpeg)\n",
    "!pip install -q mediapy\n",
    "import mediapy as media\n",
    "import matplotlib.pyplot as plt\n",
    "import matplotlib.colors as mcolors\n",
    "\n",
    "# Printing.\n",
    "np.set_printoptions(precision=3, suppress=True, linewidth=100)\n",
    "import pygments\n",
    "\n",
    "from IPython.display import clear_output, HTML, display\n",
    "clear_output()\n",
    "\n",
    "def print_xml(xml_string):\n",
    "  formatter = pygments.formatters.HtmlFormatter()\n",
    "  lexer = pygments.lexers.XmlLexer()\n",
    "  highlighted = pygments.highlight(xml_string, lexer, formatter)\n",
    "  display(HTML(f\"<style>{formatter.get_style_defs()}</style>{highlighted}\"))\n",
    "\n",
    "def render(model, data=None, height=300, camera=-1):\n",
    "  if data is None:\n",
    "    data = mj.MjData(model)\n",
    "  with mj.Renderer(model, 480, 640) as renderer:\n",
    "    mj.mj_forward(model, data)\n",
    "    renderer.update_scene(data, camera)\n",
    "    media.show_image(renderer.render(), height=height)"
   ]
  },
  {
   "cell_type": "markdown",
   "metadata": {
    "id": "iJRNczuyHbuc"
   },
   "source": [
    "# Separate parsing and compiling\n",
    "\n",
    "Unlike `mj_loadXML` which combines parsing and compiling, when using `mjSpec`, parsing and compiling are separate, allowing for editing steps:\n"
   ]
  },
  {
   "cell_type": "markdown",
   "metadata": {},
   "source": [
    "Important commands with `mjSpec`:  \n",
    "- `add_body`\n",
    "- `add_geom`\n",
    "- `add_site`\n",
    "- `add_actuator`\n",
    "- `add_[something]`\n",
    "Adding elements to your model is relatively simple. From the parent body you can add any element and attach it to the parent body. "
   ]
  },
  {
   "cell_type": "code",
   "execution_count": null,
   "metadata": {
    "cellView": "form",
    "id": "oummB7I7EfSq"
   },
   "outputs": [],
   "source": [
    "#@title Parse, compile, modify, compile: {vertical-output: true}\n",
    "\n",
    "static_model = \"\"\"\n",
    "<mujoco>\n",
    "  <worldbody>\n",
    "    <light name=\"top\" pos=\"0 0 1\"/>\n",
    "    <geom name=\"red_box\" type=\"box\" size=\".2 .2 .2\" rgba=\"1 0 0 1\"/>\n",
    "    <geom name=\"green_sphere\" pos=\".2 .2 .2\" size=\".1\" rgba=\"0 1 0 1\"/>\n",
    "  </worldbody>\n",
    "</mujoco>\n",
    "\"\"\"\n",
    "spec = mj.MjSpec.from_string(static_model)\n",
    "model = spec.compile()\n",
    "render(model)\n",
    "\n",
    "# Change the mjSpec, re-compile and re-render\n",
    "spec.modelname = \"edited model\"\n",
    "geoms = spec.worldbody.find_all(mj.mjtObj.mjOBJ_GEOM)\n",
    "geoms[0].name = 'blue_box'\n",
    "geoms[0].rgba = [0, 0, 1, 1]\n",
    "geoms[1].name = 'yellow_sphere'\n",
    "geoms[1].rgba = [1, 1, 0, 1]\n",
    "spec.worldbody.add_geom(name='magenta cylinder',\n",
    "                        type=mj.mjtGeom.mjGEOM_CYLINDER,\n",
    "                        rgba=[1, 0, 1, 1],\n",
    "                        pos=[-.2, 0, .2],\n",
    "                        size=[.1, .1, 0])\n",
    "\n",
    "model = spec.compile()\n",
    "render(model)"
   ]
  },
  {
   "cell_type": "markdown",
   "metadata": {
    "id": "Tw_yUwqxKwCI"
   },
   "source": [
    "`mjSpec` can save XML to string, with all modifications:"
   ]
  },
  {
   "cell_type": "code",
   "execution_count": null,
   "metadata": {
    "id": "_7HAcWqNGwyw"
   },
   "outputs": [],
   "source": [
    "print_xml(spec.to_xml())"
   ]
  },
  {
   "cell_type": "markdown",
   "metadata": {
    "id": "NolxAaRn9N9r"
   },
   "source": [
    "# Procedural models"
   ]
  },
  {
   "cell_type": "code",
   "execution_count": null,
   "metadata": {
    "id": "A6EHNulmFHFI"
   },
   "outputs": [],
   "source": [
    "#@title {vertical-output: true}\n",
    "\n",
    "spec = mj.MjSpec()\n",
    "spec.worldbody.add_light(name=\"top\", pos=[0, 0, 1])\n",
    "body = spec.worldbody.add_body(name=\"box_and_sphere\",\n",
    "                               euler=[0, 0, -30])\n",
    "body.add_joint(name=\"swing\", type=mj.mjtJoint.mjJNT_HINGE,\n",
    "               axis=[1, -1, 0], pos=[-.2, -.2, -.2])\n",
    "body.add_geom(name=\"red_box\", type=mj.mjtGeom.mjGEOM_BOX,\n",
    "              size=[.2, .2, .2], rgba=[1, 0, 0, 1])\n",
    "body.add_geom(name=\"green_sphere\", pos=[.2, .2, .2],\n",
    "              size=[.1, 0, 0], rgba=[0, 1, 0, 1])\n",
    "model = spec.compile()\n",
    "\n",
    "duration = 2    # (seconds)\n",
    "framerate = 30  # (Hz)\n",
    "\n",
    "# enable joint visualization option:\n",
    "scene_option = mj.MjvOption()\n",
    "scene_option.flags[mj.mjtVisFlag.mjVIS_JOINT] = True\n",
    "\n",
    "# Simulate and display video.\n",
    "frames = []\n",
    "data = mj.MjData(model)\n",
    "mj.mj_resetData(model, data)\n",
    "with mj.Renderer(model) as renderer:\n",
    "  while data.time < duration:\n",
    "    mj.mj_step(model, data)\n",
    "    if len(frames) < data.time * framerate:\n",
    "      renderer.update_scene(data, scene_option=scene_option)\n",
    "      pixels = renderer.render()\n",
    "      frames.append(pixels)\n",
    "\n",
    "media.show_video(frames, fps=framerate)"
   ]
  },
  {
   "cell_type": "markdown",
   "metadata": {
    "id": "Y4rV2NDh92Ga"
   },
   "source": [
    "## Tree\n",
    "\n",
    "Let's use procedural model creation to make a simple model of a tree.\n",
    "\n",
    "We'll start with an \"arena\" xml, containing only a plane and light, and define some utility functions."
   ]
  },
  {
   "cell_type": "code",
   "execution_count": null,
   "metadata": {
    "cellView": "form",
    "id": "IQ9G54Yu-Cse"
   },
   "outputs": [],
   "source": [
    "#@title Utilities\n",
    "def branch_frames(num_samples, phi_lower=np.pi / 8, phi_upper=np.pi / 3):\n",
    "  \"\"\"Returns branch direction vectors and normalized attachment heights.\"\"\"\n",
    "  directions = []\n",
    "  theta_slice = (2 * np.pi) / num_samples\n",
    "  phi_slice = (phi_upper - phi_lower) / num_samples\n",
    "  for i in range(num_samples):\n",
    "    theta = np.random.uniform(i * theta_slice, (i + 1) * theta_slice)\n",
    "    phi = phi_lower + np.random.uniform(i * phi_slice, (i + 1) * phi_slice)\n",
    "    x = np.sin(phi) * np.cos(theta)\n",
    "    y = np.sin(phi) * np.sin(theta)\n",
    "    z = np.cos(phi)\n",
    "    directions.append([x, y, z])\n",
    "\n",
    "  heights = np.linspace(0.6, 1, num_samples)\n",
    "\n",
    "  return directions, heights\n",
    "\n",
    "\n",
    "def add_arrow(scene, from_, to, radius=0.03, rgba=[0.2, 0.2, 0.6, 1]):\n",
    "  \"\"\"Add an arrow to the scene.\"\"\"\n",
    "  scene.geoms[scene.ngeom].category = mj.mjtCatBit.mjCAT_STATIC\n",
    "  mj.mjv_initGeom(\n",
    "      geom=scene.geoms[scene.ngeom],\n",
    "      type=mj.mjtGeom.mjGEOM_ARROW,\n",
    "      size=np.zeros(3),\n",
    "      pos=np.zeros(3),\n",
    "      mat=np.zeros(9),\n",
    "      rgba=np.asarray(rgba).astype(np.float32),\n",
    "  )\n",
    "  mj.mjv_connector(\n",
    "      geom=scene.geoms[scene.ngeom],\n",
    "      type=mj.mjtGeom.mjGEOM_ARROW,\n",
    "      width=radius,\n",
    "      from_=from_,\n",
    "      to=to,\n",
    "  )\n",
    "  scene.ngeom += 1\n",
    "\n",
    "\n",
    "def unit_bump(x, start, end):\n",
    "  \"\"\"Finite-support unit bump function.\"\"\"\n",
    "  if x <= start or x >= end:\n",
    "    return 0.0\n",
    "  else:\n",
    "    n = (x - start) / (end - start)\n",
    "    n = 2 * n - 1\n",
    "    return np.exp(n * n / (n * n - 1))"
   ]
  },
  {
   "cell_type": "markdown",
   "metadata": {
    "id": "QAfFHvifGnBx"
   },
   "source": [
    "Our tree creation function is called recursively to add branches and leaves."
   ]
  },
  {
   "cell_type": "code",
   "execution_count": null,
   "metadata": {
    "id": "Bajncwzn-Lid"
   },
   "outputs": [],
   "source": [
    "# @title Tree creation\n",
    "def procedural_tree(\n",
    "    num_child_branch=5,\n",
    "    length=0.5,\n",
    "    thickness=0.04,\n",
    "    depth=4,\n",
    "    this_body=None,\n",
    "    spec=None,\n",
    "):\n",
    "  \"\"\"Recursive function that builds a tree of branches and leaves.\"\"\"\n",
    "  BROWN = np.array([0.4, 0.24, 0.0, 1])\n",
    "  GREEN = np.array([0.0, 0.7, 0.2, 1])\n",
    "  SCALE = 0.6\n",
    "\n",
    "  # Initialize spec and add tree trunk\n",
    "  if this_body is None:\n",
    "    if spec is None:\n",
    "      spec = mj.MjSpec()\n",
    "\n",
    "    # Disable constraints\n",
    "    spec.option.disableflags |= mj.mjtDisableBit.mjDSBL_CONSTRAINT\n",
    "\n",
    "    # Air density\n",
    "    spec.option.density = 1.294\n",
    "\n",
    "    # Defaults for joint and geom\n",
    "    main = spec.default\n",
    "    main.geom.type = mj.mjtGeom.mjGEOM_CAPSULE\n",
    "    main.joint.type = mj.mjtJoint.mjJNT_BALL\n",
    "    main.joint.springdamper = [0.003, 0.7]\n",
    "\n",
    "    # Visual\n",
    "    spec.stat.center = [0, 0, length]\n",
    "    spec.stat.extent = 2 * length\n",
    "\n",
    "    # Add trunk body\n",
    "    this_body = spec.worldbody.add_body(name=\"trunk\")\n",
    "    fromto = [0, 0, 0, 0, 0, length]\n",
    "    size = [thickness, 0, 0]\n",
    "    this_body.add_geom(fromto=fromto, size=size, rgba=BROWN)\n",
    "\n",
    "  # Sample a random color\n",
    "  rgba = np.random.uniform(size=4)\n",
    "  rgba[3] = 1\n",
    "\n",
    "  # Add child branches using recursive call\n",
    "  if depth > 0:\n",
    "    # Get branch direction vectors and attachment heights\n",
    "    dirs, heights = branch_frames(num_child_branch)\n",
    "    heights *= length\n",
    "\n",
    "    # Rescale branches with some randomness\n",
    "    thickness *= SCALE * np.random.uniform(0.9, 1.1)\n",
    "    length *= SCALE * np.random.uniform(0.9, 1.1)\n",
    "\n",
    "    # Branch creation\n",
    "    for i in range(num_child_branch):\n",
    "      branch = this_body.add_body(pos=[0, 0, heights[i]], zaxis=dirs[i])\n",
    "\n",
    "      fromto = [0, 0, 0, 0, 0, length]\n",
    "      size = [thickness, 0, 0]\n",
    "      rgba = (rgba + BROWN) / 2\n",
    "      branch.add_geom(fromto=fromto, size=size, rgba=rgba)\n",
    "\n",
    "      branch.add_joint()\n",
    "\n",
    "      # Recurse.\n",
    "      procedural_tree(\n",
    "          length=length,\n",
    "          thickness=thickness,\n",
    "          depth=depth - 1,\n",
    "          this_body=branch,\n",
    "          spec=spec,\n",
    "      )\n",
    "\n",
    "  # Max depth reached, add three leaves at the tip\n",
    "  else:\n",
    "    rgba = (rgba + GREEN) / 2\n",
    "    for i in range(3):\n",
    "      pos = [0, 0, length + thickness]\n",
    "      euler = [0, 0, i * 120]\n",
    "      leaf_frame = this_body.add_frame(pos=pos, euler=euler)\n",
    "\n",
    "      size = length * np.array([0.5, 0.15, 0.01])\n",
    "      pos = length * np.array([0.45, 0, 0])\n",
    "      ellipsoid = mj.mjtGeom.mjGEOM_ELLIPSOID\n",
    "      euler = [np.random.uniform(-50, 50), 0, 0]\n",
    "      leaf = this_body.add_geom(\n",
    "          type=ellipsoid, size=size, pos=pos, rgba=rgba, euler=euler\n",
    "      )\n",
    "\n",
    "      leaf.set_frame(leaf_frame)\n",
    "\n",
    "  return spec"
   ]
  },
  {
   "cell_type": "code",
   "execution_count": null,
   "metadata": {
    "id": "xrjW4dK-_RKj"
   },
   "outputs": [],
   "source": [
    "#@title Make video\n",
    "arena_xml = \"\"\"\n",
    "<mujoco>\n",
    "  <visual>\n",
    "    <headlight diffuse=\".5 .5 .5\" specular=\"1 1 1\"/>\n",
    "    <global elevation=\"-10\" offwidth=\"2048\" offheight=\"1536\"/>\n",
    "    <quality shadowsize=\"8192\"/>\n",
    "  </visual>\n",
    "\n",
    "  <asset>\n",
    "    <texture type=\"skybox\" builtin=\"gradient\" rgb1=\".5 .5 .5\" rgb2=\"0 0 0\" width=\"10\" height=\"10\"/>\n",
    "    <texture type=\"2d\" name=\"groundplane\" builtin=\"checker\" mark=\"edge\" rgb1=\"1 1 1\" rgb2=\"1 1 1\" markrgb=\"0 0 0\" width=\"300\" height=\"300\"/>\n",
    "    <material name=\"groundplane\" texture=\"groundplane\" texuniform=\"true\" texrepeat=\"5 5\" reflectance=\"0.3\"/>\n",
    "  </asset>\n",
    "\n",
    "  <worldbody>\n",
    "    <geom name=\"floor\" size=\"5 5 0.01\" type=\"plane\" material=\"groundplane\"/>\n",
    "    <light pos=\"0 0 3\" diffuse=\"1 1 1\" specular=\"1 1 1\"/>\n",
    "  </worldbody>\n",
    "</mujoco>\n",
    "\"\"\"\n",
    "\n",
    "spec = procedural_tree(spec=mj.MjSpec.from_string(arena_xml))\n",
    "model = spec.compile()\n",
    "data = mj.MjData(model)\n",
    "\n",
    "duration = 3  # (seconds)\n",
    "framerate = 60  # (Hz)\n",
    "frames = []\n",
    "with mj.Renderer(model, width=1920 // 3, height=1080 // 3) as renderer:\n",
    "  while data.time < duration:\n",
    "    # Add rightward wind.\n",
    "    wind = 40 * unit_bump(data.time, .2 * duration, .7 * duration)\n",
    "    model.opt.wind[0] = wind\n",
    "\n",
    "    # Step and render.\n",
    "    mj.mj_step(model, data)\n",
    "    if len(frames) < data.time * framerate:\n",
    "      renderer.update_scene(data)\n",
    "      if wind > 0:\n",
    "        add_arrow(renderer.scene, [0, 0, 1], [wind/25, 0, 1])\n",
    "      pixels = renderer.render()\n",
    "      frames.append(pixels)\n",
    "\n",
    "media.show_video(frames, fps=framerate / 2)"
   ]
  },
  {
   "cell_type": "markdown",
   "metadata": {
    "id": "IGd0uD64LdEJ"
   },
   "source": [
    "# Model editing"
   ]
  },
  {
   "cell_type": "code",
   "execution_count": null,
   "metadata": {
    "cellView": "form",
    "id": "223KzKAzLdEJ"
   },
   "outputs": [],
   "source": [
    "# @title Get resources\n",
    "\n",
    "# Get Models\n",
    "print('Getting MuJoCo humanoid XML description from GitHub:')\n",
    "!git clone https://github.com/google-deepmind/mujoco\n",
    "humanoid_file = 'mujoco/model/humanoid/humanoid.xml'\n",
    "humanoid100_file = 'mujoco/model/humanoid/humanoid100.xml'\n",
    "print('Getting MuJoCo Fly and Franka XML description from GitHub:')\n",
    "!git clone https://github.com/google-deepmind/mujoco_menagerie\n",
    "fly_file = 'mujoco_menagerie/flybody/fruitfly.xml'\n",
    "franka_file = 'mujoco_menagerie/franka_fr3/fr3.xml'\n",
    "\n",
    "# Camera options\n",
    "cam = mj.MjvCamera()\n",
    "mj.mjv_defaultCamera(cam)\n",
    "cam.elevation = -10\n",
    "cam.lookat = [0, 0, 1]\n",
    "cam.distance = 4\n",
    "cam.azimuth = 135\n",
    "\n",
    "# Arena\n",
    "arena_xml = \"\"\"\n",
    "<mujoco>\n",
    "  <visual>\n",
    "    <headlight diffuse=\".5 .5 .5\" specular=\"1 1 1\"/>\n",
    "    <global offwidth=\"2048\" offheight=\"1536\"/>\n",
    "    <quality shadowsize=\"8192\"/>\n",
    "  </visual>\n",
    "\n",
    "  <asset>\n",
    "    <texture type=\"skybox\" builtin=\"gradient\" rgb1=\"1 1 1\" rgb2=\"1 1 1\" width=\"10\" height=\"10\"/>\n",
    "    <texture type=\"2d\" name=\"groundplane\" builtin=\"checker\" mark=\"edge\" rgb1=\"1 1 1\" rgb2=\"1 1 1\" markrgb=\"0 0 0\" width=\"400\" height=\"400\"/>\n",
    "    <material name=\"groundplane\" texture=\"groundplane\" texrepeat=\"45 45\" reflectance=\"0\"/>\n",
    "  </asset>\n",
    "\n",
    "  <worldbody>\n",
    "    <geom name=\"floor\" size=\"10 10 0.1\" type=\"plane\" material=\"groundplane\"/>\n",
    "  </worldbody>\n",
    "</mujoco>\n",
    "\"\"\"\n"
   ]
  },
  {
   "cell_type": "markdown",
   "metadata": {
    "id": "eGgXNjQ8LdEK"
   },
   "source": [
    "`mjSpec` elements can be traversed in two ways:\n",
    "- For elements inside the kinematic tree, the tree can be traversed using the `first` and `next` functions.\n",
    "- For all other elements, we provide a list.\n",
    "\n"
   ]
  },
  {
   "cell_type": "code",
   "execution_count": null,
   "metadata": {
    "id": "Len0o_idLdEK"
   },
   "outputs": [],
   "source": [
    "#@title Traversing the spec {vertical-output: true}\n",
    "\n",
    "spec = mj.MjSpec.from_file(humanoid_file)\n",
    "\n",
    "# Function that recursively prints all body names\n",
    "def print_bodies(parent, level=0):\n",
    "  body = parent.first_body()\n",
    "  while body:\n",
    "    print(''.join(['-' for i in range(level)]) + body.name)\n",
    "    print_bodies(body, level + 1)\n",
    "    body = parent.next_body(body)\n",
    "\n",
    "print(\"The spec has the following actuators:\")\n",
    "for actuator in spec.actuators:\n",
    "  print(actuator.name)\n",
    "\n",
    "print(\"\\nThe spec has the following bodies:\")\n",
    "print_bodies(spec.worldbody)"
   ]
  },
  {
   "cell_type": "markdown",
   "metadata": {
    "id": "GeiFFBYxLdEK"
   },
   "source": [
    "An `mjSpec` can be compiled multiple times. If the state has to be preserved between different compilations, then the function `recompile()` must be used, which returns a new `mjData` that contains the mapped state, possibly having a different dimension from the origin."
   ]
  },
  {
   "cell_type": "code",
   "execution_count": null,
   "metadata": {
    "id": "eiRXgh9OLdEK"
   },
   "outputs": [],
   "source": [
    "#@title Model re-compilation with state preservation {vertical-output: true}\n",
    "\n",
    "spec = mj.MjSpec.from_file(humanoid100_file)\n",
    "model = spec.compile()\n",
    "data = mj.MjData(model)\n",
    "\n",
    "# Run for 5 seconds\n",
    "for i in range(1000):\n",
    "  mj.mj_step(model, data)\n",
    "\n",
    "# Show result\n",
    "render(model, data)\n",
    "\n",
    "# Create list of all bodies we want to delete\n",
    "body = spec.worldbody.first_body()\n",
    "delete_list = []\n",
    "while body:\n",
    "  geom_type = body.first_geom().type\n",
    "  if (geom_type == mj.mjtGeom.mjGEOM_BOX or\n",
    "      geom_type == mj.mjtGeom.mjGEOM_ELLIPSOID):\n",
    "    delete_list.append(body)\n",
    "  body = spec.worldbody.next_body(body)\n",
    "\n",
    "# Remove all bodies in the list from the spec\n",
    "for body in delete_list:\n",
    "  spec.delete(body)\n",
    "\n",
    "# # Add another humanoid\n",
    "spec_humanoid = mj.MjSpec.from_file(humanoid_file)\n",
    "attachment_frame = spec.worldbody.add_frame(pos=[0, -1, 2])\n",
    "attachment_frame.attach_body(spec_humanoid.body('torso'), 'a', 'b')\n",
    "\n",
    "# Recompile preserving the state\n",
    "new_model, new_data = spec.recompile(model, data)\n",
    "\n",
    "# Show result\n",
    "render(new_model, new_data)"
   ]
  },
  {
   "cell_type": "markdown",
   "metadata": {
    "id": "kuTWD415LdEK"
   },
   "source": [
    "Let us load the humanoid model and inspect it."
   ]
  },
  {
   "cell_type": "code",
   "execution_count": null,
   "metadata": {
    "id": "5d1wmQM2LdEK"
   },
   "outputs": [],
   "source": [
    "#@title Humanoid model {vertical-output: true}\n",
    "\n",
    "spec = mj.MjSpec.from_file(humanoid_file)\n",
    "\n",
    "model = spec.compile()\n",
    "render(model)"
   ]
  },
  {
   "cell_type": "markdown",
   "metadata": {
    "id": "38PXB1rWLdEK"
   },
   "source": [
    "We wish to remove the arms and replace them with the legs. This can be done by first storing the arm positions into frames attached to the torso. Then we can detach the arms and self-attach the legs into the frames."
   ]
  },
  {
   "cell_type": "code",
   "execution_count": null,
   "metadata": {
    "id": "0eaNq0Q7LdEK"
   },
   "outputs": [],
   "source": [
    "#@title Humanoid with arms replaced by legs {vertical-output: true}\n",
    "\n",
    "spec = mj.MjSpec.from_file(humanoid_file)\n",
    "spec.copy_during_attach = True\n",
    "\n",
    "# Get the torso, arm, and leg bodies\n",
    "arm_left = spec.body('upper_arm_left')\n",
    "arm_right = spec.body('upper_arm_right')\n",
    "leg_left = spec.body('thigh_left')\n",
    "leg_right = spec.body('thigh_right')\n",
    "torso = spec.body('torso')\n",
    "\n",
    "# Attach frames at the arm positions\n",
    "shoulder_left = torso.add_frame(pos=arm_left.pos)\n",
    "shoulder_right = torso.add_frame(pos=arm_right.pos)\n",
    "\n",
    "# Remove the arms\n",
    "spec.delete(arm_left)\n",
    "spec.delete(arm_right)\n",
    "\n",
    "# Add new legs\n",
    "shoulder_left.attach_body(leg_left, 'shoulder', 'left')\n",
    "shoulder_right.attach_body(leg_right, 'shoulder', 'right')\n",
    "\n",
    "model = spec.compile()\n",
    "render(model, height=400)"
   ]
  },
  {
   "cell_type": "markdown",
   "metadata": {
    "id": "HfhxL2EqLdEK"
   },
   "source": [
    "Similarly, different models can be attach together. Here, the right arm is detached and a robot arm from a different model is attached in its place."
   ]
  },
  {
   "cell_type": "code",
   "execution_count": null,
   "metadata": {
    "id": "uS4LGbI7LdEK"
   },
   "outputs": [],
   "source": [
    "#@title Humanoid with Franka arm {vertical-output: true}\n",
    "\n",
    "spec = mj.MjSpec.from_file(humanoid_file)\n",
    "franka = mj.MjSpec.from_file(franka_file)\n",
    "\n",
    "if hasattr(spec, 'compiler'):\n",
    "  spec.compiler.degree = False  # MuJoCo dev (next release).\n",
    "else:\n",
    "  spec.degree = False  # MuJoCo release\n",
    "\n",
    "# Replace right arm with frame\n",
    "arm_right = spec.body('upper_arm_right')\n",
    "torso = spec.body('torso')\n",
    "shoulder_right = torso.add_frame(pos=arm_right.pos, quat=[0, 0.8509035, 0, 0.525322])\n",
    "spec.delete(arm_right)\n",
    "\n",
    "# Attach Franka arm to humanoid\n",
    "franka_arm = franka.body('fr3_link2')\n",
    "shoulder_right.attach_body(franka_arm, 'franka', '')\n",
    "\n",
    "model = spec.compile()\n",
    "render(model, height=400)"
   ]
  },
  {
   "cell_type": "markdown",
   "metadata": {
    "id": "CWXYy_1uLdEK"
   },
   "source": [
    "When doing this, the actuators and all other objects referenced by the attached sub-tree are imported in the new model. All assets are currently imported, referenced or not."
   ]
  },
  {
   "cell_type": "code",
   "execution_count": null,
   "metadata": {
    "id": "UwWDD-NHLdEK"
   },
   "outputs": [],
   "source": [
    "#@title Imported actuators {vertical-output: true}\n",
    "\n",
    "for actuator in spec.actuators:\n",
    "  print(actuator.name)"
   ]
  },
  {
   "cell_type": "markdown",
   "metadata": {
    "id": "hDvt3vcxLdEK"
   },
   "source": [
    "Domain randomization can be performed by attaching multiple times the same spec, edited each time with a new instance of randomized parameters."
   ]
  },
  {
   "cell_type": "code",
   "execution_count": null,
   "metadata": {
    "id": "oPPFbWawLdEK"
   },
   "outputs": [],
   "source": [
    "#@title Humanoid with randomized heads and arm poses {vertical-output: true}\n",
    "\n",
    "humanoid = mj.MjSpec.from_file(humanoid_file)\n",
    "spec = mj.MjSpec()\n",
    "spec.copy_during_attach = True\n",
    "\n",
    "# Delete all key frames to avoid name conflicts\n",
    "while humanoid.keys:\n",
    "  humanoid.keys[-1].delete()\n",
    "\n",
    "# Create a grid of humanoids by attaching humanoid to spec multiple times\n",
    "for i in range(4):\n",
    "  for j in range(4):\n",
    "    humanoid.materials[0].rgba = [\n",
    "        np.random.uniform(), np.random.uniform(),\n",
    "        np.random.uniform(), 1]  # Randomize color\n",
    "    humanoid.body('head').first_geom().size = [\n",
    "        .18*np.random.uniform(), 0, 0]  # Randomize head size\n",
    "    humanoid.body('upper_arm_left').quat = [\n",
    "        np.random.uniform(), np.random.uniform(),\n",
    "        np.random.uniform(), np.random.uniform()]  # Randomize left arm orientation\n",
    "    humanoid.body('upper_arm_right').quat = [\n",
    "        np.random.uniform(), np.random.uniform(),\n",
    "        np.random.uniform(), np.random.uniform()]  # Randomize right arm orientation\n",
    "\n",
    "    # attach randomized humanoid to parent spec\n",
    "    frame = spec.worldbody.add_frame(pos=[i, j, 0])\n",
    "    frame.attach_body(humanoid.body('torso'), str(i), str(j))\n",
    "\n",
    "spec.worldbody.add_light(mode=mj.mjtCamLight.mjCAMLIGHT_TARGETBODYCOM,\n",
    "                         targetbody='3torso3', diffuse=[.8, .8, .8],\n",
    "                         specular=[0.3, 0.3, 0.3], pos=[0, -6, 4], cutoff=30)\n",
    "model = spec.compile()\n",
    "render(model, height=400)"
   ]
  },
  {
   "cell_type": "markdown",
   "metadata": {
    "id": "PML2pxYgLdEK"
   },
   "source": [
    "## Model scaling"
   ]
  },
  {
   "cell_type": "code",
   "execution_count": null,
   "metadata": {
    "id": "pcUNLmQBLdEK"
   },
   "outputs": [],
   "source": [
    "#@title Uniformly scale humanoid {vertical-output: true}\n",
    "\n",
    "def scale_spec(spec, scale):\n",
    "  scaled_spec = spec.copy()\n",
    "  # Traverse the kinematic tree, scaling all geoms\n",
    "  def scale_bodies(parent, scale=1.0):\n",
    "    body = parent.first_body()\n",
    "    while body:\n",
    "      if body.pos is not None:\n",
    "        body.pos = body.pos * scale\n",
    "      for geom in body.geoms:\n",
    "        geom.fromto = geom.fromto * scale\n",
    "        geom.size = geom.size * scale\n",
    "        if geom.pos is not None:\n",
    "          geom.pos = geom.pos * scale\n",
    "      scale_bodies(body, scale)\n",
    "      body = parent.next_body(body)\n",
    "\n",
    "  scale_bodies(scaled_spec.body('world'), scale)\n",
    "  return scaled_spec\n",
    "\n",
    "spec = mj.MjSpec.from_string(arena_xml)\n",
    "humanoid = mj.MjSpec.from_file(humanoid_file)\n",
    "small_humanoid = scale_spec(humanoid, 0.75)\n",
    "large_humanoid = scale_spec(humanoid, 1.25)\n",
    "\n",
    "# Create a line-up of humanoids\n",
    "frame = spec.worldbody.add_frame(pos=[-1, 0, 0],\n",
    "                                 quat=[-np.sqrt(2)/2, 0, 0, np.sqrt(2) / 2])\n",
    "frame.attach_body(humanoid.body('torso'), str(0))\n",
    "\n",
    "frame = spec.worldbody.add_frame(pos=[0, 0, 0],\n",
    "                                 quat=[-np.sqrt(2)/2, 0, 0, np.sqrt(2) / 2])\n",
    "frame.attach_body(small_humanoid.body('torso'), str(1))\n",
    "\n",
    "frame = spec.worldbody.add_frame(pos=[1, 0, 0],\n",
    "                                 quat=[-np.sqrt(2)/2, 0, 0, np.sqrt(2) / 2]  )\n",
    "frame.attach_body(large_humanoid.body('torso'), str(2))\n",
    "\n",
    "\n",
    "spec.worldbody.add_light(mode=mj.mjtCamLight.mjCAMLIGHT_TARGETBODYCOM,\n",
    "                         targetbody='1torso', diffuse=[.8, .8, .8],\n",
    "                         specular=[0.3, 0.3, 0.3], pos=[0, -6, 4], cutoff=30)\n",
    "model = spec.compile()\n",
    "render(model, height=400, camera=cam)"
   ]
  },
  {
   "cell_type": "markdown",
   "metadata": {
    "id": "RYbaTPNmLdEK"
   },
   "source": [
    "We can scale the size of a model by traversing the kinematic tree and applying the scale to the relevant geoms. Above we can see humanoids of three different sizes."
   ]
  },
  {
   "cell_type": "code",
   "execution_count": null,
   "metadata": {
    "id": "u-ejx8lKLdEK"
   },
   "outputs": [],
   "source": [
    "# @title Scaling actuator forces {vertical-output: true}\n",
    "\n",
    "def scale_spec(spec, scale, scale_actuators=False):\n",
    "  scaled_spec = spec.copy()\n",
    "  # Traverse the kinematic tree, scaling all geoms\n",
    "  def scale_bodies(parent, scale=1.0):\n",
    "    body = parent.first_body()\n",
    "    while body:\n",
    "      if body.pos is not None:\n",
    "        body.pos = body.pos * scale\n",
    "      for geom in body.geoms:\n",
    "        geom.fromto = geom.fromto * scale\n",
    "        geom.size = geom.size * scale\n",
    "        if geom.pos is not None:\n",
    "          geom.pos = geom.pos * scale\n",
    "      scale_bodies(body, scale)\n",
    "      body = parent.next_body(body)\n",
    "\n",
    "  if scale_actuators:\n",
    "    # scale gear\n",
    "    for actuator in scaled_spec.actuators:\n",
    "      # scale the actuator gear by (scale ** 2),\n",
    "      # this is because muscle force-generating capacity\n",
    "      # scales with the cross-sectional area of the muscle\n",
    "      actuator.gear = actuator.gear * scale * scale\n",
    "\n",
    "  # scale the z-position of the humanoid for all keypoints\n",
    "  for keypoint in scaled_spec.keys:\n",
    "    qpos = keypoint.qpos\n",
    "    qpos[2] = qpos[2] * scale\n",
    "    keypoint.qpos = qpos\n",
    "    keypoint.qpos[2] = keypoint.qpos[2] * scale\n",
    "\n",
    "  scale_bodies(scaled_spec.body('world'), scale)\n",
    "  return scaled_spec\n",
    "\n",
    "# Create specs\n",
    "scale = 0.6\n",
    "spec = mj.MjSpec.from_string(arena_xml)\n",
    "humanoid = mj.MjSpec.from_file(humanoid_file)\n",
    "small_humanoid = scale_spec(humanoid, scale)\n",
    "small_humanoid_actuators_scaled = scale_spec(humanoid, scale, True)\n",
    "\n",
    "# Create a line-up of humanoids\n",
    "squat_qpos = []\n",
    "\n",
    "# Add unscaled humanoid\n",
    "frame = spec.worldbody.add_frame(pos=[-1, 0, 0],\n",
    "                                 quat=[-np.sqrt(2)/2, 0, 0, np.sqrt(2) / 2])\n",
    "frame.attach_body(humanoid.body('torso'), str(0))\n",
    "# Record squat pose\n",
    "humanoid_squat = humanoid.key('squat').qpos\n",
    "humanoid_squat[:2] = frame.pos[:2]\n",
    "humanoid_squat[3:7] = frame.quat\n",
    "squat_qpos.append(humanoid_squat)\n",
    "\n",
    "# Add small humanoid\n",
    "frame = spec.worldbody.add_frame(pos=[0, 0, 0],\n",
    "                                 quat=[-np.sqrt(2)/2, 0, 0, np.sqrt(2) / 2])\n",
    "frame.attach_body(small_humanoid.body('torso'), str(1))\n",
    "# Record squat pose\n",
    "humanoid_squat = small_humanoid.key('squat').qpos\n",
    "humanoid_squat[:2] = frame.pos[:2]\n",
    "humanoid_squat[3:7] = frame.quat\n",
    "squat_qpos.append(humanoid_squat)\n",
    "\n",
    "# Add small humanoid with scaled actuators\n",
    "frame = spec.worldbody.add_frame(pos=[1, 0, 0],\n",
    "                                 quat=[-np.sqrt(2)/2, 0, 0, np.sqrt(2) / 2]  )\n",
    "frame.attach_body(small_humanoid_actuators_scaled.body('torso'), str(2))\n",
    "# Record squat pose\n",
    "humanoid_squat = small_humanoid_actuators_scaled.key('squat').qpos\n",
    "humanoid_squat[:2] = frame.pos[:2]\n",
    "humanoid_squat[3:7] = frame.quat\n",
    "squat_qpos.append(humanoid_squat)\n",
    "squat_qpos = np.concatenate(squat_qpos)\n",
    "\n",
    "spec.worldbody.add_light(mode=mj.mjtCamLight.mjCAMLIGHT_TARGETBODYCOM,\n",
    "                         targetbody='1torso', diffuse=[.8, .8, .8],\n",
    "                         specular=[0.3, 0.3, 0.3], pos=[0, -6, 4], cutoff=30)\n",
    "model = spec.compile()\n",
    "\n",
    "# Initialize to squat position\n",
    "data = mj.MjData(model)\n",
    "data.qpos = squat_qpos\n",
    "\n",
    "# jumping motion\n",
    "u_t = lambda t: 10.0 * t / duration\n",
    "\n",
    "# Simulate and display video.\n",
    "duration = 2    # (seconds)\n",
    "framerate = 30  # (Hz)\n",
    "frames = []\n",
    "\n",
    "with mj.Renderer(model, 480, 640) as renderer:\n",
    "  while data.time < duration:\n",
    "    data.ctrl = u_t(data.time)\n",
    "    mj.mj_step(model, data)\n",
    "    if len(frames) < data.time * framerate:\n",
    "      renderer.update_scene(data, camera=cam)\n",
    "      pixels = renderer.render()\n",
    "      frames.append(pixels)\n",
    "\n",
    "media.show_video(frames, fps=framerate, height=400)"
   ]
  },
  {
   "cell_type": "markdown",
   "metadata": {
    "id": "uKhDI_IfLdEK"
   },
   "source": [
    "We can also apply scaling to the actuators. In the humanoid case, scaling the geoms without scaling the `gear` parameter for the actuators results in a humanoid that can jump higher proportional to its size."
   ]
  },
  {
   "cell_type": "code",
   "execution_count": null,
   "metadata": {
    "id": "ovQIAxn7LdEK"
   },
   "outputs": [],
   "source": [
    "# @title Long-limbed humanoid {vertical-output: true}\n",
    "\n",
    "def scale_spec(spec, scale):\n",
    "  scaled_spec = spec.copy()\n",
    "  # Traverse the kinematic tree, scaling all geoms\n",
    "  def scale_bodies(parent, scale=1.0):\n",
    "    if parent is not None:\n",
    "      for geom in parent.geoms:\n",
    "        # Only scale fromto, not size to scale length of capsules\n",
    "        geom.fromto = geom.fromto * scale\n",
    "        if geom.pos is not None:\n",
    "          geom.pos = geom.pos * scale\n",
    "    body = parent.first_body()\n",
    "    while body:\n",
    "      if body.pos is not None:\n",
    "        body.pos = body.pos * scale\n",
    "      scale_bodies(body, scale)\n",
    "      body = parent.next_body(body)\n",
    "\n",
    "  # Scale all the limbs\n",
    "  scale_bodies(scaled_spec.body('upper_arm_right'), scale)\n",
    "  scale_bodies(scaled_spec.body('upper_arm_left'), scale)\n",
    "  scale_bodies(scaled_spec.body('thigh_right'), scale)\n",
    "  scale_bodies(scaled_spec.body('thigh_left'), scale)\n",
    "  return scaled_spec\n",
    "\n",
    "spec = mj.MjSpec.from_string(arena_xml)\n",
    "humanoid = mj.MjSpec.from_file(humanoid_file)\n",
    "small_humanoid = scale_spec(humanoid, 1.25)\n",
    "large_humanoid = scale_spec(humanoid, 2)\n",
    "\n",
    "# Create a line-up of humanoids by attaching\n",
    "frame = spec.worldbody.add_frame(pos=[-1, 0, 0],\n",
    "                                 quat=[-np.sqrt(2)/2, 0, 0, np.sqrt(2) / 2])\n",
    "frame.attach_body(humanoid.body('torso'), str(0), str(0))\n",
    "\n",
    "frame = spec.worldbody.add_frame(pos=[0, 0, 0.2],\n",
    "                                 quat=[-np.sqrt(2)/2, 0, 0, np.sqrt(2) / 2])\n",
    "frame.attach_body(small_humanoid.body('torso'), str(0), str(1))\n",
    "\n",
    "frame = spec.worldbody.add_frame(pos=[1, 0, 0.8],\n",
    "                                 quat=[-np.sqrt(2)/2, 0, 0, np.sqrt(2) / 2]  )\n",
    "frame.attach_body(large_humanoid.body('torso'), str(0), str(2))\n",
    "\n",
    "\n",
    "spec.worldbody.add_light(mode=mj.mjtCamLight.mjCAMLIGHT_TARGETBODYCOM,\n",
    "                         targetbody='0torso1', diffuse=[.8, .8, .8],\n",
    "                         specular=[0.3, 0.3, 0.3], pos=[0, -6, 4], cutoff=30)\n",
    "model = spec.compile()\n",
    "\n",
    "# camera options\n",
    "render(model, height=400, camera=cam)"
   ]
  },
  {
   "cell_type": "markdown",
   "metadata": {
    "id": "8o1daXIOLdEK"
   },
   "source": [
    "We can also apply scaling to the model non-uniformly. In this instance we scale the humanoid to have long limbs, by only applying the scale to the length of the capsule geoms for the arms, legs and feet."
   ]
  },
  {
   "cell_type": "code",
   "execution_count": null,
   "metadata": {
    "id": "UBSo2nfQLdEK"
   },
   "outputs": [],
   "source": [
    "# @title Meshes {vertical-output: true}\n",
    "\n",
    "def scale_spec(spec, scale):\n",
    "  scaled_spec = spec.copy()\n",
    "  # scale all meshes\n",
    "  for mesh in scaled_spec.meshes:\n",
    "    if mesh.scale is None:\n",
    "      mesh.scale = np.ones(3)\n",
    "    mesh.scale = mesh.scale * scale\n",
    "\n",
    "  # Traverse the kinematic tree\n",
    "  def scale_bodies(parent, scale=1.0):\n",
    "    if parent is not None:\n",
    "      for geom in parent.geoms:\n",
    "        if geom.pos is not None:\n",
    "          geom.pos = geom.pos * scale\n",
    "    body = parent.first_body()\n",
    "    while body:\n",
    "      if body.pos is not None:\n",
    "        body.pos = body.pos * scale\n",
    "      scale_bodies(body, scale)\n",
    "      body = parent.next_body(body)\n",
    "\n",
    "  # Scale all the limbs\n",
    "  scale_bodies(scaled_spec.body('world'), scale)\n",
    "\n",
    "  return scaled_spec\n",
    "\n",
    "spec = mj.MjSpec.from_string(arena_xml)\n",
    "fly = mj.MjSpec.from_file(fly_file)\n",
    "# Remove lights from fly so they are not duplicated in line-up\n",
    "for light in fly.lights:\n",
    "  light.delete()\n",
    "\n",
    "small_fly = scale_spec(fly, 1.25)\n",
    "large_fly = scale_spec(fly, 2)\n",
    "\n",
    "# Create a line-up of flys by attaching\n",
    "frame = spec.worldbody.add_frame(pos=[-1, 0, 0.25],\n",
    "                                 quat=[-np.sqrt(2)/2, 0, 0, np.sqrt(2) / 2])\n",
    "frame.attach_body(fly.body('thorax'), str(0), str(0))\n",
    "\n",
    "frame = spec.worldbody.add_frame(pos=[0, 0, 0.25],\n",
    "                                 quat=[-np.sqrt(2)/2, 0, 0, np.sqrt(2) / 2])\n",
    "frame.attach_body(small_fly.body('thorax'), str(0), str(1))\n",
    "\n",
    "frame = spec.worldbody.add_frame(pos=[1, 0, 0.25],\n",
    "                                 quat=[-np.sqrt(2)/2, 0, 0, np.sqrt(2) / 2]  )\n",
    "frame.attach_body(large_fly.body('thorax'), str(0), str(2))\n",
    "\n",
    "spec.worldbody.add_light(mode=mj.mjtCamLight.mjCAMLIGHT_TARGETBODYCOM,\n",
    "                         targetbody='0thorax1', diffuse=[.8, .8, .8],\n",
    "                         specular=[0.3, 0.3, 0.3], pos=[0, -6, 4], cutoff=30)\n",
    "model = spec.compile()\n",
    "render(model, height=400, camera=cam)\n"
   ]
  },
  {
   "cell_type": "markdown",
   "metadata": {
    "id": "qhXwxLe3LdEK"
   },
   "source": [
    "# dm_control example"
   ]
  },
  {
   "cell_type": "markdown",
   "metadata": {
    "id": "enuJ_YIqLdEK"
   },
   "source": [
    "A key feature is the ability to easily attach multiple models into a larger one. Disambiguation of duplicated names from different\n",
    "models, or multiple instances of the same model is handled via user-defined namespacing.\n",
    "\n",
    "One example use case is when we want robots with a variable number of joints, as this is a fundamental change to the kinematic structure. The snippets below follow the lines of the [example in dm_control](https://arxiv.org/abs/2006.12983), an older package with similar capabilities."
   ]
  },
  {
   "cell_type": "code",
   "execution_count": null,
   "metadata": {
    "id": "4p3P_dP8LdEK"
   },
   "outputs": [],
   "source": [
    "leg_model = \"\"\"\n",
    "<mujoco>\n",
    "  <compiler angle=\"radian\"/>\n",
    "\n",
    "  <default>\n",
    "    <joint damping=\"2\" type=\"hinge\"/>\n",
    "    <geom type=\"capsule\"/>\n",
    "  </default>\n",
    "\n",
    "  <worldbody>\n",
    "    <body name=\"thigh\">\n",
    "      <joint name=\"hip\" axis=\"0 0 1\"/>\n",
    "      <body name=\"shin\">\n",
    "        <joint name=\"knee\" axis=\"0 1 0\"/>\n",
    "      </body>\n",
    "    </body>\n",
    "  </worldbody>\n",
    "\n",
    "  <actuator>\n",
    "    <position joint=\"hip\" kp=\"10\" name=\"hip\"/>\n",
    "    <position joint=\"knee\" kp=\"10\" name=\"knee\"/>\n",
    "  </actuator>\n",
    "</mujoco>\n",
    "\"\"\"\n",
    "\n",
    "class Leg(object):\n",
    "  \"\"\"A 2-DoF leg with position actuators.\"\"\"\n",
    "  def __init__(self, length, rgba):\n",
    "    self.spec = mj.MjSpec.from_string(leg_model)\n",
    "\n",
    "    # Thigh:\n",
    "    thigh = self.spec.body('thigh')\n",
    "    thigh.add_geom(fromto=[0, 0, 0, length, 0, 0], size=[length/4, 0, 0], rgba=rgba)\n",
    "\n",
    "    # Hip:\n",
    "    shin = self.spec.body('shin')\n",
    "    shin.add_geom(fromto=[0, 0, 0, 0, 0, -length], size=[length/5, 0, 0], rgba=rgba)\n",
    "    shin.pos[0] = length"
   ]
  },
  {
   "cell_type": "markdown",
   "metadata": {
    "id": "Mqr8rXLILdEK"
   },
   "source": [
    "The `Leg` class describes an abstract articulated leg, with two joints and corresponding proportional-derivative actuators.\n",
    "\n",
    "Note that:\n",
    "\n",
    "- MJCF attributes correspond directly to arguments of the `add_()` methods.\n",
    "- When referencing elements, e.g. when specifying the joint to which an actuator is attached, the name string of the MJCF elements is used."
   ]
  },
  {
   "cell_type": "code",
   "execution_count": null,
   "metadata": {
    "id": "1z2NBpAPLdEK"
   },
   "outputs": [],
   "source": [
    "BODY_RADIUS = 0.1\n",
    "random_state = np.random.RandomState(42)\n",
    "creature_model = \"\"\"\n",
    "<mujoco>\n",
    "  <compiler angle=\"radian\"/>\n",
    "\n",
    "  <worldbody>\n",
    "    <geom name=\"torso\" type=\"ellipsoid\" size=\"{} {} {}\"/>\n",
    "  </worldbody>\n",
    "</mujoco>\n",
    "\"\"\".format(BODY_RADIUS, BODY_RADIUS, BODY_RADIUS / 2)\n",
    "\n",
    "def make_creature(num_legs):\n",
    "  \"\"\"Constructs a creature with `num_legs` legs.\"\"\"\n",
    "  rgba = random_state.uniform([0, 0, 0, 1], [1, 1, 1, 1])\n",
    "  spec = mj.MjSpec.from_string(creature_model)\n",
    "  spec.copy_during_attach = True\n",
    "\n",
    "  # Attach legs to equidistant sites on the circumference.\n",
    "  spec.worldbody.first_geom().rgba = rgba\n",
    "  leg = Leg(length=BODY_RADIUS, rgba=rgba)\n",
    "  for i in range(num_legs):\n",
    "    theta = 2 * i * np.pi / num_legs\n",
    "    hip_pos = BODY_RADIUS * np.array([np.cos(theta), np.sin(theta), 0])\n",
    "    hip_site = spec.worldbody.add_site(pos=hip_pos, euler=[0, 0, theta])\n",
    "    hip_site.attach_body(leg.spec.body('thigh'), '', '-' + str(i))\n",
    "\n",
    "  return spec"
   ]
  },
  {
   "cell_type": "markdown",
   "metadata": {
    "id": "865FGuntLdEL"
   },
   "source": [
    "The `make_creature` function uses the `attach()` method to procedurally attach legs to the torso. Note that at this stage both the torso and hip attachment sites are children of the `worldbody`, since their parent body has yet to be instantiated. We'll now make an arena with a chequered floor and two lights, and place our creatures in a grid."
   ]
  },
  {
   "cell_type": "code",
   "execution_count": null,
   "metadata": {
    "id": "2fPaSkgfLdEL"
   },
   "outputs": [],
   "source": [
    "#@title Six Creatures on a floor {vertical-output: true}\n",
    "\n",
    "arena = mj.MjSpec()\n",
    "\n",
    "if hasattr(arena, 'compiler'):\n",
    "  arena.compiler.degree = False  # MuJoCo dev (next release).\n",
    "else:\n",
    "  arena.degree = False  # MuJoCo release\n",
    "\n",
    "# Make arena with textured floor.\n",
    "chequered = arena.add_texture(\n",
    "    name=\"chequered\", type=mj.mjtTexture.mjTEXTURE_2D,\n",
    "    builtin=mj.mjtBuiltin.mjBUILTIN_CHECKER,\n",
    "    width=300, height=300, rgb1=[.2, .3, .4], rgb2=[.3, .4, .5])\n",
    "grid = arena.add_material(\n",
    "    name='grid', texrepeat=[5, 5], reflectance=.2\n",
    "    ).textures[mj.mjtTextureRole.mjTEXROLE_RGB] = 'chequered'\n",
    "arena.worldbody.add_geom(\n",
    "    type=mj.mjtGeom.mjGEOM_PLANE, size=[2, 2, .1], material='grid')\n",
    "for x in [-2, 2]:\n",
    "  arena.worldbody.add_light(pos=[x, -1, 3], dir=[-x, 1, -2])\n",
    "\n",
    "# Instantiate 6 creatures with 3 to 8 legs.\n",
    "creatures = [make_creature(num_legs=num_legs) for num_legs in range(3, 9)]\n",
    "\n",
    "# Place them on a grid in the arena.\n",
    "height = .15\n",
    "grid = 5 * BODY_RADIUS\n",
    "xpos, ypos, zpos = np.meshgrid([-grid, 0, grid], [0, grid], [height])\n",
    "for i, spec in enumerate(creatures):\n",
    "  # Place spawn sites on a grid.\n",
    "  spawn_pos = (xpos.flat[i], ypos.flat[i], zpos.flat[i])\n",
    "  spawn_site = arena.worldbody.add_site(pos=spawn_pos, group=3)\n",
    "  # Attach to the arena at the spawn sites, with a free joint.\n",
    "  spawn_body = spawn_site.attach_body(spec.worldbody, '', '-' + str(i))\n",
    "  spawn_body.add_freejoint()\n",
    "\n",
    "# Instantiate the physics and render.\n",
    "model = arena.compile()\n",
    "render(model)"
   ]
  },
  {
   "cell_type": "markdown",
   "metadata": {
    "id": "tq5mKlc_LdEL"
   },
   "source": [
    "Multi-legged creatures, ready to roam! Let's inject some controls and watch them move. We'll generate a sinusoidal open-loop control signal of fixed frequency and random phase, recording both video frames and the horizontal positions of the torso geoms, in order to plot the movement trajectories."
   ]
  },
  {
   "cell_type": "code",
   "execution_count": null,
   "metadata": {
    "id": "i37FpwCeLdEL"
   },
   "outputs": [],
   "source": [
    "#@title Video of the movement {vertical-output: true}\n",
    "\n",
    "data = mj.MjData(model)\n",
    "duration = 10   # (Seconds)\n",
    "framerate = 30  # (Hz)\n",
    "video = []\n",
    "pos_x = []\n",
    "pos_y = []\n",
    "geoms = arena.worldbody.find_all(mj.mjtObj.mjOBJ_GEOM)\n",
    "torsos_data = [data.bind(geom) for geom in geoms if 'torso' in geom.name]\n",
    "torsos_model = [model.bind(geom) for geom in geoms if 'torso' in geom.name]\n",
    "actuators = [data.bind(actuator) for actuator in arena.actuators]\n",
    "\n",
    "# Control signal frequency, phase, amplitude.\n",
    "freq = 5\n",
    "phase = 2 * np.pi * random_state.rand(len(arena.actuators))\n",
    "amp = 0.9\n",
    "\n",
    "# Simulate, saving video frames and torso locations.\n",
    "mj.mj_resetData(model, data)\n",
    "with mj.Renderer(model) as renderer:\n",
    "  while data.time < duration:\n",
    "    # Inject controls and step the physics.\n",
    "    for i, actuator in enumerate(actuators):\n",
    "      actuator.ctrl = amp * np.sin(freq * data.time + phase[i])\n",
    "    mj.mj_step(model, data)\n",
    "\n",
    "    # Save torso horizontal positions using name indexing.\n",
    "    pos_x.append([torso.xpos[0] for torso in torsos_data])\n",
    "    pos_y.append([torso.xpos[1] for torso in torsos_data])\n",
    "\n",
    "    # Save video frames.\n",
    "    if len(video) < data.time * framerate:\n",
    "      renderer.update_scene(data)\n",
    "      pixels = renderer.render()\n",
    "      video.append(pixels.copy())\n",
    "\n",
    "media.show_video(video, fps=framerate)"
   ]
  },
  {
   "cell_type": "code",
   "execution_count": null,
   "metadata": {
    "id": "uFrvaih4LdEL"
   },
   "outputs": [],
   "source": [
    "#@title Movement trajectories {vertical-output: true}\n",
    "\n",
    "creature_colors = [torso.rgba[:3] for torso in torsos_model]\n",
    "fig, ax = plt.subplots(figsize=(4, 4))\n",
    "ax.set_prop_cycle(color=creature_colors)\n",
    "_ = ax.plot(pos_x, pos_y, linewidth=4)"
   ]
  },
  {
   "cell_type": "markdown",
   "metadata": {
    "id": "FMW4l-fSLdEL"
   },
   "source": [
    "The plot above shows the corresponding movement trajectories of creature positions. Note how `mjSpec` attribute `id` were used to access both `xpos` and `rgba` values. This attribute is valid only after a model is compiled."
   ]
  },
  {
   "cell_type": "markdown",
   "metadata": {},
   "source": []
  }
 ],
 "metadata": {
  "accelerator": "GPU",
  "colab": {
   "collapsed_sections": [
    "sJFuNetilv4m"
   ],
   "gpuClass": "premium",
   "private_outputs": true,
   "toc_visible": true
  },
  "gpuClass": "premium",
  "kernelspec": {
   "display_name": "mujoco",
   "language": "python",
   "name": "python3"
  },
  "language_info": {
   "codemirror_mode": {
    "name": "ipython",
    "version": 3
   },
   "file_extension": ".py",
   "mimetype": "text/x-python",
   "name": "python",
   "nbconvert_exporter": "python",
   "pygments_lexer": "ipython3",
   "version": "3.10.13"
  }
 },
 "nbformat": 4,
 "nbformat_minor": 0
}
